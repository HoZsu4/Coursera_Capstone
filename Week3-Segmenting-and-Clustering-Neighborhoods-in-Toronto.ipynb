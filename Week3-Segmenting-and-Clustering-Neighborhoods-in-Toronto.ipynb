{
 "cells": [
  {
   "cell_type": "markdown",
   "metadata": {},
   "source": [
    "# Segmenting and Clustering Neighborhoods in Toronto, Canada"
   ]
  },
  {
   "cell_type": "markdown",
   "metadata": {},
   "source": [
    "## Part1"
   ]
  },
  {
   "cell_type": "markdown",
   "metadata": {},
   "source": [
    "### Import libraries"
   ]
  },
  {
   "cell_type": "code",
   "execution_count": 154,
   "metadata": {},
   "outputs": [
    {
     "name": "stdout",
     "output_type": "stream",
     "text": [
      "Requirement already satisfied: bs4 in /home/jupyterlab/conda/envs/python/lib/python3.6/site-packages (0.0.1)\n",
      "Requirement already satisfied: beautifulsoup4 in /home/jupyterlab/conda/envs/python/lib/python3.6/site-packages (from bs4) (4.9.3)\n",
      "Requirement already satisfied: soupsieve>1.2; python_version >= \"3.0\" in /home/jupyterlab/conda/envs/python/lib/python3.6/site-packages (from beautifulsoup4->bs4) (2.2)\n",
      "Requirement already satisfied: lxml==4.6.2 in /home/jupyterlab/conda/envs/python/lib/python3.6/site-packages (4.6.2)\n",
      "Collecting package metadata (current_repodata.json): done\n",
      "Solving environment: done\n",
      "\n",
      "# All requested packages already installed.\n",
      "\n",
      "Collecting package metadata (current_repodata.json): done\n",
      "Solving environment: done\n",
      "\n",
      "# All requested packages already installed.\n",
      "\n"
     ]
    }
   ],
   "source": [
    "import pandas as pd\n",
    "import numpy as np\n",
    "import requests\n",
    "\n",
    "! pip install bs4\n",
    "! pip install lxml==4.6.2\n",
    "\n",
    "from bs4 import BeautifulSoup\n",
    "\n",
    "!conda install -c conda-forge geopy --yes\n",
    "from geopy.geocoders import Nominatim\n",
    "\n",
    "!conda install -c conda-forge folium==0.5.0 --yes\n",
    "import folium \n",
    "import matplotlib.cm as cm\n",
    "import matplotlib.colors as colors"
   ]
  },
  {
   "cell_type": "markdown",
   "metadata": {},
   "source": [
    "### Scrape postal code data of Toronto from the Wikipedia website and convert it to dataframe"
   ]
  },
  {
   "cell_type": "markdown",
   "metadata": {},
   "source": [
    "Since the needed data is in a table, we can easily find it and transform into needed dataframe"
   ]
  },
  {
   "cell_type": "code",
   "execution_count": 92,
   "metadata": {},
   "outputs": [],
   "source": [
    "# Get Wikipedia html\n",
    "url = 'https://en.wikipedia.org/wiki/List_of_postal_codes_of_Canada:_M'\n",
    "response = requests.get(url)"
   ]
  },
  {
   "cell_type": "code",
   "execution_count": 135,
   "metadata": {},
   "outputs": [
    {
     "data": {
      "text/html": [
       "<div>\n",
       "<style scoped>\n",
       "    .dataframe tbody tr th:only-of-type {\n",
       "        vertical-align: middle;\n",
       "    }\n",
       "\n",
       "    .dataframe tbody tr th {\n",
       "        vertical-align: top;\n",
       "    }\n",
       "\n",
       "    .dataframe thead th {\n",
       "        text-align: right;\n",
       "    }\n",
       "</style>\n",
       "<table border=\"1\" class=\"dataframe\">\n",
       "  <thead>\n",
       "    <tr style=\"text-align: right;\">\n",
       "      <th></th>\n",
       "      <th>Postal Code</th>\n",
       "      <th>Borough</th>\n",
       "      <th>Neighbourhood</th>\n",
       "    </tr>\n",
       "  </thead>\n",
       "  <tbody>\n",
       "    <tr>\n",
       "      <th>0</th>\n",
       "      <td>M1A</td>\n",
       "      <td>Not assigned</td>\n",
       "      <td>Not assigned</td>\n",
       "    </tr>\n",
       "    <tr>\n",
       "      <th>1</th>\n",
       "      <td>M2A</td>\n",
       "      <td>Not assigned</td>\n",
       "      <td>Not assigned</td>\n",
       "    </tr>\n",
       "    <tr>\n",
       "      <th>2</th>\n",
       "      <td>M3A</td>\n",
       "      <td>North York</td>\n",
       "      <td>Parkwoods</td>\n",
       "    </tr>\n",
       "    <tr>\n",
       "      <th>3</th>\n",
       "      <td>M4A</td>\n",
       "      <td>North York</td>\n",
       "      <td>Victoria Village</td>\n",
       "    </tr>\n",
       "    <tr>\n",
       "      <th>4</th>\n",
       "      <td>M5A</td>\n",
       "      <td>Downtown Toronto</td>\n",
       "      <td>Regent Park, Harbourfront</td>\n",
       "    </tr>\n",
       "    <tr>\n",
       "      <th>5</th>\n",
       "      <td>M6A</td>\n",
       "      <td>North York</td>\n",
       "      <td>Lawrence Manor, Lawrence Heights</td>\n",
       "    </tr>\n",
       "    <tr>\n",
       "      <th>6</th>\n",
       "      <td>M7A</td>\n",
       "      <td>Downtown Toronto</td>\n",
       "      <td>Queen's Park, Ontario Provincial Government</td>\n",
       "    </tr>\n",
       "    <tr>\n",
       "      <th>7</th>\n",
       "      <td>M8A</td>\n",
       "      <td>Not assigned</td>\n",
       "      <td>Not assigned</td>\n",
       "    </tr>\n",
       "    <tr>\n",
       "      <th>8</th>\n",
       "      <td>M9A</td>\n",
       "      <td>Etobicoke</td>\n",
       "      <td>Islington Avenue, Humber Valley Village</td>\n",
       "    </tr>\n",
       "    <tr>\n",
       "      <th>9</th>\n",
       "      <td>M1B</td>\n",
       "      <td>Scarborough</td>\n",
       "      <td>Malvern, Rouge</td>\n",
       "    </tr>\n",
       "  </tbody>\n",
       "</table>\n",
       "</div>"
      ],
      "text/plain": [
       "  Postal Code           Borough                                Neighbourhood\n",
       "0         M1A      Not assigned                                 Not assigned\n",
       "1         M2A      Not assigned                                 Not assigned\n",
       "2         M3A        North York                                    Parkwoods\n",
       "3         M4A        North York                             Victoria Village\n",
       "4         M5A  Downtown Toronto                    Regent Park, Harbourfront\n",
       "5         M6A        North York             Lawrence Manor, Lawrence Heights\n",
       "6         M7A  Downtown Toronto  Queen's Park, Ontario Provincial Government\n",
       "7         M8A      Not assigned                                 Not assigned\n",
       "8         M9A         Etobicoke      Islington Avenue, Humber Valley Village\n",
       "9         M1B       Scarborough                               Malvern, Rouge"
      ]
     },
     "execution_count": 135,
     "metadata": {},
     "output_type": "execute_result"
    }
   ],
   "source": [
    "#  Use BeautifulSoup to transform html data into a dataframe\n",
    "html_data = response.text\n",
    "soup = BeautifulSoup(html_data, 'html.parser')\n",
    "table = soup.find('table')\n",
    "# Get dataframe\n",
    "toronto_df = pd.read_html(str(table))[0]\n",
    "toronto_df.head(10)"
   ]
  },
  {
   "cell_type": "markdown",
   "metadata": {},
   "source": [
    "### Prepare a dataframe with new column names, process and clean data"
   ]
  },
  {
   "cell_type": "markdown",
   "metadata": {},
   "source": [
    "Rename columns and in order to only process cells with an assigned borough, ignore cells with 'Not assigned' value for Borough"
   ]
  },
  {
   "cell_type": "code",
   "execution_count": 136,
   "metadata": {},
   "outputs": [
    {
     "data": {
      "text/html": [
       "<div>\n",
       "<style scoped>\n",
       "    .dataframe tbody tr th:only-of-type {\n",
       "        vertical-align: middle;\n",
       "    }\n",
       "\n",
       "    .dataframe tbody tr th {\n",
       "        vertical-align: top;\n",
       "    }\n",
       "\n",
       "    .dataframe thead th {\n",
       "        text-align: right;\n",
       "    }\n",
       "</style>\n",
       "<table border=\"1\" class=\"dataframe\">\n",
       "  <thead>\n",
       "    <tr style=\"text-align: right;\">\n",
       "      <th></th>\n",
       "      <th>PostalCode</th>\n",
       "      <th>Borough</th>\n",
       "      <th>Neighborhood</th>\n",
       "    </tr>\n",
       "  </thead>\n",
       "  <tbody>\n",
       "    <tr>\n",
       "      <th>0</th>\n",
       "      <td>M1A</td>\n",
       "      <td>Not assigned</td>\n",
       "      <td>Not assigned</td>\n",
       "    </tr>\n",
       "    <tr>\n",
       "      <th>1</th>\n",
       "      <td>M2A</td>\n",
       "      <td>Not assigned</td>\n",
       "      <td>Not assigned</td>\n",
       "    </tr>\n",
       "    <tr>\n",
       "      <th>2</th>\n",
       "      <td>M3A</td>\n",
       "      <td>North York</td>\n",
       "      <td>Parkwoods</td>\n",
       "    </tr>\n",
       "    <tr>\n",
       "      <th>3</th>\n",
       "      <td>M4A</td>\n",
       "      <td>North York</td>\n",
       "      <td>Victoria Village</td>\n",
       "    </tr>\n",
       "    <tr>\n",
       "      <th>4</th>\n",
       "      <td>M5A</td>\n",
       "      <td>Downtown Toronto</td>\n",
       "      <td>Regent Park, Harbourfront</td>\n",
       "    </tr>\n",
       "    <tr>\n",
       "      <th>5</th>\n",
       "      <td>M6A</td>\n",
       "      <td>North York</td>\n",
       "      <td>Lawrence Manor, Lawrence Heights</td>\n",
       "    </tr>\n",
       "    <tr>\n",
       "      <th>6</th>\n",
       "      <td>M7A</td>\n",
       "      <td>Downtown Toronto</td>\n",
       "      <td>Queen's Park, Ontario Provincial Government</td>\n",
       "    </tr>\n",
       "    <tr>\n",
       "      <th>7</th>\n",
       "      <td>M8A</td>\n",
       "      <td>Not assigned</td>\n",
       "      <td>Not assigned</td>\n",
       "    </tr>\n",
       "    <tr>\n",
       "      <th>8</th>\n",
       "      <td>M9A</td>\n",
       "      <td>Etobicoke</td>\n",
       "      <td>Islington Avenue, Humber Valley Village</td>\n",
       "    </tr>\n",
       "    <tr>\n",
       "      <th>9</th>\n",
       "      <td>M1B</td>\n",
       "      <td>Scarborough</td>\n",
       "      <td>Malvern, Rouge</td>\n",
       "    </tr>\n",
       "  </tbody>\n",
       "</table>\n",
       "</div>"
      ],
      "text/plain": [
       "  PostalCode           Borough                                 Neighborhood\n",
       "0        M1A      Not assigned                                 Not assigned\n",
       "1        M2A      Not assigned                                 Not assigned\n",
       "2        M3A        North York                                    Parkwoods\n",
       "3        M4A        North York                             Victoria Village\n",
       "4        M5A  Downtown Toronto                    Regent Park, Harbourfront\n",
       "5        M6A        North York             Lawrence Manor, Lawrence Heights\n",
       "6        M7A  Downtown Toronto  Queen's Park, Ontario Provincial Government\n",
       "7        M8A      Not assigned                                 Not assigned\n",
       "8        M9A         Etobicoke      Islington Avenue, Humber Valley Village\n",
       "9        M1B       Scarborough                               Malvern, Rouge"
      ]
     },
     "execution_count": 136,
     "metadata": {},
     "output_type": "execute_result"
    }
   ],
   "source": [
    "#Rename columns\n",
    "toronto_df.columns=['PostalCode', 'Borough','Neighborhood']\n",
    "toronto_df.head(10)"
   ]
  },
  {
   "cell_type": "code",
   "execution_count": 137,
   "metadata": {},
   "outputs": [
    {
     "data": {
      "text/html": [
       "<div>\n",
       "<style scoped>\n",
       "    .dataframe tbody tr th:only-of-type {\n",
       "        vertical-align: middle;\n",
       "    }\n",
       "\n",
       "    .dataframe tbody tr th {\n",
       "        vertical-align: top;\n",
       "    }\n",
       "\n",
       "    .dataframe thead th {\n",
       "        text-align: right;\n",
       "    }\n",
       "</style>\n",
       "<table border=\"1\" class=\"dataframe\">\n",
       "  <thead>\n",
       "    <tr style=\"text-align: right;\">\n",
       "      <th></th>\n",
       "      <th>index</th>\n",
       "      <th>PostalCode</th>\n",
       "      <th>Borough</th>\n",
       "      <th>Neighborhood</th>\n",
       "    </tr>\n",
       "  </thead>\n",
       "  <tbody>\n",
       "    <tr>\n",
       "      <th>0</th>\n",
       "      <td>2</td>\n",
       "      <td>M3A</td>\n",
       "      <td>North York</td>\n",
       "      <td>Parkwoods</td>\n",
       "    </tr>\n",
       "    <tr>\n",
       "      <th>1</th>\n",
       "      <td>3</td>\n",
       "      <td>M4A</td>\n",
       "      <td>North York</td>\n",
       "      <td>Victoria Village</td>\n",
       "    </tr>\n",
       "    <tr>\n",
       "      <th>2</th>\n",
       "      <td>4</td>\n",
       "      <td>M5A</td>\n",
       "      <td>Downtown Toronto</td>\n",
       "      <td>Regent Park, Harbourfront</td>\n",
       "    </tr>\n",
       "    <tr>\n",
       "      <th>3</th>\n",
       "      <td>5</td>\n",
       "      <td>M6A</td>\n",
       "      <td>North York</td>\n",
       "      <td>Lawrence Manor, Lawrence Heights</td>\n",
       "    </tr>\n",
       "    <tr>\n",
       "      <th>4</th>\n",
       "      <td>6</td>\n",
       "      <td>M7A</td>\n",
       "      <td>Downtown Toronto</td>\n",
       "      <td>Queen's Park, Ontario Provincial Government</td>\n",
       "    </tr>\n",
       "    <tr>\n",
       "      <th>5</th>\n",
       "      <td>8</td>\n",
       "      <td>M9A</td>\n",
       "      <td>Etobicoke</td>\n",
       "      <td>Islington Avenue, Humber Valley Village</td>\n",
       "    </tr>\n",
       "    <tr>\n",
       "      <th>6</th>\n",
       "      <td>9</td>\n",
       "      <td>M1B</td>\n",
       "      <td>Scarborough</td>\n",
       "      <td>Malvern, Rouge</td>\n",
       "    </tr>\n",
       "    <tr>\n",
       "      <th>7</th>\n",
       "      <td>11</td>\n",
       "      <td>M3B</td>\n",
       "      <td>North York</td>\n",
       "      <td>Don Mills</td>\n",
       "    </tr>\n",
       "    <tr>\n",
       "      <th>8</th>\n",
       "      <td>12</td>\n",
       "      <td>M4B</td>\n",
       "      <td>East York</td>\n",
       "      <td>Parkview Hill, Woodbine Gardens</td>\n",
       "    </tr>\n",
       "    <tr>\n",
       "      <th>9</th>\n",
       "      <td>13</td>\n",
       "      <td>M5B</td>\n",
       "      <td>Downtown Toronto</td>\n",
       "      <td>Garden District, Ryerson</td>\n",
       "    </tr>\n",
       "  </tbody>\n",
       "</table>\n",
       "</div>"
      ],
      "text/plain": [
       "   index PostalCode           Borough  \\\n",
       "0      2        M3A        North York   \n",
       "1      3        M4A        North York   \n",
       "2      4        M5A  Downtown Toronto   \n",
       "3      5        M6A        North York   \n",
       "4      6        M7A  Downtown Toronto   \n",
       "5      8        M9A         Etobicoke   \n",
       "6      9        M1B       Scarborough   \n",
       "7     11        M3B        North York   \n",
       "8     12        M4B         East York   \n",
       "9     13        M5B  Downtown Toronto   \n",
       "\n",
       "                                  Neighborhood  \n",
       "0                                    Parkwoods  \n",
       "1                             Victoria Village  \n",
       "2                    Regent Park, Harbourfront  \n",
       "3             Lawrence Manor, Lawrence Heights  \n",
       "4  Queen's Park, Ontario Provincial Government  \n",
       "5      Islington Avenue, Humber Valley Village  \n",
       "6                               Malvern, Rouge  \n",
       "7                                    Don Mills  \n",
       "8              Parkview Hill, Woodbine Gardens  \n",
       "9                     Garden District, Ryerson  "
      ]
     },
     "execution_count": 137,
     "metadata": {},
     "output_type": "execute_result"
    }
   ],
   "source": [
    "#Remove 'Not assignmed' values from Borough\n",
    "toronto_df = toronto_df[toronto_df['Borough'].str.contains(\"Not assigned\") == False].reset_index()\n",
    "toronto_df.head(10)"
   ]
  },
  {
   "cell_type": "markdown",
   "metadata": {},
   "source": [
    "#### If a cell has a borough but the neighborhood is 'Not assigned', then the 'Neighborhood' value becomes the same as'Borough' value "
   ]
  },
  {
   "cell_type": "code",
   "execution_count": 138,
   "metadata": {},
   "outputs": [
    {
     "data": {
      "text/html": [
       "<div>\n",
       "<style scoped>\n",
       "    .dataframe tbody tr th:only-of-type {\n",
       "        vertical-align: middle;\n",
       "    }\n",
       "\n",
       "    .dataframe tbody tr th {\n",
       "        vertical-align: top;\n",
       "    }\n",
       "\n",
       "    .dataframe thead th {\n",
       "        text-align: right;\n",
       "    }\n",
       "</style>\n",
       "<table border=\"1\" class=\"dataframe\">\n",
       "  <thead>\n",
       "    <tr style=\"text-align: right;\">\n",
       "      <th></th>\n",
       "      <th>index</th>\n",
       "      <th>PostalCode</th>\n",
       "      <th>Borough</th>\n",
       "      <th>Neighborhood</th>\n",
       "    </tr>\n",
       "  </thead>\n",
       "  <tbody>\n",
       "    <tr>\n",
       "      <th>0</th>\n",
       "      <td>2</td>\n",
       "      <td>M3A</td>\n",
       "      <td>North York</td>\n",
       "      <td>Parkwoods</td>\n",
       "    </tr>\n",
       "    <tr>\n",
       "      <th>1</th>\n",
       "      <td>3</td>\n",
       "      <td>M4A</td>\n",
       "      <td>North York</td>\n",
       "      <td>Victoria Village</td>\n",
       "    </tr>\n",
       "    <tr>\n",
       "      <th>2</th>\n",
       "      <td>4</td>\n",
       "      <td>M5A</td>\n",
       "      <td>Downtown Toronto</td>\n",
       "      <td>Regent Park, Harbourfront</td>\n",
       "    </tr>\n",
       "    <tr>\n",
       "      <th>3</th>\n",
       "      <td>5</td>\n",
       "      <td>M6A</td>\n",
       "      <td>North York</td>\n",
       "      <td>Lawrence Manor, Lawrence Heights</td>\n",
       "    </tr>\n",
       "    <tr>\n",
       "      <th>4</th>\n",
       "      <td>6</td>\n",
       "      <td>M7A</td>\n",
       "      <td>Downtown Toronto</td>\n",
       "      <td>Queen's Park, Ontario Provincial Government</td>\n",
       "    </tr>\n",
       "    <tr>\n",
       "      <th>5</th>\n",
       "      <td>8</td>\n",
       "      <td>M9A</td>\n",
       "      <td>Etobicoke</td>\n",
       "      <td>Islington Avenue, Humber Valley Village</td>\n",
       "    </tr>\n",
       "    <tr>\n",
       "      <th>6</th>\n",
       "      <td>9</td>\n",
       "      <td>M1B</td>\n",
       "      <td>Scarborough</td>\n",
       "      <td>Malvern, Rouge</td>\n",
       "    </tr>\n",
       "    <tr>\n",
       "      <th>7</th>\n",
       "      <td>11</td>\n",
       "      <td>M3B</td>\n",
       "      <td>North York</td>\n",
       "      <td>Don Mills</td>\n",
       "    </tr>\n",
       "    <tr>\n",
       "      <th>8</th>\n",
       "      <td>12</td>\n",
       "      <td>M4B</td>\n",
       "      <td>East York</td>\n",
       "      <td>Parkview Hill, Woodbine Gardens</td>\n",
       "    </tr>\n",
       "    <tr>\n",
       "      <th>9</th>\n",
       "      <td>13</td>\n",
       "      <td>M5B</td>\n",
       "      <td>Downtown Toronto</td>\n",
       "      <td>Garden District, Ryerson</td>\n",
       "    </tr>\n",
       "  </tbody>\n",
       "</table>\n",
       "</div>"
      ],
      "text/plain": [
       "   index PostalCode           Borough  \\\n",
       "0      2        M3A        North York   \n",
       "1      3        M4A        North York   \n",
       "2      4        M5A  Downtown Toronto   \n",
       "3      5        M6A        North York   \n",
       "4      6        M7A  Downtown Toronto   \n",
       "5      8        M9A         Etobicoke   \n",
       "6      9        M1B       Scarborough   \n",
       "7     11        M3B        North York   \n",
       "8     12        M4B         East York   \n",
       "9     13        M5B  Downtown Toronto   \n",
       "\n",
       "                                  Neighborhood  \n",
       "0                                    Parkwoods  \n",
       "1                             Victoria Village  \n",
       "2                    Regent Park, Harbourfront  \n",
       "3             Lawrence Manor, Lawrence Heights  \n",
       "4  Queen's Park, Ontario Provincial Government  \n",
       "5      Islington Avenue, Humber Valley Village  \n",
       "6                               Malvern, Rouge  \n",
       "7                                    Don Mills  \n",
       "8              Parkview Hill, Woodbine Gardens  \n",
       "9                     Garden District, Ryerson  "
      ]
     },
     "execution_count": 138,
     "metadata": {},
     "output_type": "execute_result"
    }
   ],
   "source": [
    "toronto_df.loc[toronto_df['Neighborhood'] =='Not assigned' , 'Neighborhood'] = toronto_df['Borough']\n",
    "toronto_df.head(10)\n"
   ]
  },
  {
   "cell_type": "markdown",
   "metadata": {},
   "source": [
    "#### Group neighborhoods with the same postal code together"
   ]
  },
  {
   "cell_type": "code",
   "execution_count": 140,
   "metadata": {},
   "outputs": [
    {
     "data": {
      "text/html": [
       "<div>\n",
       "<style scoped>\n",
       "    .dataframe tbody tr th:only-of-type {\n",
       "        vertical-align: middle;\n",
       "    }\n",
       "\n",
       "    .dataframe tbody tr th {\n",
       "        vertical-align: top;\n",
       "    }\n",
       "\n",
       "    .dataframe thead th {\n",
       "        text-align: right;\n",
       "    }\n",
       "</style>\n",
       "<table border=\"1\" class=\"dataframe\">\n",
       "  <thead>\n",
       "    <tr style=\"text-align: right;\">\n",
       "      <th></th>\n",
       "      <th>PostalCode</th>\n",
       "      <th>Borough</th>\n",
       "      <th>Neighborhood</th>\n",
       "    </tr>\n",
       "  </thead>\n",
       "  <tbody>\n",
       "    <tr>\n",
       "      <th>0</th>\n",
       "      <td>M1B</td>\n",
       "      <td>Scarborough</td>\n",
       "      <td>Malvern, Rouge</td>\n",
       "    </tr>\n",
       "    <tr>\n",
       "      <th>1</th>\n",
       "      <td>M1C</td>\n",
       "      <td>Scarborough</td>\n",
       "      <td>Rouge Hill, Port Union, Highland Creek</td>\n",
       "    </tr>\n",
       "    <tr>\n",
       "      <th>2</th>\n",
       "      <td>M1E</td>\n",
       "      <td>Scarborough</td>\n",
       "      <td>Guildwood, Morningside, West Hill</td>\n",
       "    </tr>\n",
       "    <tr>\n",
       "      <th>3</th>\n",
       "      <td>M1G</td>\n",
       "      <td>Scarborough</td>\n",
       "      <td>Woburn</td>\n",
       "    </tr>\n",
       "    <tr>\n",
       "      <th>4</th>\n",
       "      <td>M1H</td>\n",
       "      <td>Scarborough</td>\n",
       "      <td>Cedarbrae</td>\n",
       "    </tr>\n",
       "    <tr>\n",
       "      <th>5</th>\n",
       "      <td>M1J</td>\n",
       "      <td>Scarborough</td>\n",
       "      <td>Scarborough Village</td>\n",
       "    </tr>\n",
       "    <tr>\n",
       "      <th>6</th>\n",
       "      <td>M1K</td>\n",
       "      <td>Scarborough</td>\n",
       "      <td>Kennedy Park, Ionview, East Birchmount Park</td>\n",
       "    </tr>\n",
       "    <tr>\n",
       "      <th>7</th>\n",
       "      <td>M1L</td>\n",
       "      <td>Scarborough</td>\n",
       "      <td>Golden Mile, Clairlea, Oakridge</td>\n",
       "    </tr>\n",
       "    <tr>\n",
       "      <th>8</th>\n",
       "      <td>M1M</td>\n",
       "      <td>Scarborough</td>\n",
       "      <td>Cliffside, Cliffcrest, Scarborough Village West</td>\n",
       "    </tr>\n",
       "    <tr>\n",
       "      <th>9</th>\n",
       "      <td>M1N</td>\n",
       "      <td>Scarborough</td>\n",
       "      <td>Birch Cliff, Cliffside West</td>\n",
       "    </tr>\n",
       "  </tbody>\n",
       "</table>\n",
       "</div>"
      ],
      "text/plain": [
       "  PostalCode      Borough                                     Neighborhood\n",
       "0        M1B  Scarborough                                   Malvern, Rouge\n",
       "1        M1C  Scarborough           Rouge Hill, Port Union, Highland Creek\n",
       "2        M1E  Scarborough                Guildwood, Morningside, West Hill\n",
       "3        M1G  Scarborough                                           Woburn\n",
       "4        M1H  Scarborough                                        Cedarbrae\n",
       "5        M1J  Scarborough                              Scarborough Village\n",
       "6        M1K  Scarborough      Kennedy Park, Ionview, East Birchmount Park\n",
       "7        M1L  Scarborough                  Golden Mile, Clairlea, Oakridge\n",
       "8        M1M  Scarborough  Cliffside, Cliffcrest, Scarborough Village West\n",
       "9        M1N  Scarborough                      Birch Cliff, Cliffside West"
      ]
     },
     "execution_count": 140,
     "metadata": {},
     "output_type": "execute_result"
    }
   ],
   "source": [
    "toronto = toronto_df.groupby(['PostalCode','Borough'])['Neighborhood'].apply(','.join).reset_index()\n",
    "toronto.head(10)"
   ]
  },
  {
   "cell_type": "code",
   "execution_count": 141,
   "metadata": {},
   "outputs": [
    {
     "data": {
      "text/plain": [
       "(103, 3)"
      ]
     },
     "execution_count": 141,
     "metadata": {},
     "output_type": "execute_result"
    }
   ],
   "source": [
    "# Find number of rows in dataframe\n",
    "toronto.shape"
   ]
  },
  {
   "cell_type": "markdown",
   "metadata": {},
   "source": [
    "## Part 2"
   ]
  },
  {
   "cell_type": "markdown",
   "metadata": {},
   "source": [
    "The provided csv file is used to get the latitude and the longitude coordinates of each neighborhood."
   ]
  },
  {
   "cell_type": "code",
   "execution_count": 142,
   "metadata": {},
   "outputs": [
    {
     "data": {
      "text/html": [
       "<div>\n",
       "<style scoped>\n",
       "    .dataframe tbody tr th:only-of-type {\n",
       "        vertical-align: middle;\n",
       "    }\n",
       "\n",
       "    .dataframe tbody tr th {\n",
       "        vertical-align: top;\n",
       "    }\n",
       "\n",
       "    .dataframe thead th {\n",
       "        text-align: right;\n",
       "    }\n",
       "</style>\n",
       "<table border=\"1\" class=\"dataframe\">\n",
       "  <thead>\n",
       "    <tr style=\"text-align: right;\">\n",
       "      <th></th>\n",
       "      <th>Postal Code</th>\n",
       "      <th>Latitude</th>\n",
       "      <th>Longitude</th>\n",
       "    </tr>\n",
       "  </thead>\n",
       "  <tbody>\n",
       "    <tr>\n",
       "      <th>0</th>\n",
       "      <td>M1B</td>\n",
       "      <td>43.806686</td>\n",
       "      <td>-79.194353</td>\n",
       "    </tr>\n",
       "    <tr>\n",
       "      <th>1</th>\n",
       "      <td>M1C</td>\n",
       "      <td>43.784535</td>\n",
       "      <td>-79.160497</td>\n",
       "    </tr>\n",
       "    <tr>\n",
       "      <th>2</th>\n",
       "      <td>M1E</td>\n",
       "      <td>43.763573</td>\n",
       "      <td>-79.188711</td>\n",
       "    </tr>\n",
       "    <tr>\n",
       "      <th>3</th>\n",
       "      <td>M1G</td>\n",
       "      <td>43.770992</td>\n",
       "      <td>-79.216917</td>\n",
       "    </tr>\n",
       "    <tr>\n",
       "      <th>4</th>\n",
       "      <td>M1H</td>\n",
       "      <td>43.773136</td>\n",
       "      <td>-79.239476</td>\n",
       "    </tr>\n",
       "  </tbody>\n",
       "</table>\n",
       "</div>"
      ],
      "text/plain": [
       "  Postal Code   Latitude  Longitude\n",
       "0         M1B  43.806686 -79.194353\n",
       "1         M1C  43.784535 -79.160497\n",
       "2         M1E  43.763573 -79.188711\n",
       "3         M1G  43.770992 -79.216917\n",
       "4         M1H  43.773136 -79.239476"
      ]
     },
     "execution_count": 142,
     "metadata": {},
     "output_type": "execute_result"
    }
   ],
   "source": [
    "#Get csv and turn data into dataframe\n",
    "url = 'https://cocl.us/Geospatial_data/Geospatial_Coordinates.csv' \n",
    "df_geo=pd.read_csv(url)\n",
    "df_geo.head()"
   ]
  },
  {
   "cell_type": "code",
   "execution_count": 143,
   "metadata": {},
   "outputs": [
    {
     "data": {
      "text/html": [
       "<div>\n",
       "<style scoped>\n",
       "    .dataframe tbody tr th:only-of-type {\n",
       "        vertical-align: middle;\n",
       "    }\n",
       "\n",
       "    .dataframe tbody tr th {\n",
       "        vertical-align: top;\n",
       "    }\n",
       "\n",
       "    .dataframe thead th {\n",
       "        text-align: right;\n",
       "    }\n",
       "</style>\n",
       "<table border=\"1\" class=\"dataframe\">\n",
       "  <thead>\n",
       "    <tr style=\"text-align: right;\">\n",
       "      <th></th>\n",
       "      <th>PostalCode</th>\n",
       "      <th>Latitude</th>\n",
       "      <th>Longitude</th>\n",
       "    </tr>\n",
       "  </thead>\n",
       "  <tbody>\n",
       "    <tr>\n",
       "      <th>0</th>\n",
       "      <td>M1B</td>\n",
       "      <td>43.806686</td>\n",
       "      <td>-79.194353</td>\n",
       "    </tr>\n",
       "    <tr>\n",
       "      <th>1</th>\n",
       "      <td>M1C</td>\n",
       "      <td>43.784535</td>\n",
       "      <td>-79.160497</td>\n",
       "    </tr>\n",
       "    <tr>\n",
       "      <th>2</th>\n",
       "      <td>M1E</td>\n",
       "      <td>43.763573</td>\n",
       "      <td>-79.188711</td>\n",
       "    </tr>\n",
       "    <tr>\n",
       "      <th>3</th>\n",
       "      <td>M1G</td>\n",
       "      <td>43.770992</td>\n",
       "      <td>-79.216917</td>\n",
       "    </tr>\n",
       "    <tr>\n",
       "      <th>4</th>\n",
       "      <td>M1H</td>\n",
       "      <td>43.773136</td>\n",
       "      <td>-79.239476</td>\n",
       "    </tr>\n",
       "  </tbody>\n",
       "</table>\n",
       "</div>"
      ],
      "text/plain": [
       "  PostalCode   Latitude  Longitude\n",
       "0        M1B  43.806686 -79.194353\n",
       "1        M1C  43.784535 -79.160497\n",
       "2        M1E  43.763573 -79.188711\n",
       "3        M1G  43.770992 -79.216917\n",
       "4        M1H  43.773136 -79.239476"
      ]
     },
     "execution_count": 143,
     "metadata": {},
     "output_type": "execute_result"
    }
   ],
   "source": [
    "#Rename column\n",
    "df_geo.rename(columns={'Postal Code':'PostalCode'}, inplace=True)\n",
    "df_geo.head()"
   ]
  },
  {
   "cell_type": "code",
   "execution_count": 144,
   "metadata": {},
   "outputs": [
    {
     "data": {
      "text/plain": [
       "(103, 3)"
      ]
     },
     "execution_count": 144,
     "metadata": {},
     "output_type": "execute_result"
    }
   ],
   "source": [
    "# Get number of rows in df_geo dataframe\n",
    "df_geo.shape"
   ]
  },
  {
   "cell_type": "markdown",
   "metadata": {},
   "source": [
    "#### The two dataframes have the same number of rows.\n",
    "#### We can merge the first dataframe including borough and neighborhood name with df_geo dataframe on the 'PostalCode column' to add latitude and longitude information."
   ]
  },
  {
   "cell_type": "code",
   "execution_count": 145,
   "metadata": {},
   "outputs": [
    {
     "data": {
      "text/html": [
       "<div>\n",
       "<style scoped>\n",
       "    .dataframe tbody tr th:only-of-type {\n",
       "        vertical-align: middle;\n",
       "    }\n",
       "\n",
       "    .dataframe tbody tr th {\n",
       "        vertical-align: top;\n",
       "    }\n",
       "\n",
       "    .dataframe thead th {\n",
       "        text-align: right;\n",
       "    }\n",
       "</style>\n",
       "<table border=\"1\" class=\"dataframe\">\n",
       "  <thead>\n",
       "    <tr style=\"text-align: right;\">\n",
       "      <th></th>\n",
       "      <th>PostalCode</th>\n",
       "      <th>Borough</th>\n",
       "      <th>Neighborhood</th>\n",
       "      <th>Latitude</th>\n",
       "      <th>Longitude</th>\n",
       "    </tr>\n",
       "  </thead>\n",
       "  <tbody>\n",
       "    <tr>\n",
       "      <th>0</th>\n",
       "      <td>M1B</td>\n",
       "      <td>Scarborough</td>\n",
       "      <td>Malvern, Rouge</td>\n",
       "      <td>43.806686</td>\n",
       "      <td>-79.194353</td>\n",
       "    </tr>\n",
       "    <tr>\n",
       "      <th>1</th>\n",
       "      <td>M1C</td>\n",
       "      <td>Scarborough</td>\n",
       "      <td>Rouge Hill, Port Union, Highland Creek</td>\n",
       "      <td>43.784535</td>\n",
       "      <td>-79.160497</td>\n",
       "    </tr>\n",
       "    <tr>\n",
       "      <th>2</th>\n",
       "      <td>M1E</td>\n",
       "      <td>Scarborough</td>\n",
       "      <td>Guildwood, Morningside, West Hill</td>\n",
       "      <td>43.763573</td>\n",
       "      <td>-79.188711</td>\n",
       "    </tr>\n",
       "    <tr>\n",
       "      <th>3</th>\n",
       "      <td>M1G</td>\n",
       "      <td>Scarborough</td>\n",
       "      <td>Woburn</td>\n",
       "      <td>43.770992</td>\n",
       "      <td>-79.216917</td>\n",
       "    </tr>\n",
       "    <tr>\n",
       "      <th>4</th>\n",
       "      <td>M1H</td>\n",
       "      <td>Scarborough</td>\n",
       "      <td>Cedarbrae</td>\n",
       "      <td>43.773136</td>\n",
       "      <td>-79.239476</td>\n",
       "    </tr>\n",
       "  </tbody>\n",
       "</table>\n",
       "</div>"
      ],
      "text/plain": [
       "  PostalCode      Borough                            Neighborhood   Latitude  \\\n",
       "0        M1B  Scarborough                          Malvern, Rouge  43.806686   \n",
       "1        M1C  Scarborough  Rouge Hill, Port Union, Highland Creek  43.784535   \n",
       "2        M1E  Scarborough       Guildwood, Morningside, West Hill  43.763573   \n",
       "3        M1G  Scarborough                                  Woburn  43.770992   \n",
       "4        M1H  Scarborough                               Cedarbrae  43.773136   \n",
       "\n",
       "   Longitude  \n",
       "0 -79.194353  \n",
       "1 -79.160497  \n",
       "2 -79.188711  \n",
       "3 -79.216917  \n",
       "4 -79.239476  "
      ]
     },
     "execution_count": 145,
     "metadata": {},
     "output_type": "execute_result"
    }
   ],
   "source": [
    "toronto = pd.merge(toronto, df_geo, on = 'PostalCode')\n",
    "toronto.head()"
   ]
  },
  {
   "cell_type": "code",
   "execution_count": 74,
   "metadata": {},
   "outputs": [
    {
     "data": {
      "text/plain": [
       "(103, 4)"
      ]
     },
     "execution_count": 74,
     "metadata": {},
     "output_type": "execute_result"
    }
   ],
   "source": [
    "#Get number of rows in new combined dataframe\n",
    "toronto.shape"
   ]
  },
  {
   "cell_type": "markdown",
   "metadata": {},
   "source": [
    "## Part 3"
   ]
  },
  {
   "cell_type": "markdown",
   "metadata": {},
   "source": [
    "#### Only Boroughs that contain the word Toronto will be used to generate map and visualize the neighborhoods and clusters"
   ]
  },
  {
   "cell_type": "code",
   "execution_count": 146,
   "metadata": {},
   "outputs": [
    {
     "data": {
      "text/html": [
       "<div>\n",
       "<style scoped>\n",
       "    .dataframe tbody tr th:only-of-type {\n",
       "        vertical-align: middle;\n",
       "    }\n",
       "\n",
       "    .dataframe tbody tr th {\n",
       "        vertical-align: top;\n",
       "    }\n",
       "\n",
       "    .dataframe thead th {\n",
       "        text-align: right;\n",
       "    }\n",
       "</style>\n",
       "<table border=\"1\" class=\"dataframe\">\n",
       "  <thead>\n",
       "    <tr style=\"text-align: right;\">\n",
       "      <th></th>\n",
       "      <th>PostalCode</th>\n",
       "      <th>Borough</th>\n",
       "      <th>Neighborhood</th>\n",
       "      <th>Latitude</th>\n",
       "      <th>Longitude</th>\n",
       "    </tr>\n",
       "  </thead>\n",
       "  <tbody>\n",
       "    <tr>\n",
       "      <th>0</th>\n",
       "      <td>M4E</td>\n",
       "      <td>East Toronto</td>\n",
       "      <td>The Beaches</td>\n",
       "      <td>43.676357</td>\n",
       "      <td>-79.293031</td>\n",
       "    </tr>\n",
       "    <tr>\n",
       "      <th>1</th>\n",
       "      <td>M4K</td>\n",
       "      <td>East Toronto</td>\n",
       "      <td>The Danforth West, Riverdale</td>\n",
       "      <td>43.679557</td>\n",
       "      <td>-79.352188</td>\n",
       "    </tr>\n",
       "    <tr>\n",
       "      <th>2</th>\n",
       "      <td>M4L</td>\n",
       "      <td>East Toronto</td>\n",
       "      <td>India Bazaar, The Beaches West</td>\n",
       "      <td>43.668999</td>\n",
       "      <td>-79.315572</td>\n",
       "    </tr>\n",
       "    <tr>\n",
       "      <th>3</th>\n",
       "      <td>M4M</td>\n",
       "      <td>East Toronto</td>\n",
       "      <td>Studio District</td>\n",
       "      <td>43.659526</td>\n",
       "      <td>-79.340923</td>\n",
       "    </tr>\n",
       "    <tr>\n",
       "      <th>4</th>\n",
       "      <td>M4N</td>\n",
       "      <td>Central Toronto</td>\n",
       "      <td>Lawrence Park</td>\n",
       "      <td>43.728020</td>\n",
       "      <td>-79.388790</td>\n",
       "    </tr>\n",
       "  </tbody>\n",
       "</table>\n",
       "</div>"
      ],
      "text/plain": [
       "  PostalCode          Borough                    Neighborhood   Latitude  \\\n",
       "0        M4E     East Toronto                     The Beaches  43.676357   \n",
       "1        M4K     East Toronto    The Danforth West, Riverdale  43.679557   \n",
       "2        M4L     East Toronto  India Bazaar, The Beaches West  43.668999   \n",
       "3        M4M     East Toronto                 Studio District  43.659526   \n",
       "4        M4N  Central Toronto                   Lawrence Park  43.728020   \n",
       "\n",
       "   Longitude  \n",
       "0 -79.293031  \n",
       "1 -79.352188  \n",
       "2 -79.315572  \n",
       "3 -79.340923  \n",
       "4 -79.388790  "
      ]
     },
     "execution_count": 146,
     "metadata": {},
     "output_type": "execute_result"
    }
   ],
   "source": [
    "# Get dataframe with only the boroughs that contain Toronto\n",
    "toronto = toronto[toronto['Borough'].str.contains('Toronto')]\n",
    "toronto = toronto.reset_index(drop=True)\n",
    "toronto.head()"
   ]
  },
  {
   "cell_type": "code",
   "execution_count": 147,
   "metadata": {},
   "outputs": [
    {
     "data": {
      "text/plain": [
       "(40, 5)"
      ]
     },
     "execution_count": 147,
     "metadata": {},
     "output_type": "execute_result"
    }
   ],
   "source": [
    "# Get the number of values in dataframe\n",
    "toronto.shape"
   ]
  },
  {
   "cell_type": "markdown",
   "metadata": {},
   "source": [
    "#### The Borough data is used to create a new 'Label' and dataframe for clustering"
   ]
  },
  {
   "cell_type": "code",
   "execution_count": 148,
   "metadata": {},
   "outputs": [
    {
     "data": {
      "text/plain": [
       "Downtown Toronto    19\n",
       "Central Toronto      9\n",
       "West Toronto         6\n",
       "East Toronto         5\n",
       "Toronto/York         1\n",
       "Name: Borough, dtype: int64"
      ]
     },
     "execution_count": 148,
     "metadata": {},
     "output_type": "execute_result"
    }
   ],
   "source": [
    "# Get values in Borough\n",
    "toronto['Borough'].value_counts()"
   ]
  },
  {
   "cell_type": "markdown",
   "metadata": {},
   "source": [
    "There are 5 boroughs and 40 different postal codes"
   ]
  },
  {
   "cell_type": "markdown",
   "metadata": {},
   "source": [
    "#### New 'Label' column is created and Borough data is added as integer"
   ]
  },
  {
   "cell_type": "code",
   "execution_count": 151,
   "metadata": {},
   "outputs": [
    {
     "data": {
      "text/html": [
       "<div>\n",
       "<style scoped>\n",
       "    .dataframe tbody tr th:only-of-type {\n",
       "        vertical-align: middle;\n",
       "    }\n",
       "\n",
       "    .dataframe tbody tr th {\n",
       "        vertical-align: top;\n",
       "    }\n",
       "\n",
       "    .dataframe thead th {\n",
       "        text-align: right;\n",
       "    }\n",
       "</style>\n",
       "<table border=\"1\" class=\"dataframe\">\n",
       "  <thead>\n",
       "    <tr style=\"text-align: right;\">\n",
       "      <th></th>\n",
       "      <th>PostalCode</th>\n",
       "      <th>Borough</th>\n",
       "      <th>Neighborhood</th>\n",
       "      <th>Latitude</th>\n",
       "      <th>Longitude</th>\n",
       "      <th>Label</th>\n",
       "    </tr>\n",
       "  </thead>\n",
       "  <tbody>\n",
       "    <tr>\n",
       "      <th>0</th>\n",
       "      <td>M4E</td>\n",
       "      <td>East Toronto</td>\n",
       "      <td>The Beaches</td>\n",
       "      <td>43.676357</td>\n",
       "      <td>-79.293031</td>\n",
       "      <td>4</td>\n",
       "    </tr>\n",
       "    <tr>\n",
       "      <th>1</th>\n",
       "      <td>M4K</td>\n",
       "      <td>East Toronto</td>\n",
       "      <td>The Danforth West, Riverdale</td>\n",
       "      <td>43.679557</td>\n",
       "      <td>-79.352188</td>\n",
       "      <td>4</td>\n",
       "    </tr>\n",
       "    <tr>\n",
       "      <th>2</th>\n",
       "      <td>M4L</td>\n",
       "      <td>East Toronto</td>\n",
       "      <td>India Bazaar, The Beaches West</td>\n",
       "      <td>43.668999</td>\n",
       "      <td>-79.315572</td>\n",
       "      <td>4</td>\n",
       "    </tr>\n",
       "    <tr>\n",
       "      <th>3</th>\n",
       "      <td>M4M</td>\n",
       "      <td>East Toronto</td>\n",
       "      <td>Studio District</td>\n",
       "      <td>43.659526</td>\n",
       "      <td>-79.340923</td>\n",
       "      <td>4</td>\n",
       "    </tr>\n",
       "    <tr>\n",
       "      <th>4</th>\n",
       "      <td>M4N</td>\n",
       "      <td>Central Toronto</td>\n",
       "      <td>Lawrence Park</td>\n",
       "      <td>43.728020</td>\n",
       "      <td>-79.388790</td>\n",
       "      <td>2</td>\n",
       "    </tr>\n",
       "  </tbody>\n",
       "</table>\n",
       "</div>"
      ],
      "text/plain": [
       "  PostalCode          Borough                    Neighborhood   Latitude  \\\n",
       "0        M4E     East Toronto                     The Beaches  43.676357   \n",
       "1        M4K     East Toronto    The Danforth West, Riverdale  43.679557   \n",
       "2        M4L     East Toronto  India Bazaar, The Beaches West  43.668999   \n",
       "3        M4M     East Toronto                 Studio District  43.659526   \n",
       "4        M4N  Central Toronto                   Lawrence Park  43.728020   \n",
       "\n",
       "   Longitude  Label  \n",
       "0 -79.293031      4  \n",
       "1 -79.352188      4  \n",
       "2 -79.315572      4  \n",
       "3 -79.340923      4  \n",
       "4 -79.388790      2  "
      ]
     },
     "execution_count": 151,
     "metadata": {},
     "output_type": "execute_result"
    }
   ],
   "source": [
    "toronto['Label'] = toronto['Borough'].replace(to_replace=['Downtown Toronto','Central Toronto','West Toronto','East Toronto','Toronto/York'], \n",
    "                                              value=[1,2,3,4,5], inplace=False)\n",
    "toronto.head(5)"
   ]
  },
  {
   "cell_type": "markdown",
   "metadata": {},
   "source": [
    "#### The geographical coordinates of Toronto are called for visualization"
   ]
  },
  {
   "cell_type": "code",
   "execution_count": 157,
   "metadata": {},
   "outputs": [
    {
     "name": "stdout",
     "output_type": "stream",
     "text": [
      "The geographical coordinates of Toronto are 43.6534817, -79.3839347.\n"
     ]
    }
   ],
   "source": [
    "address = 'Toronto'\n",
    "geolocator = Nominatim(user_agent = 'toronto_explorer')\n",
    "location = geolocator.geocode(address)\n",
    "latitude = location.latitude\n",
    "longitude = location.longitude\n",
    "print('The geographical coordinates of Toronto are {}, {}.'.format(latitude, longitude))"
   ]
  },
  {
   "cell_type": "markdown",
   "metadata": {},
   "source": [
    "#### Map of clusters is prepared"
   ]
  },
  {
   "cell_type": "code",
   "execution_count": 183,
   "metadata": {},
   "outputs": [
    {
     "data": {
      "text/html": [
       "<div style=\"width:100%;\"><div style=\"position:relative;width:100%;height:0;padding-bottom:60%;\"><span style=\"color:#565656\">Make this Notebook Trusted to load map: File -> Trust Notebook</span><iframe src=\"about:blank\" style=\"position:absolute;width:100%;height:100%;left:0;top:0;border:none !important;\" data-html=%3C%21DOCTYPE%20html%3E%0A%3Chead%3E%20%20%20%20%0A%20%20%20%20%3Cmeta%20http-equiv%3D%22content-type%22%20content%3D%22text/html%3B%20charset%3DUTF-8%22%20/%3E%0A%20%20%20%20%3Cscript%3EL_PREFER_CANVAS%20%3D%20false%3B%20L_NO_TOUCH%20%3D%20false%3B%20L_DISABLE_3D%20%3D%20false%3B%3C/script%3E%0A%20%20%20%20%3Cscript%20src%3D%22https%3A//cdn.jsdelivr.net/npm/leaflet%401.2.0/dist/leaflet.js%22%3E%3C/script%3E%0A%20%20%20%20%3Cscript%20src%3D%22https%3A//ajax.googleapis.com/ajax/libs/jquery/1.11.1/jquery.min.js%22%3E%3C/script%3E%0A%20%20%20%20%3Cscript%20src%3D%22https%3A//maxcdn.bootstrapcdn.com/bootstrap/3.2.0/js/bootstrap.min.js%22%3E%3C/script%3E%0A%20%20%20%20%3Cscript%20src%3D%22https%3A//cdnjs.cloudflare.com/ajax/libs/Leaflet.awesome-markers/2.0.2/leaflet.awesome-markers.js%22%3E%3C/script%3E%0A%20%20%20%20%3Clink%20rel%3D%22stylesheet%22%20href%3D%22https%3A//cdn.jsdelivr.net/npm/leaflet%401.2.0/dist/leaflet.css%22/%3E%0A%20%20%20%20%3Clink%20rel%3D%22stylesheet%22%20href%3D%22https%3A//maxcdn.bootstrapcdn.com/bootstrap/3.2.0/css/bootstrap.min.css%22/%3E%0A%20%20%20%20%3Clink%20rel%3D%22stylesheet%22%20href%3D%22https%3A//maxcdn.bootstrapcdn.com/bootstrap/3.2.0/css/bootstrap-theme.min.css%22/%3E%0A%20%20%20%20%3Clink%20rel%3D%22stylesheet%22%20href%3D%22https%3A//maxcdn.bootstrapcdn.com/font-awesome/4.6.3/css/font-awesome.min.css%22/%3E%0A%20%20%20%20%3Clink%20rel%3D%22stylesheet%22%20href%3D%22https%3A//cdnjs.cloudflare.com/ajax/libs/Leaflet.awesome-markers/2.0.2/leaflet.awesome-markers.css%22/%3E%0A%20%20%20%20%3Clink%20rel%3D%22stylesheet%22%20href%3D%22https%3A//rawgit.com/python-visualization/folium/master/folium/templates/leaflet.awesome.rotate.css%22/%3E%0A%20%20%20%20%3Cstyle%3Ehtml%2C%20body%20%7Bwidth%3A%20100%25%3Bheight%3A%20100%25%3Bmargin%3A%200%3Bpadding%3A%200%3B%7D%3C/style%3E%0A%20%20%20%20%3Cstyle%3E%23map%20%7Bposition%3Aabsolute%3Btop%3A0%3Bbottom%3A0%3Bright%3A0%3Bleft%3A0%3B%7D%3C/style%3E%0A%20%20%20%20%0A%20%20%20%20%20%20%20%20%20%20%20%20%3Cstyle%3E%20%23map_ed2ab0e34e4644d2b40a800f7470c804%20%7B%0A%20%20%20%20%20%20%20%20%20%20%20%20%20%20%20%20position%20%3A%20relative%3B%0A%20%20%20%20%20%20%20%20%20%20%20%20%20%20%20%20width%20%3A%20100.0%25%3B%0A%20%20%20%20%20%20%20%20%20%20%20%20%20%20%20%20height%3A%20100.0%25%3B%0A%20%20%20%20%20%20%20%20%20%20%20%20%20%20%20%20left%3A%200.0%25%3B%0A%20%20%20%20%20%20%20%20%20%20%20%20%20%20%20%20top%3A%200.0%25%3B%0A%20%20%20%20%20%20%20%20%20%20%20%20%20%20%20%20%7D%0A%20%20%20%20%20%20%20%20%20%20%20%20%3C/style%3E%0A%20%20%20%20%20%20%20%20%0A%3C/head%3E%0A%3Cbody%3E%20%20%20%20%0A%20%20%20%20%0A%20%20%20%20%20%20%20%20%20%20%20%20%3Cdiv%20class%3D%22folium-map%22%20id%3D%22map_ed2ab0e34e4644d2b40a800f7470c804%22%20%3E%3C/div%3E%0A%20%20%20%20%20%20%20%20%0A%3C/body%3E%0A%3Cscript%3E%20%20%20%20%0A%20%20%20%20%0A%0A%20%20%20%20%20%20%20%20%20%20%20%20%0A%20%20%20%20%20%20%20%20%20%20%20%20%20%20%20%20var%20bounds%20%3D%20null%3B%0A%20%20%20%20%20%20%20%20%20%20%20%20%0A%0A%20%20%20%20%20%20%20%20%20%20%20%20var%20map_ed2ab0e34e4644d2b40a800f7470c804%20%3D%20L.map%28%0A%20%20%20%20%20%20%20%20%20%20%20%20%20%20%20%20%20%20%20%20%20%20%20%20%20%20%20%20%20%20%20%20%20%20%27map_ed2ab0e34e4644d2b40a800f7470c804%27%2C%0A%20%20%20%20%20%20%20%20%20%20%20%20%20%20%20%20%20%20%20%20%20%20%20%20%20%20%20%20%20%20%20%20%20%20%7Bcenter%3A%20%5B43.6534817%2C-79.3839347%5D%2C%0A%20%20%20%20%20%20%20%20%20%20%20%20%20%20%20%20%20%20%20%20%20%20%20%20%20%20%20%20%20%20%20%20%20%20zoom%3A%2011%2C%0A%20%20%20%20%20%20%20%20%20%20%20%20%20%20%20%20%20%20%20%20%20%20%20%20%20%20%20%20%20%20%20%20%20%20maxBounds%3A%20bounds%2C%0A%20%20%20%20%20%20%20%20%20%20%20%20%20%20%20%20%20%20%20%20%20%20%20%20%20%20%20%20%20%20%20%20%20%20layers%3A%20%5B%5D%2C%0A%20%20%20%20%20%20%20%20%20%20%20%20%20%20%20%20%20%20%20%20%20%20%20%20%20%20%20%20%20%20%20%20%20%20worldCopyJump%3A%20false%2C%0A%20%20%20%20%20%20%20%20%20%20%20%20%20%20%20%20%20%20%20%20%20%20%20%20%20%20%20%20%20%20%20%20%20%20crs%3A%20L.CRS.EPSG3857%0A%20%20%20%20%20%20%20%20%20%20%20%20%20%20%20%20%20%20%20%20%20%20%20%20%20%20%20%20%20%20%20%20%20%7D%29%3B%0A%20%20%20%20%20%20%20%20%20%20%20%20%0A%20%20%20%20%20%20%20%20%0A%20%20%20%20%0A%20%20%20%20%20%20%20%20%20%20%20%20var%20tile_layer_5993f7bf8ae841e0ba822f6e56cfca6e%20%3D%20L.tileLayer%28%0A%20%20%20%20%20%20%20%20%20%20%20%20%20%20%20%20%27https%3A//%7Bs%7D.tile.openstreetmap.org/%7Bz%7D/%7Bx%7D/%7By%7D.png%27%2C%0A%20%20%20%20%20%20%20%20%20%20%20%20%20%20%20%20%7B%0A%20%20%22attribution%22%3A%20null%2C%0A%20%20%22detectRetina%22%3A%20false%2C%0A%20%20%22maxZoom%22%3A%2018%2C%0A%20%20%22minZoom%22%3A%201%2C%0A%20%20%22noWrap%22%3A%20false%2C%0A%20%20%22subdomains%22%3A%20%22abc%22%0A%7D%0A%20%20%20%20%20%20%20%20%20%20%20%20%20%20%20%20%29.addTo%28map_ed2ab0e34e4644d2b40a800f7470c804%29%3B%0A%20%20%20%20%20%20%20%20%0A%20%20%20%20%0A%20%20%20%20%20%20%20%20%20%20%20%20var%20circle_marker_ea82b094a58a42c295b36f0c43d2044c%20%3D%20L.circleMarker%28%0A%20%20%20%20%20%20%20%20%20%20%20%20%20%20%20%20%5B43.67635739999999%2C-79.2930312%5D%2C%0A%20%20%20%20%20%20%20%20%20%20%20%20%20%20%20%20%7B%0A%20%20%22bubblingMouseEvents%22%3A%20true%2C%0A%20%20%22color%22%3A%20%22%23ffb360%22%2C%0A%20%20%22dashArray%22%3A%20null%2C%0A%20%20%22dashOffset%22%3A%20null%2C%0A%20%20%22fill%22%3A%20true%2C%0A%20%20%22fillColor%22%3A%20%22%23ffb360%22%2C%0A%20%20%22fillOpacity%22%3A%200.7%2C%0A%20%20%22fillRule%22%3A%20%22evenodd%22%2C%0A%20%20%22lineCap%22%3A%20%22round%22%2C%0A%20%20%22lineJoin%22%3A%20%22round%22%2C%0A%20%20%22opacity%22%3A%201.0%2C%0A%20%20%22radius%22%3A%205%2C%0A%20%20%22stroke%22%3A%20true%2C%0A%20%20%22weight%22%3A%203%0A%7D%0A%20%20%20%20%20%20%20%20%20%20%20%20%20%20%20%20%29.addTo%28map_ed2ab0e34e4644d2b40a800f7470c804%29%3B%0A%20%20%20%20%20%20%20%20%20%20%20%20%0A%20%20%20%20%0A%20%20%20%20%20%20%20%20%20%20%20%20var%20popup_08614ad1b5c344c3b748c4b3de58067d%20%3D%20L.popup%28%7BmaxWidth%3A%20%27300%27%7D%29%3B%0A%0A%20%20%20%20%20%20%20%20%20%20%20%20%0A%20%20%20%20%20%20%20%20%20%20%20%20%20%20%20%20var%20html_04a3d35606964898ab4f7ebb7f1dc979%20%3D%20%24%28%27%3Cdiv%20id%3D%22html_04a3d35606964898ab4f7ebb7f1dc979%22%20style%3D%22width%3A%20100.0%25%3B%20height%3A%20100.0%25%3B%22%3E0%20%20%20%20%20%20%20%20%20East%20Toronto%201%20%20%20%20%20%20%20%20%20East%20Toronto%202%20%20%20%20%20%20%20%20%20East%20Toronto%203%20%20%20%20%20%20%20%20%20East%20Toronto%204%20%20%20%20%20%20Central%20Toronto%205%20%20%20%20%20%20Central%20Toronto%206%20%20%20%20%20%20Central%20Toronto%207%20%20%20%20%20%20Central%20Toronto%208%20%20%20%20%20%20Central%20Toronto%209%20%20%20%20%20%20Central%20Toronto%2010%20%20%20%20Downtown%20Toronto%2011%20%20%20%20Downtown%20Toronto%2012%20%20%20%20Downtown%20Toronto%2013%20%20%20%20Downtown%20Toronto%2014%20%20%20%20Downtown%20Toronto%2015%20%20%20%20Downtown%20Toronto%2016%20%20%20%20Downtown%20Toronto%2017%20%20%20%20Downtown%20Toronto%2018%20%20%20%20Downtown%20Toronto%2019%20%20%20%20Downtown%20Toronto%2020%20%20%20%20Downtown%20Toronto%2021%20%20%20%20Downtown%20Toronto%2022%20%20%20%20%20Central%20Toronto%2023%20%20%20%20%20Central%20Toronto%2024%20%20%20%20%20Central%20Toronto%2025%20%20%20%20Downtown%20Toronto%2026%20%20%20%20Downtown%20Toronto%2027%20%20%20%20Downtown%20Toronto%2028%20%20%20%20Downtown%20Toronto%2029%20%20%20%20Downtown%20Toronto%2030%20%20%20%20Downtown%20Toronto%2031%20%20%20%20%20%20%20%20West%20Toronto%2032%20%20%20%20%20%20%20%20West%20Toronto%2033%20%20%20%20%20%20%20%20West%20Toronto%2034%20%20%20%20%20%20%20%20Toronto/York%2035%20%20%20%20%20%20%20%20West%20Toronto%2036%20%20%20%20%20%20%20%20West%20Toronto%2037%20%20%20%20%20%20%20%20West%20Toronto%2038%20%20%20%20Downtown%20Toronto%2039%20%20%20%20%20%20%20%20East%20Toronto%20Name%3A%20Borough%2C%20dtype%3A%20objectCluster4%3C/div%3E%27%29%5B0%5D%3B%0A%20%20%20%20%20%20%20%20%20%20%20%20%20%20%20%20popup_08614ad1b5c344c3b748c4b3de58067d.setContent%28html_04a3d35606964898ab4f7ebb7f1dc979%29%3B%0A%20%20%20%20%20%20%20%20%20%20%20%20%0A%0A%20%20%20%20%20%20%20%20%20%20%20%20circle_marker_ea82b094a58a42c295b36f0c43d2044c.bindPopup%28popup_08614ad1b5c344c3b748c4b3de58067d%29%3B%0A%0A%20%20%20%20%20%20%20%20%20%20%20%20%0A%20%20%20%20%20%20%20%20%0A%20%20%20%20%0A%20%20%20%20%20%20%20%20%20%20%20%20var%20circle_marker_e66778dc116c4dc0b76c55c7c5c78ad7%20%3D%20L.circleMarker%28%0A%20%20%20%20%20%20%20%20%20%20%20%20%20%20%20%20%5B43.6795571%2C-79.352188%5D%2C%0A%20%20%20%20%20%20%20%20%20%20%20%20%20%20%20%20%7B%0A%20%20%22bubblingMouseEvents%22%3A%20true%2C%0A%20%20%22color%22%3A%20%22%23ffb360%22%2C%0A%20%20%22dashArray%22%3A%20null%2C%0A%20%20%22dashOffset%22%3A%20null%2C%0A%20%20%22fill%22%3A%20true%2C%0A%20%20%22fillColor%22%3A%20%22%23ffb360%22%2C%0A%20%20%22fillOpacity%22%3A%200.7%2C%0A%20%20%22fillRule%22%3A%20%22evenodd%22%2C%0A%20%20%22lineCap%22%3A%20%22round%22%2C%0A%20%20%22lineJoin%22%3A%20%22round%22%2C%0A%20%20%22opacity%22%3A%201.0%2C%0A%20%20%22radius%22%3A%205%2C%0A%20%20%22stroke%22%3A%20true%2C%0A%20%20%22weight%22%3A%203%0A%7D%0A%20%20%20%20%20%20%20%20%20%20%20%20%20%20%20%20%29.addTo%28map_ed2ab0e34e4644d2b40a800f7470c804%29%3B%0A%20%20%20%20%20%20%20%20%20%20%20%20%0A%20%20%20%20%0A%20%20%20%20%20%20%20%20%20%20%20%20var%20popup_d89c4d996d634cea920b268b7926a240%20%3D%20L.popup%28%7BmaxWidth%3A%20%27300%27%7D%29%3B%0A%0A%20%20%20%20%20%20%20%20%20%20%20%20%0A%20%20%20%20%20%20%20%20%20%20%20%20%20%20%20%20var%20html_a6f82d97c0e64b3e8880c5c6393cfae4%20%3D%20%24%28%27%3Cdiv%20id%3D%22html_a6f82d97c0e64b3e8880c5c6393cfae4%22%20style%3D%22width%3A%20100.0%25%3B%20height%3A%20100.0%25%3B%22%3E0%20%20%20%20%20%20%20%20%20East%20Toronto%201%20%20%20%20%20%20%20%20%20East%20Toronto%202%20%20%20%20%20%20%20%20%20East%20Toronto%203%20%20%20%20%20%20%20%20%20East%20Toronto%204%20%20%20%20%20%20Central%20Toronto%205%20%20%20%20%20%20Central%20Toronto%206%20%20%20%20%20%20Central%20Toronto%207%20%20%20%20%20%20Central%20Toronto%208%20%20%20%20%20%20Central%20Toronto%209%20%20%20%20%20%20Central%20Toronto%2010%20%20%20%20Downtown%20Toronto%2011%20%20%20%20Downtown%20Toronto%2012%20%20%20%20Downtown%20Toronto%2013%20%20%20%20Downtown%20Toronto%2014%20%20%20%20Downtown%20Toronto%2015%20%20%20%20Downtown%20Toronto%2016%20%20%20%20Downtown%20Toronto%2017%20%20%20%20Downtown%20Toronto%2018%20%20%20%20Downtown%20Toronto%2019%20%20%20%20Downtown%20Toronto%2020%20%20%20%20Downtown%20Toronto%2021%20%20%20%20Downtown%20Toronto%2022%20%20%20%20%20Central%20Toronto%2023%20%20%20%20%20Central%20Toronto%2024%20%20%20%20%20Central%20Toronto%2025%20%20%20%20Downtown%20Toronto%2026%20%20%20%20Downtown%20Toronto%2027%20%20%20%20Downtown%20Toronto%2028%20%20%20%20Downtown%20Toronto%2029%20%20%20%20Downtown%20Toronto%2030%20%20%20%20Downtown%20Toronto%2031%20%20%20%20%20%20%20%20West%20Toronto%2032%20%20%20%20%20%20%20%20West%20Toronto%2033%20%20%20%20%20%20%20%20West%20Toronto%2034%20%20%20%20%20%20%20%20Toronto/York%2035%20%20%20%20%20%20%20%20West%20Toronto%2036%20%20%20%20%20%20%20%20West%20Toronto%2037%20%20%20%20%20%20%20%20West%20Toronto%2038%20%20%20%20Downtown%20Toronto%2039%20%20%20%20%20%20%20%20East%20Toronto%20Name%3A%20Borough%2C%20dtype%3A%20objectCluster4%3C/div%3E%27%29%5B0%5D%3B%0A%20%20%20%20%20%20%20%20%20%20%20%20%20%20%20%20popup_d89c4d996d634cea920b268b7926a240.setContent%28html_a6f82d97c0e64b3e8880c5c6393cfae4%29%3B%0A%20%20%20%20%20%20%20%20%20%20%20%20%0A%0A%20%20%20%20%20%20%20%20%20%20%20%20circle_marker_e66778dc116c4dc0b76c55c7c5c78ad7.bindPopup%28popup_d89c4d996d634cea920b268b7926a240%29%3B%0A%0A%20%20%20%20%20%20%20%20%20%20%20%20%0A%20%20%20%20%20%20%20%20%0A%20%20%20%20%0A%20%20%20%20%20%20%20%20%20%20%20%20var%20circle_marker_10207022e3e14c589e904243e516f31b%20%3D%20L.circleMarker%28%0A%20%20%20%20%20%20%20%20%20%20%20%20%20%20%20%20%5B43.6689985%2C-79.31557159999998%5D%2C%0A%20%20%20%20%20%20%20%20%20%20%20%20%20%20%20%20%7B%0A%20%20%22bubblingMouseEvents%22%3A%20true%2C%0A%20%20%22color%22%3A%20%22%23ffb360%22%2C%0A%20%20%22dashArray%22%3A%20null%2C%0A%20%20%22dashOffset%22%3A%20null%2C%0A%20%20%22fill%22%3A%20true%2C%0A%20%20%22fillColor%22%3A%20%22%23ffb360%22%2C%0A%20%20%22fillOpacity%22%3A%200.7%2C%0A%20%20%22fillRule%22%3A%20%22evenodd%22%2C%0A%20%20%22lineCap%22%3A%20%22round%22%2C%0A%20%20%22lineJoin%22%3A%20%22round%22%2C%0A%20%20%22opacity%22%3A%201.0%2C%0A%20%20%22radius%22%3A%205%2C%0A%20%20%22stroke%22%3A%20true%2C%0A%20%20%22weight%22%3A%203%0A%7D%0A%20%20%20%20%20%20%20%20%20%20%20%20%20%20%20%20%29.addTo%28map_ed2ab0e34e4644d2b40a800f7470c804%29%3B%0A%20%20%20%20%20%20%20%20%20%20%20%20%0A%20%20%20%20%0A%20%20%20%20%20%20%20%20%20%20%20%20var%20popup_f2d319977f714de7b34fad58d317e2c1%20%3D%20L.popup%28%7BmaxWidth%3A%20%27300%27%7D%29%3B%0A%0A%20%20%20%20%20%20%20%20%20%20%20%20%0A%20%20%20%20%20%20%20%20%20%20%20%20%20%20%20%20var%20html_b8803b5e52fd4726b493daaebf97c28c%20%3D%20%24%28%27%3Cdiv%20id%3D%22html_b8803b5e52fd4726b493daaebf97c28c%22%20style%3D%22width%3A%20100.0%25%3B%20height%3A%20100.0%25%3B%22%3E0%20%20%20%20%20%20%20%20%20East%20Toronto%201%20%20%20%20%20%20%20%20%20East%20Toronto%202%20%20%20%20%20%20%20%20%20East%20Toronto%203%20%20%20%20%20%20%20%20%20East%20Toronto%204%20%20%20%20%20%20Central%20Toronto%205%20%20%20%20%20%20Central%20Toronto%206%20%20%20%20%20%20Central%20Toronto%207%20%20%20%20%20%20Central%20Toronto%208%20%20%20%20%20%20Central%20Toronto%209%20%20%20%20%20%20Central%20Toronto%2010%20%20%20%20Downtown%20Toronto%2011%20%20%20%20Downtown%20Toronto%2012%20%20%20%20Downtown%20Toronto%2013%20%20%20%20Downtown%20Toronto%2014%20%20%20%20Downtown%20Toronto%2015%20%20%20%20Downtown%20Toronto%2016%20%20%20%20Downtown%20Toronto%2017%20%20%20%20Downtown%20Toronto%2018%20%20%20%20Downtown%20Toronto%2019%20%20%20%20Downtown%20Toronto%2020%20%20%20%20Downtown%20Toronto%2021%20%20%20%20Downtown%20Toronto%2022%20%20%20%20%20Central%20Toronto%2023%20%20%20%20%20Central%20Toronto%2024%20%20%20%20%20Central%20Toronto%2025%20%20%20%20Downtown%20Toronto%2026%20%20%20%20Downtown%20Toronto%2027%20%20%20%20Downtown%20Toronto%2028%20%20%20%20Downtown%20Toronto%2029%20%20%20%20Downtown%20Toronto%2030%20%20%20%20Downtown%20Toronto%2031%20%20%20%20%20%20%20%20West%20Toronto%2032%20%20%20%20%20%20%20%20West%20Toronto%2033%20%20%20%20%20%20%20%20West%20Toronto%2034%20%20%20%20%20%20%20%20Toronto/York%2035%20%20%20%20%20%20%20%20West%20Toronto%2036%20%20%20%20%20%20%20%20West%20Toronto%2037%20%20%20%20%20%20%20%20West%20Toronto%2038%20%20%20%20Downtown%20Toronto%2039%20%20%20%20%20%20%20%20East%20Toronto%20Name%3A%20Borough%2C%20dtype%3A%20objectCluster4%3C/div%3E%27%29%5B0%5D%3B%0A%20%20%20%20%20%20%20%20%20%20%20%20%20%20%20%20popup_f2d319977f714de7b34fad58d317e2c1.setContent%28html_b8803b5e52fd4726b493daaebf97c28c%29%3B%0A%20%20%20%20%20%20%20%20%20%20%20%20%0A%0A%20%20%20%20%20%20%20%20%20%20%20%20circle_marker_10207022e3e14c589e904243e516f31b.bindPopup%28popup_f2d319977f714de7b34fad58d317e2c1%29%3B%0A%0A%20%20%20%20%20%20%20%20%20%20%20%20%0A%20%20%20%20%20%20%20%20%0A%20%20%20%20%0A%20%20%20%20%20%20%20%20%20%20%20%20var%20circle_marker_5e079c2dcd7b44279d9c39e9b6b8f238%20%3D%20L.circleMarker%28%0A%20%20%20%20%20%20%20%20%20%20%20%20%20%20%20%20%5B43.6595255%2C-79.340923%5D%2C%0A%20%20%20%20%20%20%20%20%20%20%20%20%20%20%20%20%7B%0A%20%20%22bubblingMouseEvents%22%3A%20true%2C%0A%20%20%22color%22%3A%20%22%23ffb360%22%2C%0A%20%20%22dashArray%22%3A%20null%2C%0A%20%20%22dashOffset%22%3A%20null%2C%0A%20%20%22fill%22%3A%20true%2C%0A%20%20%22fillColor%22%3A%20%22%23ffb360%22%2C%0A%20%20%22fillOpacity%22%3A%200.7%2C%0A%20%20%22fillRule%22%3A%20%22evenodd%22%2C%0A%20%20%22lineCap%22%3A%20%22round%22%2C%0A%20%20%22lineJoin%22%3A%20%22round%22%2C%0A%20%20%22opacity%22%3A%201.0%2C%0A%20%20%22radius%22%3A%205%2C%0A%20%20%22stroke%22%3A%20true%2C%0A%20%20%22weight%22%3A%203%0A%7D%0A%20%20%20%20%20%20%20%20%20%20%20%20%20%20%20%20%29.addTo%28map_ed2ab0e34e4644d2b40a800f7470c804%29%3B%0A%20%20%20%20%20%20%20%20%20%20%20%20%0A%20%20%20%20%0A%20%20%20%20%20%20%20%20%20%20%20%20var%20popup_d0ca3faac4ff43df97185a123ef6a352%20%3D%20L.popup%28%7BmaxWidth%3A%20%27300%27%7D%29%3B%0A%0A%20%20%20%20%20%20%20%20%20%20%20%20%0A%20%20%20%20%20%20%20%20%20%20%20%20%20%20%20%20var%20html_30aa891352d74481b8904bd65e704de0%20%3D%20%24%28%27%3Cdiv%20id%3D%22html_30aa891352d74481b8904bd65e704de0%22%20style%3D%22width%3A%20100.0%25%3B%20height%3A%20100.0%25%3B%22%3E0%20%20%20%20%20%20%20%20%20East%20Toronto%201%20%20%20%20%20%20%20%20%20East%20Toronto%202%20%20%20%20%20%20%20%20%20East%20Toronto%203%20%20%20%20%20%20%20%20%20East%20Toronto%204%20%20%20%20%20%20Central%20Toronto%205%20%20%20%20%20%20Central%20Toronto%206%20%20%20%20%20%20Central%20Toronto%207%20%20%20%20%20%20Central%20Toronto%208%20%20%20%20%20%20Central%20Toronto%209%20%20%20%20%20%20Central%20Toronto%2010%20%20%20%20Downtown%20Toronto%2011%20%20%20%20Downtown%20Toronto%2012%20%20%20%20Downtown%20Toronto%2013%20%20%20%20Downtown%20Toronto%2014%20%20%20%20Downtown%20Toronto%2015%20%20%20%20Downtown%20Toronto%2016%20%20%20%20Downtown%20Toronto%2017%20%20%20%20Downtown%20Toronto%2018%20%20%20%20Downtown%20Toronto%2019%20%20%20%20Downtown%20Toronto%2020%20%20%20%20Downtown%20Toronto%2021%20%20%20%20Downtown%20Toronto%2022%20%20%20%20%20Central%20Toronto%2023%20%20%20%20%20Central%20Toronto%2024%20%20%20%20%20Central%20Toronto%2025%20%20%20%20Downtown%20Toronto%2026%20%20%20%20Downtown%20Toronto%2027%20%20%20%20Downtown%20Toronto%2028%20%20%20%20Downtown%20Toronto%2029%20%20%20%20Downtown%20Toronto%2030%20%20%20%20Downtown%20Toronto%2031%20%20%20%20%20%20%20%20West%20Toronto%2032%20%20%20%20%20%20%20%20West%20Toronto%2033%20%20%20%20%20%20%20%20West%20Toronto%2034%20%20%20%20%20%20%20%20Toronto/York%2035%20%20%20%20%20%20%20%20West%20Toronto%2036%20%20%20%20%20%20%20%20West%20Toronto%2037%20%20%20%20%20%20%20%20West%20Toronto%2038%20%20%20%20Downtown%20Toronto%2039%20%20%20%20%20%20%20%20East%20Toronto%20Name%3A%20Borough%2C%20dtype%3A%20objectCluster4%3C/div%3E%27%29%5B0%5D%3B%0A%20%20%20%20%20%20%20%20%20%20%20%20%20%20%20%20popup_d0ca3faac4ff43df97185a123ef6a352.setContent%28html_30aa891352d74481b8904bd65e704de0%29%3B%0A%20%20%20%20%20%20%20%20%20%20%20%20%0A%0A%20%20%20%20%20%20%20%20%20%20%20%20circle_marker_5e079c2dcd7b44279d9c39e9b6b8f238.bindPopup%28popup_d0ca3faac4ff43df97185a123ef6a352%29%3B%0A%0A%20%20%20%20%20%20%20%20%20%20%20%20%0A%20%20%20%20%20%20%20%20%0A%20%20%20%20%0A%20%20%20%20%20%20%20%20%20%20%20%20var%20circle_marker_a8537b8ed6724257bb9fac1b552766ec%20%3D%20L.circleMarker%28%0A%20%20%20%20%20%20%20%20%20%20%20%20%20%20%20%20%5B43.7280205%2C-79.3887901%5D%2C%0A%20%20%20%20%20%20%20%20%20%20%20%20%20%20%20%20%7B%0A%20%20%22bubblingMouseEvents%22%3A%20true%2C%0A%20%20%22color%22%3A%20%22%2300b5eb%22%2C%0A%20%20%22dashArray%22%3A%20null%2C%0A%20%20%22dashOffset%22%3A%20null%2C%0A%20%20%22fill%22%3A%20true%2C%0A%20%20%22fillColor%22%3A%20%22%2300b5eb%22%2C%0A%20%20%22fillOpacity%22%3A%200.7%2C%0A%20%20%22fillRule%22%3A%20%22evenodd%22%2C%0A%20%20%22lineCap%22%3A%20%22round%22%2C%0A%20%20%22lineJoin%22%3A%20%22round%22%2C%0A%20%20%22opacity%22%3A%201.0%2C%0A%20%20%22radius%22%3A%205%2C%0A%20%20%22stroke%22%3A%20true%2C%0A%20%20%22weight%22%3A%203%0A%7D%0A%20%20%20%20%20%20%20%20%20%20%20%20%20%20%20%20%29.addTo%28map_ed2ab0e34e4644d2b40a800f7470c804%29%3B%0A%20%20%20%20%20%20%20%20%20%20%20%20%0A%20%20%20%20%0A%20%20%20%20%20%20%20%20%20%20%20%20var%20popup_5d0c9b0ca60c458cb6b945bdc77dbd9c%20%3D%20L.popup%28%7BmaxWidth%3A%20%27300%27%7D%29%3B%0A%0A%20%20%20%20%20%20%20%20%20%20%20%20%0A%20%20%20%20%20%20%20%20%20%20%20%20%20%20%20%20var%20html_b6eb47f944d944ae95261b8ef9256343%20%3D%20%24%28%27%3Cdiv%20id%3D%22html_b6eb47f944d944ae95261b8ef9256343%22%20style%3D%22width%3A%20100.0%25%3B%20height%3A%20100.0%25%3B%22%3E0%20%20%20%20%20%20%20%20%20East%20Toronto%201%20%20%20%20%20%20%20%20%20East%20Toronto%202%20%20%20%20%20%20%20%20%20East%20Toronto%203%20%20%20%20%20%20%20%20%20East%20Toronto%204%20%20%20%20%20%20Central%20Toronto%205%20%20%20%20%20%20Central%20Toronto%206%20%20%20%20%20%20Central%20Toronto%207%20%20%20%20%20%20Central%20Toronto%208%20%20%20%20%20%20Central%20Toronto%209%20%20%20%20%20%20Central%20Toronto%2010%20%20%20%20Downtown%20Toronto%2011%20%20%20%20Downtown%20Toronto%2012%20%20%20%20Downtown%20Toronto%2013%20%20%20%20Downtown%20Toronto%2014%20%20%20%20Downtown%20Toronto%2015%20%20%20%20Downtown%20Toronto%2016%20%20%20%20Downtown%20Toronto%2017%20%20%20%20Downtown%20Toronto%2018%20%20%20%20Downtown%20Toronto%2019%20%20%20%20Downtown%20Toronto%2020%20%20%20%20Downtown%20Toronto%2021%20%20%20%20Downtown%20Toronto%2022%20%20%20%20%20Central%20Toronto%2023%20%20%20%20%20Central%20Toronto%2024%20%20%20%20%20Central%20Toronto%2025%20%20%20%20Downtown%20Toronto%2026%20%20%20%20Downtown%20Toronto%2027%20%20%20%20Downtown%20Toronto%2028%20%20%20%20Downtown%20Toronto%2029%20%20%20%20Downtown%20Toronto%2030%20%20%20%20Downtown%20Toronto%2031%20%20%20%20%20%20%20%20West%20Toronto%2032%20%20%20%20%20%20%20%20West%20Toronto%2033%20%20%20%20%20%20%20%20West%20Toronto%2034%20%20%20%20%20%20%20%20Toronto/York%2035%20%20%20%20%20%20%20%20West%20Toronto%2036%20%20%20%20%20%20%20%20West%20Toronto%2037%20%20%20%20%20%20%20%20West%20Toronto%2038%20%20%20%20Downtown%20Toronto%2039%20%20%20%20%20%20%20%20East%20Toronto%20Name%3A%20Borough%2C%20dtype%3A%20objectCluster2%3C/div%3E%27%29%5B0%5D%3B%0A%20%20%20%20%20%20%20%20%20%20%20%20%20%20%20%20popup_5d0c9b0ca60c458cb6b945bdc77dbd9c.setContent%28html_b6eb47f944d944ae95261b8ef9256343%29%3B%0A%20%20%20%20%20%20%20%20%20%20%20%20%0A%0A%20%20%20%20%20%20%20%20%20%20%20%20circle_marker_a8537b8ed6724257bb9fac1b552766ec.bindPopup%28popup_5d0c9b0ca60c458cb6b945bdc77dbd9c%29%3B%0A%0A%20%20%20%20%20%20%20%20%20%20%20%20%0A%20%20%20%20%20%20%20%20%0A%20%20%20%20%0A%20%20%20%20%20%20%20%20%20%20%20%20var%20circle_marker_315cd452fc6b4d35b61a0684af922248%20%3D%20L.circleMarker%28%0A%20%20%20%20%20%20%20%20%20%20%20%20%20%20%20%20%5B43.7127511%2C-79.3901975%5D%2C%0A%20%20%20%20%20%20%20%20%20%20%20%20%20%20%20%20%7B%0A%20%20%22bubblingMouseEvents%22%3A%20true%2C%0A%20%20%22color%22%3A%20%22%2300b5eb%22%2C%0A%20%20%22dashArray%22%3A%20null%2C%0A%20%20%22dashOffset%22%3A%20null%2C%0A%20%20%22fill%22%3A%20true%2C%0A%20%20%22fillColor%22%3A%20%22%2300b5eb%22%2C%0A%20%20%22fillOpacity%22%3A%200.7%2C%0A%20%20%22fillRule%22%3A%20%22evenodd%22%2C%0A%20%20%22lineCap%22%3A%20%22round%22%2C%0A%20%20%22lineJoin%22%3A%20%22round%22%2C%0A%20%20%22opacity%22%3A%201.0%2C%0A%20%20%22radius%22%3A%205%2C%0A%20%20%22stroke%22%3A%20true%2C%0A%20%20%22weight%22%3A%203%0A%7D%0A%20%20%20%20%20%20%20%20%20%20%20%20%20%20%20%20%29.addTo%28map_ed2ab0e34e4644d2b40a800f7470c804%29%3B%0A%20%20%20%20%20%20%20%20%20%20%20%20%0A%20%20%20%20%0A%20%20%20%20%20%20%20%20%20%20%20%20var%20popup_8cae058d0ba64654b446ff08e8e5129f%20%3D%20L.popup%28%7BmaxWidth%3A%20%27300%27%7D%29%3B%0A%0A%20%20%20%20%20%20%20%20%20%20%20%20%0A%20%20%20%20%20%20%20%20%20%20%20%20%20%20%20%20var%20html_994509f436b647089b2f72f10fa59282%20%3D%20%24%28%27%3Cdiv%20id%3D%22html_994509f436b647089b2f72f10fa59282%22%20style%3D%22width%3A%20100.0%25%3B%20height%3A%20100.0%25%3B%22%3E0%20%20%20%20%20%20%20%20%20East%20Toronto%201%20%20%20%20%20%20%20%20%20East%20Toronto%202%20%20%20%20%20%20%20%20%20East%20Toronto%203%20%20%20%20%20%20%20%20%20East%20Toronto%204%20%20%20%20%20%20Central%20Toronto%205%20%20%20%20%20%20Central%20Toronto%206%20%20%20%20%20%20Central%20Toronto%207%20%20%20%20%20%20Central%20Toronto%208%20%20%20%20%20%20Central%20Toronto%209%20%20%20%20%20%20Central%20Toronto%2010%20%20%20%20Downtown%20Toronto%2011%20%20%20%20Downtown%20Toronto%2012%20%20%20%20Downtown%20Toronto%2013%20%20%20%20Downtown%20Toronto%2014%20%20%20%20Downtown%20Toronto%2015%20%20%20%20Downtown%20Toronto%2016%20%20%20%20Downtown%20Toronto%2017%20%20%20%20Downtown%20Toronto%2018%20%20%20%20Downtown%20Toronto%2019%20%20%20%20Downtown%20Toronto%2020%20%20%20%20Downtown%20Toronto%2021%20%20%20%20Downtown%20Toronto%2022%20%20%20%20%20Central%20Toronto%2023%20%20%20%20%20Central%20Toronto%2024%20%20%20%20%20Central%20Toronto%2025%20%20%20%20Downtown%20Toronto%2026%20%20%20%20Downtown%20Toronto%2027%20%20%20%20Downtown%20Toronto%2028%20%20%20%20Downtown%20Toronto%2029%20%20%20%20Downtown%20Toronto%2030%20%20%20%20Downtown%20Toronto%2031%20%20%20%20%20%20%20%20West%20Toronto%2032%20%20%20%20%20%20%20%20West%20Toronto%2033%20%20%20%20%20%20%20%20West%20Toronto%2034%20%20%20%20%20%20%20%20Toronto/York%2035%20%20%20%20%20%20%20%20West%20Toronto%2036%20%20%20%20%20%20%20%20West%20Toronto%2037%20%20%20%20%20%20%20%20West%20Toronto%2038%20%20%20%20Downtown%20Toronto%2039%20%20%20%20%20%20%20%20East%20Toronto%20Name%3A%20Borough%2C%20dtype%3A%20objectCluster2%3C/div%3E%27%29%5B0%5D%3B%0A%20%20%20%20%20%20%20%20%20%20%20%20%20%20%20%20popup_8cae058d0ba64654b446ff08e8e5129f.setContent%28html_994509f436b647089b2f72f10fa59282%29%3B%0A%20%20%20%20%20%20%20%20%20%20%20%20%0A%0A%20%20%20%20%20%20%20%20%20%20%20%20circle_marker_315cd452fc6b4d35b61a0684af922248.bindPopup%28popup_8cae058d0ba64654b446ff08e8e5129f%29%3B%0A%0A%20%20%20%20%20%20%20%20%20%20%20%20%0A%20%20%20%20%20%20%20%20%0A%20%20%20%20%0A%20%20%20%20%20%20%20%20%20%20%20%20var%20circle_marker_b58e94eafb1141f4841cef8b28270348%20%3D%20L.circleMarker%28%0A%20%20%20%20%20%20%20%20%20%20%20%20%20%20%20%20%5B43.7153834%2C-79.40567840000001%5D%2C%0A%20%20%20%20%20%20%20%20%20%20%20%20%20%20%20%20%7B%0A%20%20%22bubblingMouseEvents%22%3A%20true%2C%0A%20%20%22color%22%3A%20%22%2300b5eb%22%2C%0A%20%20%22dashArray%22%3A%20null%2C%0A%20%20%22dashOffset%22%3A%20null%2C%0A%20%20%22fill%22%3A%20true%2C%0A%20%20%22fillColor%22%3A%20%22%2300b5eb%22%2C%0A%20%20%22fillOpacity%22%3A%200.7%2C%0A%20%20%22fillRule%22%3A%20%22evenodd%22%2C%0A%20%20%22lineCap%22%3A%20%22round%22%2C%0A%20%20%22lineJoin%22%3A%20%22round%22%2C%0A%20%20%22opacity%22%3A%201.0%2C%0A%20%20%22radius%22%3A%205%2C%0A%20%20%22stroke%22%3A%20true%2C%0A%20%20%22weight%22%3A%203%0A%7D%0A%20%20%20%20%20%20%20%20%20%20%20%20%20%20%20%20%29.addTo%28map_ed2ab0e34e4644d2b40a800f7470c804%29%3B%0A%20%20%20%20%20%20%20%20%20%20%20%20%0A%20%20%20%20%0A%20%20%20%20%20%20%20%20%20%20%20%20var%20popup_35981c1c9df24731a65ce1c68032c456%20%3D%20L.popup%28%7BmaxWidth%3A%20%27300%27%7D%29%3B%0A%0A%20%20%20%20%20%20%20%20%20%20%20%20%0A%20%20%20%20%20%20%20%20%20%20%20%20%20%20%20%20var%20html_a8a6e928c257439ca1e77712a4b081c0%20%3D%20%24%28%27%3Cdiv%20id%3D%22html_a8a6e928c257439ca1e77712a4b081c0%22%20style%3D%22width%3A%20100.0%25%3B%20height%3A%20100.0%25%3B%22%3E0%20%20%20%20%20%20%20%20%20East%20Toronto%201%20%20%20%20%20%20%20%20%20East%20Toronto%202%20%20%20%20%20%20%20%20%20East%20Toronto%203%20%20%20%20%20%20%20%20%20East%20Toronto%204%20%20%20%20%20%20Central%20Toronto%205%20%20%20%20%20%20Central%20Toronto%206%20%20%20%20%20%20Central%20Toronto%207%20%20%20%20%20%20Central%20Toronto%208%20%20%20%20%20%20Central%20Toronto%209%20%20%20%20%20%20Central%20Toronto%2010%20%20%20%20Downtown%20Toronto%2011%20%20%20%20Downtown%20Toronto%2012%20%20%20%20Downtown%20Toronto%2013%20%20%20%20Downtown%20Toronto%2014%20%20%20%20Downtown%20Toronto%2015%20%20%20%20Downtown%20Toronto%2016%20%20%20%20Downtown%20Toronto%2017%20%20%20%20Downtown%20Toronto%2018%20%20%20%20Downtown%20Toronto%2019%20%20%20%20Downtown%20Toronto%2020%20%20%20%20Downtown%20Toronto%2021%20%20%20%20Downtown%20Toronto%2022%20%20%20%20%20Central%20Toronto%2023%20%20%20%20%20Central%20Toronto%2024%20%20%20%20%20Central%20Toronto%2025%20%20%20%20Downtown%20Toronto%2026%20%20%20%20Downtown%20Toronto%2027%20%20%20%20Downtown%20Toronto%2028%20%20%20%20Downtown%20Toronto%2029%20%20%20%20Downtown%20Toronto%2030%20%20%20%20Downtown%20Toronto%2031%20%20%20%20%20%20%20%20West%20Toronto%2032%20%20%20%20%20%20%20%20West%20Toronto%2033%20%20%20%20%20%20%20%20West%20Toronto%2034%20%20%20%20%20%20%20%20Toronto/York%2035%20%20%20%20%20%20%20%20West%20Toronto%2036%20%20%20%20%20%20%20%20West%20Toronto%2037%20%20%20%20%20%20%20%20West%20Toronto%2038%20%20%20%20Downtown%20Toronto%2039%20%20%20%20%20%20%20%20East%20Toronto%20Name%3A%20Borough%2C%20dtype%3A%20objectCluster2%3C/div%3E%27%29%5B0%5D%3B%0A%20%20%20%20%20%20%20%20%20%20%20%20%20%20%20%20popup_35981c1c9df24731a65ce1c68032c456.setContent%28html_a8a6e928c257439ca1e77712a4b081c0%29%3B%0A%20%20%20%20%20%20%20%20%20%20%20%20%0A%0A%20%20%20%20%20%20%20%20%20%20%20%20circle_marker_b58e94eafb1141f4841cef8b28270348.bindPopup%28popup_35981c1c9df24731a65ce1c68032c456%29%3B%0A%0A%20%20%20%20%20%20%20%20%20%20%20%20%0A%20%20%20%20%20%20%20%20%0A%20%20%20%20%0A%20%20%20%20%20%20%20%20%20%20%20%20var%20circle_marker_c126631d426f44a58f51216e21799dbc%20%3D%20L.circleMarker%28%0A%20%20%20%20%20%20%20%20%20%20%20%20%20%20%20%20%5B43.7043244%2C-79.3887901%5D%2C%0A%20%20%20%20%20%20%20%20%20%20%20%20%20%20%20%20%7B%0A%20%20%22bubblingMouseEvents%22%3A%20true%2C%0A%20%20%22color%22%3A%20%22%2300b5eb%22%2C%0A%20%20%22dashArray%22%3A%20null%2C%0A%20%20%22dashOffset%22%3A%20null%2C%0A%20%20%22fill%22%3A%20true%2C%0A%20%20%22fillColor%22%3A%20%22%2300b5eb%22%2C%0A%20%20%22fillOpacity%22%3A%200.7%2C%0A%20%20%22fillRule%22%3A%20%22evenodd%22%2C%0A%20%20%22lineCap%22%3A%20%22round%22%2C%0A%20%20%22lineJoin%22%3A%20%22round%22%2C%0A%20%20%22opacity%22%3A%201.0%2C%0A%20%20%22radius%22%3A%205%2C%0A%20%20%22stroke%22%3A%20true%2C%0A%20%20%22weight%22%3A%203%0A%7D%0A%20%20%20%20%20%20%20%20%20%20%20%20%20%20%20%20%29.addTo%28map_ed2ab0e34e4644d2b40a800f7470c804%29%3B%0A%20%20%20%20%20%20%20%20%20%20%20%20%0A%20%20%20%20%0A%20%20%20%20%20%20%20%20%20%20%20%20var%20popup_5b2b7e6aff03478495e9266802d47896%20%3D%20L.popup%28%7BmaxWidth%3A%20%27300%27%7D%29%3B%0A%0A%20%20%20%20%20%20%20%20%20%20%20%20%0A%20%20%20%20%20%20%20%20%20%20%20%20%20%20%20%20var%20html_54df271b597d40c3b616cb9abd632bbf%20%3D%20%24%28%27%3Cdiv%20id%3D%22html_54df271b597d40c3b616cb9abd632bbf%22%20style%3D%22width%3A%20100.0%25%3B%20height%3A%20100.0%25%3B%22%3E0%20%20%20%20%20%20%20%20%20East%20Toronto%201%20%20%20%20%20%20%20%20%20East%20Toronto%202%20%20%20%20%20%20%20%20%20East%20Toronto%203%20%20%20%20%20%20%20%20%20East%20Toronto%204%20%20%20%20%20%20Central%20Toronto%205%20%20%20%20%20%20Central%20Toronto%206%20%20%20%20%20%20Central%20Toronto%207%20%20%20%20%20%20Central%20Toronto%208%20%20%20%20%20%20Central%20Toronto%209%20%20%20%20%20%20Central%20Toronto%2010%20%20%20%20Downtown%20Toronto%2011%20%20%20%20Downtown%20Toronto%2012%20%20%20%20Downtown%20Toronto%2013%20%20%20%20Downtown%20Toronto%2014%20%20%20%20Downtown%20Toronto%2015%20%20%20%20Downtown%20Toronto%2016%20%20%20%20Downtown%20Toronto%2017%20%20%20%20Downtown%20Toronto%2018%20%20%20%20Downtown%20Toronto%2019%20%20%20%20Downtown%20Toronto%2020%20%20%20%20Downtown%20Toronto%2021%20%20%20%20Downtown%20Toronto%2022%20%20%20%20%20Central%20Toronto%2023%20%20%20%20%20Central%20Toronto%2024%20%20%20%20%20Central%20Toronto%2025%20%20%20%20Downtown%20Toronto%2026%20%20%20%20Downtown%20Toronto%2027%20%20%20%20Downtown%20Toronto%2028%20%20%20%20Downtown%20Toronto%2029%20%20%20%20Downtown%20Toronto%2030%20%20%20%20Downtown%20Toronto%2031%20%20%20%20%20%20%20%20West%20Toronto%2032%20%20%20%20%20%20%20%20West%20Toronto%2033%20%20%20%20%20%20%20%20West%20Toronto%2034%20%20%20%20%20%20%20%20Toronto/York%2035%20%20%20%20%20%20%20%20West%20Toronto%2036%20%20%20%20%20%20%20%20West%20Toronto%2037%20%20%20%20%20%20%20%20West%20Toronto%2038%20%20%20%20Downtown%20Toronto%2039%20%20%20%20%20%20%20%20East%20Toronto%20Name%3A%20Borough%2C%20dtype%3A%20objectCluster2%3C/div%3E%27%29%5B0%5D%3B%0A%20%20%20%20%20%20%20%20%20%20%20%20%20%20%20%20popup_5b2b7e6aff03478495e9266802d47896.setContent%28html_54df271b597d40c3b616cb9abd632bbf%29%3B%0A%20%20%20%20%20%20%20%20%20%20%20%20%0A%0A%20%20%20%20%20%20%20%20%20%20%20%20circle_marker_c126631d426f44a58f51216e21799dbc.bindPopup%28popup_5b2b7e6aff03478495e9266802d47896%29%3B%0A%0A%20%20%20%20%20%20%20%20%20%20%20%20%0A%20%20%20%20%20%20%20%20%0A%20%20%20%20%0A%20%20%20%20%20%20%20%20%20%20%20%20var%20circle_marker_d2dc7844968c42ff927a55f8a5bf74e5%20%3D%20L.circleMarker%28%0A%20%20%20%20%20%20%20%20%20%20%20%20%20%20%20%20%5B43.6895743%2C-79.38315990000001%5D%2C%0A%20%20%20%20%20%20%20%20%20%20%20%20%20%20%20%20%7B%0A%20%20%22bubblingMouseEvents%22%3A%20true%2C%0A%20%20%22color%22%3A%20%22%2300b5eb%22%2C%0A%20%20%22dashArray%22%3A%20null%2C%0A%20%20%22dashOffset%22%3A%20null%2C%0A%20%20%22fill%22%3A%20true%2C%0A%20%20%22fillColor%22%3A%20%22%2300b5eb%22%2C%0A%20%20%22fillOpacity%22%3A%200.7%2C%0A%20%20%22fillRule%22%3A%20%22evenodd%22%2C%0A%20%20%22lineCap%22%3A%20%22round%22%2C%0A%20%20%22lineJoin%22%3A%20%22round%22%2C%0A%20%20%22opacity%22%3A%201.0%2C%0A%20%20%22radius%22%3A%205%2C%0A%20%20%22stroke%22%3A%20true%2C%0A%20%20%22weight%22%3A%203%0A%7D%0A%20%20%20%20%20%20%20%20%20%20%20%20%20%20%20%20%29.addTo%28map_ed2ab0e34e4644d2b40a800f7470c804%29%3B%0A%20%20%20%20%20%20%20%20%20%20%20%20%0A%20%20%20%20%0A%20%20%20%20%20%20%20%20%20%20%20%20var%20popup_ec313636b91741acb25bd408dabae753%20%3D%20L.popup%28%7BmaxWidth%3A%20%27300%27%7D%29%3B%0A%0A%20%20%20%20%20%20%20%20%20%20%20%20%0A%20%20%20%20%20%20%20%20%20%20%20%20%20%20%20%20var%20html_b14f60a72ce94be196ec1f0d122f1e72%20%3D%20%24%28%27%3Cdiv%20id%3D%22html_b14f60a72ce94be196ec1f0d122f1e72%22%20style%3D%22width%3A%20100.0%25%3B%20height%3A%20100.0%25%3B%22%3E0%20%20%20%20%20%20%20%20%20East%20Toronto%201%20%20%20%20%20%20%20%20%20East%20Toronto%202%20%20%20%20%20%20%20%20%20East%20Toronto%203%20%20%20%20%20%20%20%20%20East%20Toronto%204%20%20%20%20%20%20Central%20Toronto%205%20%20%20%20%20%20Central%20Toronto%206%20%20%20%20%20%20Central%20Toronto%207%20%20%20%20%20%20Central%20Toronto%208%20%20%20%20%20%20Central%20Toronto%209%20%20%20%20%20%20Central%20Toronto%2010%20%20%20%20Downtown%20Toronto%2011%20%20%20%20Downtown%20Toronto%2012%20%20%20%20Downtown%20Toronto%2013%20%20%20%20Downtown%20Toronto%2014%20%20%20%20Downtown%20Toronto%2015%20%20%20%20Downtown%20Toronto%2016%20%20%20%20Downtown%20Toronto%2017%20%20%20%20Downtown%20Toronto%2018%20%20%20%20Downtown%20Toronto%2019%20%20%20%20Downtown%20Toronto%2020%20%20%20%20Downtown%20Toronto%2021%20%20%20%20Downtown%20Toronto%2022%20%20%20%20%20Central%20Toronto%2023%20%20%20%20%20Central%20Toronto%2024%20%20%20%20%20Central%20Toronto%2025%20%20%20%20Downtown%20Toronto%2026%20%20%20%20Downtown%20Toronto%2027%20%20%20%20Downtown%20Toronto%2028%20%20%20%20Downtown%20Toronto%2029%20%20%20%20Downtown%20Toronto%2030%20%20%20%20Downtown%20Toronto%2031%20%20%20%20%20%20%20%20West%20Toronto%2032%20%20%20%20%20%20%20%20West%20Toronto%2033%20%20%20%20%20%20%20%20West%20Toronto%2034%20%20%20%20%20%20%20%20Toronto/York%2035%20%20%20%20%20%20%20%20West%20Toronto%2036%20%20%20%20%20%20%20%20West%20Toronto%2037%20%20%20%20%20%20%20%20West%20Toronto%2038%20%20%20%20Downtown%20Toronto%2039%20%20%20%20%20%20%20%20East%20Toronto%20Name%3A%20Borough%2C%20dtype%3A%20objectCluster2%3C/div%3E%27%29%5B0%5D%3B%0A%20%20%20%20%20%20%20%20%20%20%20%20%20%20%20%20popup_ec313636b91741acb25bd408dabae753.setContent%28html_b14f60a72ce94be196ec1f0d122f1e72%29%3B%0A%20%20%20%20%20%20%20%20%20%20%20%20%0A%0A%20%20%20%20%20%20%20%20%20%20%20%20circle_marker_d2dc7844968c42ff927a55f8a5bf74e5.bindPopup%28popup_ec313636b91741acb25bd408dabae753%29%3B%0A%0A%20%20%20%20%20%20%20%20%20%20%20%20%0A%20%20%20%20%20%20%20%20%0A%20%20%20%20%0A%20%20%20%20%20%20%20%20%20%20%20%20var%20circle_marker_fe06e8697b614539b19995260bdefbfd%20%3D%20L.circleMarker%28%0A%20%20%20%20%20%20%20%20%20%20%20%20%20%20%20%20%5B43.68641229999999%2C-79.4000493%5D%2C%0A%20%20%20%20%20%20%20%20%20%20%20%20%20%20%20%20%7B%0A%20%20%22bubblingMouseEvents%22%3A%20true%2C%0A%20%20%22color%22%3A%20%22%2300b5eb%22%2C%0A%20%20%22dashArray%22%3A%20null%2C%0A%20%20%22dashOffset%22%3A%20null%2C%0A%20%20%22fill%22%3A%20true%2C%0A%20%20%22fillColor%22%3A%20%22%2300b5eb%22%2C%0A%20%20%22fillOpacity%22%3A%200.7%2C%0A%20%20%22fillRule%22%3A%20%22evenodd%22%2C%0A%20%20%22lineCap%22%3A%20%22round%22%2C%0A%20%20%22lineJoin%22%3A%20%22round%22%2C%0A%20%20%22opacity%22%3A%201.0%2C%0A%20%20%22radius%22%3A%205%2C%0A%20%20%22stroke%22%3A%20true%2C%0A%20%20%22weight%22%3A%203%0A%7D%0A%20%20%20%20%20%20%20%20%20%20%20%20%20%20%20%20%29.addTo%28map_ed2ab0e34e4644d2b40a800f7470c804%29%3B%0A%20%20%20%20%20%20%20%20%20%20%20%20%0A%20%20%20%20%0A%20%20%20%20%20%20%20%20%20%20%20%20var%20popup_0ba8b37eaecb40d69dc39105c4757a48%20%3D%20L.popup%28%7BmaxWidth%3A%20%27300%27%7D%29%3B%0A%0A%20%20%20%20%20%20%20%20%20%20%20%20%0A%20%20%20%20%20%20%20%20%20%20%20%20%20%20%20%20var%20html_6cde5e405aec48498516d60a8018da83%20%3D%20%24%28%27%3Cdiv%20id%3D%22html_6cde5e405aec48498516d60a8018da83%22%20style%3D%22width%3A%20100.0%25%3B%20height%3A%20100.0%25%3B%22%3E0%20%20%20%20%20%20%20%20%20East%20Toronto%201%20%20%20%20%20%20%20%20%20East%20Toronto%202%20%20%20%20%20%20%20%20%20East%20Toronto%203%20%20%20%20%20%20%20%20%20East%20Toronto%204%20%20%20%20%20%20Central%20Toronto%205%20%20%20%20%20%20Central%20Toronto%206%20%20%20%20%20%20Central%20Toronto%207%20%20%20%20%20%20Central%20Toronto%208%20%20%20%20%20%20Central%20Toronto%209%20%20%20%20%20%20Central%20Toronto%2010%20%20%20%20Downtown%20Toronto%2011%20%20%20%20Downtown%20Toronto%2012%20%20%20%20Downtown%20Toronto%2013%20%20%20%20Downtown%20Toronto%2014%20%20%20%20Downtown%20Toronto%2015%20%20%20%20Downtown%20Toronto%2016%20%20%20%20Downtown%20Toronto%2017%20%20%20%20Downtown%20Toronto%2018%20%20%20%20Downtown%20Toronto%2019%20%20%20%20Downtown%20Toronto%2020%20%20%20%20Downtown%20Toronto%2021%20%20%20%20Downtown%20Toronto%2022%20%20%20%20%20Central%20Toronto%2023%20%20%20%20%20Central%20Toronto%2024%20%20%20%20%20Central%20Toronto%2025%20%20%20%20Downtown%20Toronto%2026%20%20%20%20Downtown%20Toronto%2027%20%20%20%20Downtown%20Toronto%2028%20%20%20%20Downtown%20Toronto%2029%20%20%20%20Downtown%20Toronto%2030%20%20%20%20Downtown%20Toronto%2031%20%20%20%20%20%20%20%20West%20Toronto%2032%20%20%20%20%20%20%20%20West%20Toronto%2033%20%20%20%20%20%20%20%20West%20Toronto%2034%20%20%20%20%20%20%20%20Toronto/York%2035%20%20%20%20%20%20%20%20West%20Toronto%2036%20%20%20%20%20%20%20%20West%20Toronto%2037%20%20%20%20%20%20%20%20West%20Toronto%2038%20%20%20%20Downtown%20Toronto%2039%20%20%20%20%20%20%20%20East%20Toronto%20Name%3A%20Borough%2C%20dtype%3A%20objectCluster2%3C/div%3E%27%29%5B0%5D%3B%0A%20%20%20%20%20%20%20%20%20%20%20%20%20%20%20%20popup_0ba8b37eaecb40d69dc39105c4757a48.setContent%28html_6cde5e405aec48498516d60a8018da83%29%3B%0A%20%20%20%20%20%20%20%20%20%20%20%20%0A%0A%20%20%20%20%20%20%20%20%20%20%20%20circle_marker_fe06e8697b614539b19995260bdefbfd.bindPopup%28popup_0ba8b37eaecb40d69dc39105c4757a48%29%3B%0A%0A%20%20%20%20%20%20%20%20%20%20%20%20%0A%20%20%20%20%20%20%20%20%0A%20%20%20%20%0A%20%20%20%20%20%20%20%20%20%20%20%20var%20circle_marker_2c2a3c6891bd4c6eaffccfe67b3c2b70%20%3D%20L.circleMarker%28%0A%20%20%20%20%20%20%20%20%20%20%20%20%20%20%20%20%5B43.6795626%2C-79.37752940000001%5D%2C%0A%20%20%20%20%20%20%20%20%20%20%20%20%20%20%20%20%7B%0A%20%20%22bubblingMouseEvents%22%3A%20true%2C%0A%20%20%22color%22%3A%20%22%238000ff%22%2C%0A%20%20%22dashArray%22%3A%20null%2C%0A%20%20%22dashOffset%22%3A%20null%2C%0A%20%20%22fill%22%3A%20true%2C%0A%20%20%22fillColor%22%3A%20%22%238000ff%22%2C%0A%20%20%22fillOpacity%22%3A%200.7%2C%0A%20%20%22fillRule%22%3A%20%22evenodd%22%2C%0A%20%20%22lineCap%22%3A%20%22round%22%2C%0A%20%20%22lineJoin%22%3A%20%22round%22%2C%0A%20%20%22opacity%22%3A%201.0%2C%0A%20%20%22radius%22%3A%205%2C%0A%20%20%22stroke%22%3A%20true%2C%0A%20%20%22weight%22%3A%203%0A%7D%0A%20%20%20%20%20%20%20%20%20%20%20%20%20%20%20%20%29.addTo%28map_ed2ab0e34e4644d2b40a800f7470c804%29%3B%0A%20%20%20%20%20%20%20%20%20%20%20%20%0A%20%20%20%20%0A%20%20%20%20%20%20%20%20%20%20%20%20var%20popup_f11d34821dab4214938ae089631e695f%20%3D%20L.popup%28%7BmaxWidth%3A%20%27300%27%7D%29%3B%0A%0A%20%20%20%20%20%20%20%20%20%20%20%20%0A%20%20%20%20%20%20%20%20%20%20%20%20%20%20%20%20var%20html_88fa9f99aa61444294a6aaabe1ae2cae%20%3D%20%24%28%27%3Cdiv%20id%3D%22html_88fa9f99aa61444294a6aaabe1ae2cae%22%20style%3D%22width%3A%20100.0%25%3B%20height%3A%20100.0%25%3B%22%3E0%20%20%20%20%20%20%20%20%20East%20Toronto%201%20%20%20%20%20%20%20%20%20East%20Toronto%202%20%20%20%20%20%20%20%20%20East%20Toronto%203%20%20%20%20%20%20%20%20%20East%20Toronto%204%20%20%20%20%20%20Central%20Toronto%205%20%20%20%20%20%20Central%20Toronto%206%20%20%20%20%20%20Central%20Toronto%207%20%20%20%20%20%20Central%20Toronto%208%20%20%20%20%20%20Central%20Toronto%209%20%20%20%20%20%20Central%20Toronto%2010%20%20%20%20Downtown%20Toronto%2011%20%20%20%20Downtown%20Toronto%2012%20%20%20%20Downtown%20Toronto%2013%20%20%20%20Downtown%20Toronto%2014%20%20%20%20Downtown%20Toronto%2015%20%20%20%20Downtown%20Toronto%2016%20%20%20%20Downtown%20Toronto%2017%20%20%20%20Downtown%20Toronto%2018%20%20%20%20Downtown%20Toronto%2019%20%20%20%20Downtown%20Toronto%2020%20%20%20%20Downtown%20Toronto%2021%20%20%20%20Downtown%20Toronto%2022%20%20%20%20%20Central%20Toronto%2023%20%20%20%20%20Central%20Toronto%2024%20%20%20%20%20Central%20Toronto%2025%20%20%20%20Downtown%20Toronto%2026%20%20%20%20Downtown%20Toronto%2027%20%20%20%20Downtown%20Toronto%2028%20%20%20%20Downtown%20Toronto%2029%20%20%20%20Downtown%20Toronto%2030%20%20%20%20Downtown%20Toronto%2031%20%20%20%20%20%20%20%20West%20Toronto%2032%20%20%20%20%20%20%20%20West%20Toronto%2033%20%20%20%20%20%20%20%20West%20Toronto%2034%20%20%20%20%20%20%20%20Toronto/York%2035%20%20%20%20%20%20%20%20West%20Toronto%2036%20%20%20%20%20%20%20%20West%20Toronto%2037%20%20%20%20%20%20%20%20West%20Toronto%2038%20%20%20%20Downtown%20Toronto%2039%20%20%20%20%20%20%20%20East%20Toronto%20Name%3A%20Borough%2C%20dtype%3A%20objectCluster1%3C/div%3E%27%29%5B0%5D%3B%0A%20%20%20%20%20%20%20%20%20%20%20%20%20%20%20%20popup_f11d34821dab4214938ae089631e695f.setContent%28html_88fa9f99aa61444294a6aaabe1ae2cae%29%3B%0A%20%20%20%20%20%20%20%20%20%20%20%20%0A%0A%20%20%20%20%20%20%20%20%20%20%20%20circle_marker_2c2a3c6891bd4c6eaffccfe67b3c2b70.bindPopup%28popup_f11d34821dab4214938ae089631e695f%29%3B%0A%0A%20%20%20%20%20%20%20%20%20%20%20%20%0A%20%20%20%20%20%20%20%20%0A%20%20%20%20%0A%20%20%20%20%20%20%20%20%20%20%20%20var%20circle_marker_d37e1d0cbd0e4740adac91488d742bf9%20%3D%20L.circleMarker%28%0A%20%20%20%20%20%20%20%20%20%20%20%20%20%20%20%20%5B43.667967%2C-79.3676753%5D%2C%0A%20%20%20%20%20%20%20%20%20%20%20%20%20%20%20%20%7B%0A%20%20%22bubblingMouseEvents%22%3A%20true%2C%0A%20%20%22color%22%3A%20%22%238000ff%22%2C%0A%20%20%22dashArray%22%3A%20null%2C%0A%20%20%22dashOffset%22%3A%20null%2C%0A%20%20%22fill%22%3A%20true%2C%0A%20%20%22fillColor%22%3A%20%22%238000ff%22%2C%0A%20%20%22fillOpacity%22%3A%200.7%2C%0A%20%20%22fillRule%22%3A%20%22evenodd%22%2C%0A%20%20%22lineCap%22%3A%20%22round%22%2C%0A%20%20%22lineJoin%22%3A%20%22round%22%2C%0A%20%20%22opacity%22%3A%201.0%2C%0A%20%20%22radius%22%3A%205%2C%0A%20%20%22stroke%22%3A%20true%2C%0A%20%20%22weight%22%3A%203%0A%7D%0A%20%20%20%20%20%20%20%20%20%20%20%20%20%20%20%20%29.addTo%28map_ed2ab0e34e4644d2b40a800f7470c804%29%3B%0A%20%20%20%20%20%20%20%20%20%20%20%20%0A%20%20%20%20%0A%20%20%20%20%20%20%20%20%20%20%20%20var%20popup_290bc6099a8e4a4e9cfa4974b1f51936%20%3D%20L.popup%28%7BmaxWidth%3A%20%27300%27%7D%29%3B%0A%0A%20%20%20%20%20%20%20%20%20%20%20%20%0A%20%20%20%20%20%20%20%20%20%20%20%20%20%20%20%20var%20html_1f8a7c33554c40bab75683d57b8c5848%20%3D%20%24%28%27%3Cdiv%20id%3D%22html_1f8a7c33554c40bab75683d57b8c5848%22%20style%3D%22width%3A%20100.0%25%3B%20height%3A%20100.0%25%3B%22%3E0%20%20%20%20%20%20%20%20%20East%20Toronto%201%20%20%20%20%20%20%20%20%20East%20Toronto%202%20%20%20%20%20%20%20%20%20East%20Toronto%203%20%20%20%20%20%20%20%20%20East%20Toronto%204%20%20%20%20%20%20Central%20Toronto%205%20%20%20%20%20%20Central%20Toronto%206%20%20%20%20%20%20Central%20Toronto%207%20%20%20%20%20%20Central%20Toronto%208%20%20%20%20%20%20Central%20Toronto%209%20%20%20%20%20%20Central%20Toronto%2010%20%20%20%20Downtown%20Toronto%2011%20%20%20%20Downtown%20Toronto%2012%20%20%20%20Downtown%20Toronto%2013%20%20%20%20Downtown%20Toronto%2014%20%20%20%20Downtown%20Toronto%2015%20%20%20%20Downtown%20Toronto%2016%20%20%20%20Downtown%20Toronto%2017%20%20%20%20Downtown%20Toronto%2018%20%20%20%20Downtown%20Toronto%2019%20%20%20%20Downtown%20Toronto%2020%20%20%20%20Downtown%20Toronto%2021%20%20%20%20Downtown%20Toronto%2022%20%20%20%20%20Central%20Toronto%2023%20%20%20%20%20Central%20Toronto%2024%20%20%20%20%20Central%20Toronto%2025%20%20%20%20Downtown%20Toronto%2026%20%20%20%20Downtown%20Toronto%2027%20%20%20%20Downtown%20Toronto%2028%20%20%20%20Downtown%20Toronto%2029%20%20%20%20Downtown%20Toronto%2030%20%20%20%20Downtown%20Toronto%2031%20%20%20%20%20%20%20%20West%20Toronto%2032%20%20%20%20%20%20%20%20West%20Toronto%2033%20%20%20%20%20%20%20%20West%20Toronto%2034%20%20%20%20%20%20%20%20Toronto/York%2035%20%20%20%20%20%20%20%20West%20Toronto%2036%20%20%20%20%20%20%20%20West%20Toronto%2037%20%20%20%20%20%20%20%20West%20Toronto%2038%20%20%20%20Downtown%20Toronto%2039%20%20%20%20%20%20%20%20East%20Toronto%20Name%3A%20Borough%2C%20dtype%3A%20objectCluster1%3C/div%3E%27%29%5B0%5D%3B%0A%20%20%20%20%20%20%20%20%20%20%20%20%20%20%20%20popup_290bc6099a8e4a4e9cfa4974b1f51936.setContent%28html_1f8a7c33554c40bab75683d57b8c5848%29%3B%0A%20%20%20%20%20%20%20%20%20%20%20%20%0A%0A%20%20%20%20%20%20%20%20%20%20%20%20circle_marker_d37e1d0cbd0e4740adac91488d742bf9.bindPopup%28popup_290bc6099a8e4a4e9cfa4974b1f51936%29%3B%0A%0A%20%20%20%20%20%20%20%20%20%20%20%20%0A%20%20%20%20%20%20%20%20%0A%20%20%20%20%0A%20%20%20%20%20%20%20%20%20%20%20%20var%20circle_marker_13795ae5afbf4f449d40b95131bec8f6%20%3D%20L.circleMarker%28%0A%20%20%20%20%20%20%20%20%20%20%20%20%20%20%20%20%5B43.6658599%2C-79.38315990000001%5D%2C%0A%20%20%20%20%20%20%20%20%20%20%20%20%20%20%20%20%7B%0A%20%20%22bubblingMouseEvents%22%3A%20true%2C%0A%20%20%22color%22%3A%20%22%238000ff%22%2C%0A%20%20%22dashArray%22%3A%20null%2C%0A%20%20%22dashOffset%22%3A%20null%2C%0A%20%20%22fill%22%3A%20true%2C%0A%20%20%22fillColor%22%3A%20%22%238000ff%22%2C%0A%20%20%22fillOpacity%22%3A%200.7%2C%0A%20%20%22fillRule%22%3A%20%22evenodd%22%2C%0A%20%20%22lineCap%22%3A%20%22round%22%2C%0A%20%20%22lineJoin%22%3A%20%22round%22%2C%0A%20%20%22opacity%22%3A%201.0%2C%0A%20%20%22radius%22%3A%205%2C%0A%20%20%22stroke%22%3A%20true%2C%0A%20%20%22weight%22%3A%203%0A%7D%0A%20%20%20%20%20%20%20%20%20%20%20%20%20%20%20%20%29.addTo%28map_ed2ab0e34e4644d2b40a800f7470c804%29%3B%0A%20%20%20%20%20%20%20%20%20%20%20%20%0A%20%20%20%20%0A%20%20%20%20%20%20%20%20%20%20%20%20var%20popup_3c7fdb95628d43999c554b1c06ecad0c%20%3D%20L.popup%28%7BmaxWidth%3A%20%27300%27%7D%29%3B%0A%0A%20%20%20%20%20%20%20%20%20%20%20%20%0A%20%20%20%20%20%20%20%20%20%20%20%20%20%20%20%20var%20html_f24afdf7163647f6b5fef44679c34301%20%3D%20%24%28%27%3Cdiv%20id%3D%22html_f24afdf7163647f6b5fef44679c34301%22%20style%3D%22width%3A%20100.0%25%3B%20height%3A%20100.0%25%3B%22%3E0%20%20%20%20%20%20%20%20%20East%20Toronto%201%20%20%20%20%20%20%20%20%20East%20Toronto%202%20%20%20%20%20%20%20%20%20East%20Toronto%203%20%20%20%20%20%20%20%20%20East%20Toronto%204%20%20%20%20%20%20Central%20Toronto%205%20%20%20%20%20%20Central%20Toronto%206%20%20%20%20%20%20Central%20Toronto%207%20%20%20%20%20%20Central%20Toronto%208%20%20%20%20%20%20Central%20Toronto%209%20%20%20%20%20%20Central%20Toronto%2010%20%20%20%20Downtown%20Toronto%2011%20%20%20%20Downtown%20Toronto%2012%20%20%20%20Downtown%20Toronto%2013%20%20%20%20Downtown%20Toronto%2014%20%20%20%20Downtown%20Toronto%2015%20%20%20%20Downtown%20Toronto%2016%20%20%20%20Downtown%20Toronto%2017%20%20%20%20Downtown%20Toronto%2018%20%20%20%20Downtown%20Toronto%2019%20%20%20%20Downtown%20Toronto%2020%20%20%20%20Downtown%20Toronto%2021%20%20%20%20Downtown%20Toronto%2022%20%20%20%20%20Central%20Toronto%2023%20%20%20%20%20Central%20Toronto%2024%20%20%20%20%20Central%20Toronto%2025%20%20%20%20Downtown%20Toronto%2026%20%20%20%20Downtown%20Toronto%2027%20%20%20%20Downtown%20Toronto%2028%20%20%20%20Downtown%20Toronto%2029%20%20%20%20Downtown%20Toronto%2030%20%20%20%20Downtown%20Toronto%2031%20%20%20%20%20%20%20%20West%20Toronto%2032%20%20%20%20%20%20%20%20West%20Toronto%2033%20%20%20%20%20%20%20%20West%20Toronto%2034%20%20%20%20%20%20%20%20Toronto/York%2035%20%20%20%20%20%20%20%20West%20Toronto%2036%20%20%20%20%20%20%20%20West%20Toronto%2037%20%20%20%20%20%20%20%20West%20Toronto%2038%20%20%20%20Downtown%20Toronto%2039%20%20%20%20%20%20%20%20East%20Toronto%20Name%3A%20Borough%2C%20dtype%3A%20objectCluster1%3C/div%3E%27%29%5B0%5D%3B%0A%20%20%20%20%20%20%20%20%20%20%20%20%20%20%20%20popup_3c7fdb95628d43999c554b1c06ecad0c.setContent%28html_f24afdf7163647f6b5fef44679c34301%29%3B%0A%20%20%20%20%20%20%20%20%20%20%20%20%0A%0A%20%20%20%20%20%20%20%20%20%20%20%20circle_marker_13795ae5afbf4f449d40b95131bec8f6.bindPopup%28popup_3c7fdb95628d43999c554b1c06ecad0c%29%3B%0A%0A%20%20%20%20%20%20%20%20%20%20%20%20%0A%20%20%20%20%20%20%20%20%0A%20%20%20%20%0A%20%20%20%20%20%20%20%20%20%20%20%20var%20circle_marker_624596ceca82401e9ee0332caa581eb6%20%3D%20L.circleMarker%28%0A%20%20%20%20%20%20%20%20%20%20%20%20%20%20%20%20%5B43.6542599%2C-79.3606359%5D%2C%0A%20%20%20%20%20%20%20%20%20%20%20%20%20%20%20%20%7B%0A%20%20%22bubblingMouseEvents%22%3A%20true%2C%0A%20%20%22color%22%3A%20%22%238000ff%22%2C%0A%20%20%22dashArray%22%3A%20null%2C%0A%20%20%22dashOffset%22%3A%20null%2C%0A%20%20%22fill%22%3A%20true%2C%0A%20%20%22fillColor%22%3A%20%22%238000ff%22%2C%0A%20%20%22fillOpacity%22%3A%200.7%2C%0A%20%20%22fillRule%22%3A%20%22evenodd%22%2C%0A%20%20%22lineCap%22%3A%20%22round%22%2C%0A%20%20%22lineJoin%22%3A%20%22round%22%2C%0A%20%20%22opacity%22%3A%201.0%2C%0A%20%20%22radius%22%3A%205%2C%0A%20%20%22stroke%22%3A%20true%2C%0A%20%20%22weight%22%3A%203%0A%7D%0A%20%20%20%20%20%20%20%20%20%20%20%20%20%20%20%20%29.addTo%28map_ed2ab0e34e4644d2b40a800f7470c804%29%3B%0A%20%20%20%20%20%20%20%20%20%20%20%20%0A%20%20%20%20%0A%20%20%20%20%20%20%20%20%20%20%20%20var%20popup_76c2b5991b1f40e187302e293b9e7f68%20%3D%20L.popup%28%7BmaxWidth%3A%20%27300%27%7D%29%3B%0A%0A%20%20%20%20%20%20%20%20%20%20%20%20%0A%20%20%20%20%20%20%20%20%20%20%20%20%20%20%20%20var%20html_d55401c4b41a4e18b7c49fc4272629c8%20%3D%20%24%28%27%3Cdiv%20id%3D%22html_d55401c4b41a4e18b7c49fc4272629c8%22%20style%3D%22width%3A%20100.0%25%3B%20height%3A%20100.0%25%3B%22%3E0%20%20%20%20%20%20%20%20%20East%20Toronto%201%20%20%20%20%20%20%20%20%20East%20Toronto%202%20%20%20%20%20%20%20%20%20East%20Toronto%203%20%20%20%20%20%20%20%20%20East%20Toronto%204%20%20%20%20%20%20Central%20Toronto%205%20%20%20%20%20%20Central%20Toronto%206%20%20%20%20%20%20Central%20Toronto%207%20%20%20%20%20%20Central%20Toronto%208%20%20%20%20%20%20Central%20Toronto%209%20%20%20%20%20%20Central%20Toronto%2010%20%20%20%20Downtown%20Toronto%2011%20%20%20%20Downtown%20Toronto%2012%20%20%20%20Downtown%20Toronto%2013%20%20%20%20Downtown%20Toronto%2014%20%20%20%20Downtown%20Toronto%2015%20%20%20%20Downtown%20Toronto%2016%20%20%20%20Downtown%20Toronto%2017%20%20%20%20Downtown%20Toronto%2018%20%20%20%20Downtown%20Toronto%2019%20%20%20%20Downtown%20Toronto%2020%20%20%20%20Downtown%20Toronto%2021%20%20%20%20Downtown%20Toronto%2022%20%20%20%20%20Central%20Toronto%2023%20%20%20%20%20Central%20Toronto%2024%20%20%20%20%20Central%20Toronto%2025%20%20%20%20Downtown%20Toronto%2026%20%20%20%20Downtown%20Toronto%2027%20%20%20%20Downtown%20Toronto%2028%20%20%20%20Downtown%20Toronto%2029%20%20%20%20Downtown%20Toronto%2030%20%20%20%20Downtown%20Toronto%2031%20%20%20%20%20%20%20%20West%20Toronto%2032%20%20%20%20%20%20%20%20West%20Toronto%2033%20%20%20%20%20%20%20%20West%20Toronto%2034%20%20%20%20%20%20%20%20Toronto/York%2035%20%20%20%20%20%20%20%20West%20Toronto%2036%20%20%20%20%20%20%20%20West%20Toronto%2037%20%20%20%20%20%20%20%20West%20Toronto%2038%20%20%20%20Downtown%20Toronto%2039%20%20%20%20%20%20%20%20East%20Toronto%20Name%3A%20Borough%2C%20dtype%3A%20objectCluster1%3C/div%3E%27%29%5B0%5D%3B%0A%20%20%20%20%20%20%20%20%20%20%20%20%20%20%20%20popup_76c2b5991b1f40e187302e293b9e7f68.setContent%28html_d55401c4b41a4e18b7c49fc4272629c8%29%3B%0A%20%20%20%20%20%20%20%20%20%20%20%20%0A%0A%20%20%20%20%20%20%20%20%20%20%20%20circle_marker_624596ceca82401e9ee0332caa581eb6.bindPopup%28popup_76c2b5991b1f40e187302e293b9e7f68%29%3B%0A%0A%20%20%20%20%20%20%20%20%20%20%20%20%0A%20%20%20%20%20%20%20%20%0A%20%20%20%20%0A%20%20%20%20%20%20%20%20%20%20%20%20var%20circle_marker_44b78f9ffd6542518c605e5dc8d42a86%20%3D%20L.circleMarker%28%0A%20%20%20%20%20%20%20%20%20%20%20%20%20%20%20%20%5B43.6571618%2C-79.37893709999999%5D%2C%0A%20%20%20%20%20%20%20%20%20%20%20%20%20%20%20%20%7B%0A%20%20%22bubblingMouseEvents%22%3A%20true%2C%0A%20%20%22color%22%3A%20%22%238000ff%22%2C%0A%20%20%22dashArray%22%3A%20null%2C%0A%20%20%22dashOffset%22%3A%20null%2C%0A%20%20%22fill%22%3A%20true%2C%0A%20%20%22fillColor%22%3A%20%22%238000ff%22%2C%0A%20%20%22fillOpacity%22%3A%200.7%2C%0A%20%20%22fillRule%22%3A%20%22evenodd%22%2C%0A%20%20%22lineCap%22%3A%20%22round%22%2C%0A%20%20%22lineJoin%22%3A%20%22round%22%2C%0A%20%20%22opacity%22%3A%201.0%2C%0A%20%20%22radius%22%3A%205%2C%0A%20%20%22stroke%22%3A%20true%2C%0A%20%20%22weight%22%3A%203%0A%7D%0A%20%20%20%20%20%20%20%20%20%20%20%20%20%20%20%20%29.addTo%28map_ed2ab0e34e4644d2b40a800f7470c804%29%3B%0A%20%20%20%20%20%20%20%20%20%20%20%20%0A%20%20%20%20%0A%20%20%20%20%20%20%20%20%20%20%20%20var%20popup_e2aec48600de456e9731370187510e73%20%3D%20L.popup%28%7BmaxWidth%3A%20%27300%27%7D%29%3B%0A%0A%20%20%20%20%20%20%20%20%20%20%20%20%0A%20%20%20%20%20%20%20%20%20%20%20%20%20%20%20%20var%20html_066818d4c30d46e08e25d01519fdc933%20%3D%20%24%28%27%3Cdiv%20id%3D%22html_066818d4c30d46e08e25d01519fdc933%22%20style%3D%22width%3A%20100.0%25%3B%20height%3A%20100.0%25%3B%22%3E0%20%20%20%20%20%20%20%20%20East%20Toronto%201%20%20%20%20%20%20%20%20%20East%20Toronto%202%20%20%20%20%20%20%20%20%20East%20Toronto%203%20%20%20%20%20%20%20%20%20East%20Toronto%204%20%20%20%20%20%20Central%20Toronto%205%20%20%20%20%20%20Central%20Toronto%206%20%20%20%20%20%20Central%20Toronto%207%20%20%20%20%20%20Central%20Toronto%208%20%20%20%20%20%20Central%20Toronto%209%20%20%20%20%20%20Central%20Toronto%2010%20%20%20%20Downtown%20Toronto%2011%20%20%20%20Downtown%20Toronto%2012%20%20%20%20Downtown%20Toronto%2013%20%20%20%20Downtown%20Toronto%2014%20%20%20%20Downtown%20Toronto%2015%20%20%20%20Downtown%20Toronto%2016%20%20%20%20Downtown%20Toronto%2017%20%20%20%20Downtown%20Toronto%2018%20%20%20%20Downtown%20Toronto%2019%20%20%20%20Downtown%20Toronto%2020%20%20%20%20Downtown%20Toronto%2021%20%20%20%20Downtown%20Toronto%2022%20%20%20%20%20Central%20Toronto%2023%20%20%20%20%20Central%20Toronto%2024%20%20%20%20%20Central%20Toronto%2025%20%20%20%20Downtown%20Toronto%2026%20%20%20%20Downtown%20Toronto%2027%20%20%20%20Downtown%20Toronto%2028%20%20%20%20Downtown%20Toronto%2029%20%20%20%20Downtown%20Toronto%2030%20%20%20%20Downtown%20Toronto%2031%20%20%20%20%20%20%20%20West%20Toronto%2032%20%20%20%20%20%20%20%20West%20Toronto%2033%20%20%20%20%20%20%20%20West%20Toronto%2034%20%20%20%20%20%20%20%20Toronto/York%2035%20%20%20%20%20%20%20%20West%20Toronto%2036%20%20%20%20%20%20%20%20West%20Toronto%2037%20%20%20%20%20%20%20%20West%20Toronto%2038%20%20%20%20Downtown%20Toronto%2039%20%20%20%20%20%20%20%20East%20Toronto%20Name%3A%20Borough%2C%20dtype%3A%20objectCluster1%3C/div%3E%27%29%5B0%5D%3B%0A%20%20%20%20%20%20%20%20%20%20%20%20%20%20%20%20popup_e2aec48600de456e9731370187510e73.setContent%28html_066818d4c30d46e08e25d01519fdc933%29%3B%0A%20%20%20%20%20%20%20%20%20%20%20%20%0A%0A%20%20%20%20%20%20%20%20%20%20%20%20circle_marker_44b78f9ffd6542518c605e5dc8d42a86.bindPopup%28popup_e2aec48600de456e9731370187510e73%29%3B%0A%0A%20%20%20%20%20%20%20%20%20%20%20%20%0A%20%20%20%20%20%20%20%20%0A%20%20%20%20%0A%20%20%20%20%20%20%20%20%20%20%20%20var%20circle_marker_23d6d3e98b604fe6b9e0008f153dd415%20%3D%20L.circleMarker%28%0A%20%20%20%20%20%20%20%20%20%20%20%20%20%20%20%20%5B43.6514939%2C-79.3754179%5D%2C%0A%20%20%20%20%20%20%20%20%20%20%20%20%20%20%20%20%7B%0A%20%20%22bubblingMouseEvents%22%3A%20true%2C%0A%20%20%22color%22%3A%20%22%238000ff%22%2C%0A%20%20%22dashArray%22%3A%20null%2C%0A%20%20%22dashOffset%22%3A%20null%2C%0A%20%20%22fill%22%3A%20true%2C%0A%20%20%22fillColor%22%3A%20%22%238000ff%22%2C%0A%20%20%22fillOpacity%22%3A%200.7%2C%0A%20%20%22fillRule%22%3A%20%22evenodd%22%2C%0A%20%20%22lineCap%22%3A%20%22round%22%2C%0A%20%20%22lineJoin%22%3A%20%22round%22%2C%0A%20%20%22opacity%22%3A%201.0%2C%0A%20%20%22radius%22%3A%205%2C%0A%20%20%22stroke%22%3A%20true%2C%0A%20%20%22weight%22%3A%203%0A%7D%0A%20%20%20%20%20%20%20%20%20%20%20%20%20%20%20%20%29.addTo%28map_ed2ab0e34e4644d2b40a800f7470c804%29%3B%0A%20%20%20%20%20%20%20%20%20%20%20%20%0A%20%20%20%20%0A%20%20%20%20%20%20%20%20%20%20%20%20var%20popup_60d5cbb04c2c44e4846778526505ab46%20%3D%20L.popup%28%7BmaxWidth%3A%20%27300%27%7D%29%3B%0A%0A%20%20%20%20%20%20%20%20%20%20%20%20%0A%20%20%20%20%20%20%20%20%20%20%20%20%20%20%20%20var%20html_0a425c4b5c724ff4aeb3ce855f11cf60%20%3D%20%24%28%27%3Cdiv%20id%3D%22html_0a425c4b5c724ff4aeb3ce855f11cf60%22%20style%3D%22width%3A%20100.0%25%3B%20height%3A%20100.0%25%3B%22%3E0%20%20%20%20%20%20%20%20%20East%20Toronto%201%20%20%20%20%20%20%20%20%20East%20Toronto%202%20%20%20%20%20%20%20%20%20East%20Toronto%203%20%20%20%20%20%20%20%20%20East%20Toronto%204%20%20%20%20%20%20Central%20Toronto%205%20%20%20%20%20%20Central%20Toronto%206%20%20%20%20%20%20Central%20Toronto%207%20%20%20%20%20%20Central%20Toronto%208%20%20%20%20%20%20Central%20Toronto%209%20%20%20%20%20%20Central%20Toronto%2010%20%20%20%20Downtown%20Toronto%2011%20%20%20%20Downtown%20Toronto%2012%20%20%20%20Downtown%20Toronto%2013%20%20%20%20Downtown%20Toronto%2014%20%20%20%20Downtown%20Toronto%2015%20%20%20%20Downtown%20Toronto%2016%20%20%20%20Downtown%20Toronto%2017%20%20%20%20Downtown%20Toronto%2018%20%20%20%20Downtown%20Toronto%2019%20%20%20%20Downtown%20Toronto%2020%20%20%20%20Downtown%20Toronto%2021%20%20%20%20Downtown%20Toronto%2022%20%20%20%20%20Central%20Toronto%2023%20%20%20%20%20Central%20Toronto%2024%20%20%20%20%20Central%20Toronto%2025%20%20%20%20Downtown%20Toronto%2026%20%20%20%20Downtown%20Toronto%2027%20%20%20%20Downtown%20Toronto%2028%20%20%20%20Downtown%20Toronto%2029%20%20%20%20Downtown%20Toronto%2030%20%20%20%20Downtown%20Toronto%2031%20%20%20%20%20%20%20%20West%20Toronto%2032%20%20%20%20%20%20%20%20West%20Toronto%2033%20%20%20%20%20%20%20%20West%20Toronto%2034%20%20%20%20%20%20%20%20Toronto/York%2035%20%20%20%20%20%20%20%20West%20Toronto%2036%20%20%20%20%20%20%20%20West%20Toronto%2037%20%20%20%20%20%20%20%20West%20Toronto%2038%20%20%20%20Downtown%20Toronto%2039%20%20%20%20%20%20%20%20East%20Toronto%20Name%3A%20Borough%2C%20dtype%3A%20objectCluster1%3C/div%3E%27%29%5B0%5D%3B%0A%20%20%20%20%20%20%20%20%20%20%20%20%20%20%20%20popup_60d5cbb04c2c44e4846778526505ab46.setContent%28html_0a425c4b5c724ff4aeb3ce855f11cf60%29%3B%0A%20%20%20%20%20%20%20%20%20%20%20%20%0A%0A%20%20%20%20%20%20%20%20%20%20%20%20circle_marker_23d6d3e98b604fe6b9e0008f153dd415.bindPopup%28popup_60d5cbb04c2c44e4846778526505ab46%29%3B%0A%0A%20%20%20%20%20%20%20%20%20%20%20%20%0A%20%20%20%20%20%20%20%20%0A%20%20%20%20%0A%20%20%20%20%20%20%20%20%20%20%20%20var%20circle_marker_80c43bb1783e427bbf71575000633387%20%3D%20L.circleMarker%28%0A%20%20%20%20%20%20%20%20%20%20%20%20%20%20%20%20%5B43.644770799999996%2C-79.3733064%5D%2C%0A%20%20%20%20%20%20%20%20%20%20%20%20%20%20%20%20%7B%0A%20%20%22bubblingMouseEvents%22%3A%20true%2C%0A%20%20%22color%22%3A%20%22%238000ff%22%2C%0A%20%20%22dashArray%22%3A%20null%2C%0A%20%20%22dashOffset%22%3A%20null%2C%0A%20%20%22fill%22%3A%20true%2C%0A%20%20%22fillColor%22%3A%20%22%238000ff%22%2C%0A%20%20%22fillOpacity%22%3A%200.7%2C%0A%20%20%22fillRule%22%3A%20%22evenodd%22%2C%0A%20%20%22lineCap%22%3A%20%22round%22%2C%0A%20%20%22lineJoin%22%3A%20%22round%22%2C%0A%20%20%22opacity%22%3A%201.0%2C%0A%20%20%22radius%22%3A%205%2C%0A%20%20%22stroke%22%3A%20true%2C%0A%20%20%22weight%22%3A%203%0A%7D%0A%20%20%20%20%20%20%20%20%20%20%20%20%20%20%20%20%29.addTo%28map_ed2ab0e34e4644d2b40a800f7470c804%29%3B%0A%20%20%20%20%20%20%20%20%20%20%20%20%0A%20%20%20%20%0A%20%20%20%20%20%20%20%20%20%20%20%20var%20popup_1a7a833abdec4c918800e18eb237d770%20%3D%20L.popup%28%7BmaxWidth%3A%20%27300%27%7D%29%3B%0A%0A%20%20%20%20%20%20%20%20%20%20%20%20%0A%20%20%20%20%20%20%20%20%20%20%20%20%20%20%20%20var%20html_cd25ae06c3c74f38b9a0b57121252f51%20%3D%20%24%28%27%3Cdiv%20id%3D%22html_cd25ae06c3c74f38b9a0b57121252f51%22%20style%3D%22width%3A%20100.0%25%3B%20height%3A%20100.0%25%3B%22%3E0%20%20%20%20%20%20%20%20%20East%20Toronto%201%20%20%20%20%20%20%20%20%20East%20Toronto%202%20%20%20%20%20%20%20%20%20East%20Toronto%203%20%20%20%20%20%20%20%20%20East%20Toronto%204%20%20%20%20%20%20Central%20Toronto%205%20%20%20%20%20%20Central%20Toronto%206%20%20%20%20%20%20Central%20Toronto%207%20%20%20%20%20%20Central%20Toronto%208%20%20%20%20%20%20Central%20Toronto%209%20%20%20%20%20%20Central%20Toronto%2010%20%20%20%20Downtown%20Toronto%2011%20%20%20%20Downtown%20Toronto%2012%20%20%20%20Downtown%20Toronto%2013%20%20%20%20Downtown%20Toronto%2014%20%20%20%20Downtown%20Toronto%2015%20%20%20%20Downtown%20Toronto%2016%20%20%20%20Downtown%20Toronto%2017%20%20%20%20Downtown%20Toronto%2018%20%20%20%20Downtown%20Toronto%2019%20%20%20%20Downtown%20Toronto%2020%20%20%20%20Downtown%20Toronto%2021%20%20%20%20Downtown%20Toronto%2022%20%20%20%20%20Central%20Toronto%2023%20%20%20%20%20Central%20Toronto%2024%20%20%20%20%20Central%20Toronto%2025%20%20%20%20Downtown%20Toronto%2026%20%20%20%20Downtown%20Toronto%2027%20%20%20%20Downtown%20Toronto%2028%20%20%20%20Downtown%20Toronto%2029%20%20%20%20Downtown%20Toronto%2030%20%20%20%20Downtown%20Toronto%2031%20%20%20%20%20%20%20%20West%20Toronto%2032%20%20%20%20%20%20%20%20West%20Toronto%2033%20%20%20%20%20%20%20%20West%20Toronto%2034%20%20%20%20%20%20%20%20Toronto/York%2035%20%20%20%20%20%20%20%20West%20Toronto%2036%20%20%20%20%20%20%20%20West%20Toronto%2037%20%20%20%20%20%20%20%20West%20Toronto%2038%20%20%20%20Downtown%20Toronto%2039%20%20%20%20%20%20%20%20East%20Toronto%20Name%3A%20Borough%2C%20dtype%3A%20objectCluster1%3C/div%3E%27%29%5B0%5D%3B%0A%20%20%20%20%20%20%20%20%20%20%20%20%20%20%20%20popup_1a7a833abdec4c918800e18eb237d770.setContent%28html_cd25ae06c3c74f38b9a0b57121252f51%29%3B%0A%20%20%20%20%20%20%20%20%20%20%20%20%0A%0A%20%20%20%20%20%20%20%20%20%20%20%20circle_marker_80c43bb1783e427bbf71575000633387.bindPopup%28popup_1a7a833abdec4c918800e18eb237d770%29%3B%0A%0A%20%20%20%20%20%20%20%20%20%20%20%20%0A%20%20%20%20%20%20%20%20%0A%20%20%20%20%0A%20%20%20%20%20%20%20%20%20%20%20%20var%20circle_marker_dac0c0d7545a49bcbe72a9542c92ac2a%20%3D%20L.circleMarker%28%0A%20%20%20%20%20%20%20%20%20%20%20%20%20%20%20%20%5B43.6579524%2C-79.3873826%5D%2C%0A%20%20%20%20%20%20%20%20%20%20%20%20%20%20%20%20%7B%0A%20%20%22bubblingMouseEvents%22%3A%20true%2C%0A%20%20%22color%22%3A%20%22%238000ff%22%2C%0A%20%20%22dashArray%22%3A%20null%2C%0A%20%20%22dashOffset%22%3A%20null%2C%0A%20%20%22fill%22%3A%20true%2C%0A%20%20%22fillColor%22%3A%20%22%238000ff%22%2C%0A%20%20%22fillOpacity%22%3A%200.7%2C%0A%20%20%22fillRule%22%3A%20%22evenodd%22%2C%0A%20%20%22lineCap%22%3A%20%22round%22%2C%0A%20%20%22lineJoin%22%3A%20%22round%22%2C%0A%20%20%22opacity%22%3A%201.0%2C%0A%20%20%22radius%22%3A%205%2C%0A%20%20%22stroke%22%3A%20true%2C%0A%20%20%22weight%22%3A%203%0A%7D%0A%20%20%20%20%20%20%20%20%20%20%20%20%20%20%20%20%29.addTo%28map_ed2ab0e34e4644d2b40a800f7470c804%29%3B%0A%20%20%20%20%20%20%20%20%20%20%20%20%0A%20%20%20%20%0A%20%20%20%20%20%20%20%20%20%20%20%20var%20popup_caa586f4e8d84d24bcc066695c63d422%20%3D%20L.popup%28%7BmaxWidth%3A%20%27300%27%7D%29%3B%0A%0A%20%20%20%20%20%20%20%20%20%20%20%20%0A%20%20%20%20%20%20%20%20%20%20%20%20%20%20%20%20var%20html_cab0cc2db91947f3b796b87b1656ab1f%20%3D%20%24%28%27%3Cdiv%20id%3D%22html_cab0cc2db91947f3b796b87b1656ab1f%22%20style%3D%22width%3A%20100.0%25%3B%20height%3A%20100.0%25%3B%22%3E0%20%20%20%20%20%20%20%20%20East%20Toronto%201%20%20%20%20%20%20%20%20%20East%20Toronto%202%20%20%20%20%20%20%20%20%20East%20Toronto%203%20%20%20%20%20%20%20%20%20East%20Toronto%204%20%20%20%20%20%20Central%20Toronto%205%20%20%20%20%20%20Central%20Toronto%206%20%20%20%20%20%20Central%20Toronto%207%20%20%20%20%20%20Central%20Toronto%208%20%20%20%20%20%20Central%20Toronto%209%20%20%20%20%20%20Central%20Toronto%2010%20%20%20%20Downtown%20Toronto%2011%20%20%20%20Downtown%20Toronto%2012%20%20%20%20Downtown%20Toronto%2013%20%20%20%20Downtown%20Toronto%2014%20%20%20%20Downtown%20Toronto%2015%20%20%20%20Downtown%20Toronto%2016%20%20%20%20Downtown%20Toronto%2017%20%20%20%20Downtown%20Toronto%2018%20%20%20%20Downtown%20Toronto%2019%20%20%20%20Downtown%20Toronto%2020%20%20%20%20Downtown%20Toronto%2021%20%20%20%20Downtown%20Toronto%2022%20%20%20%20%20Central%20Toronto%2023%20%20%20%20%20Central%20Toronto%2024%20%20%20%20%20Central%20Toronto%2025%20%20%20%20Downtown%20Toronto%2026%20%20%20%20Downtown%20Toronto%2027%20%20%20%20Downtown%20Toronto%2028%20%20%20%20Downtown%20Toronto%2029%20%20%20%20Downtown%20Toronto%2030%20%20%20%20Downtown%20Toronto%2031%20%20%20%20%20%20%20%20West%20Toronto%2032%20%20%20%20%20%20%20%20West%20Toronto%2033%20%20%20%20%20%20%20%20West%20Toronto%2034%20%20%20%20%20%20%20%20Toronto/York%2035%20%20%20%20%20%20%20%20West%20Toronto%2036%20%20%20%20%20%20%20%20West%20Toronto%2037%20%20%20%20%20%20%20%20West%20Toronto%2038%20%20%20%20Downtown%20Toronto%2039%20%20%20%20%20%20%20%20East%20Toronto%20Name%3A%20Borough%2C%20dtype%3A%20objectCluster1%3C/div%3E%27%29%5B0%5D%3B%0A%20%20%20%20%20%20%20%20%20%20%20%20%20%20%20%20popup_caa586f4e8d84d24bcc066695c63d422.setContent%28html_cab0cc2db91947f3b796b87b1656ab1f%29%3B%0A%20%20%20%20%20%20%20%20%20%20%20%20%0A%0A%20%20%20%20%20%20%20%20%20%20%20%20circle_marker_dac0c0d7545a49bcbe72a9542c92ac2a.bindPopup%28popup_caa586f4e8d84d24bcc066695c63d422%29%3B%0A%0A%20%20%20%20%20%20%20%20%20%20%20%20%0A%20%20%20%20%20%20%20%20%0A%20%20%20%20%0A%20%20%20%20%20%20%20%20%20%20%20%20var%20circle_marker_4491296759294fe49a91ba2fddff1482%20%3D%20L.circleMarker%28%0A%20%20%20%20%20%20%20%20%20%20%20%20%20%20%20%20%5B43.65057120000001%2C-79.3845675%5D%2C%0A%20%20%20%20%20%20%20%20%20%20%20%20%20%20%20%20%7B%0A%20%20%22bubblingMouseEvents%22%3A%20true%2C%0A%20%20%22color%22%3A%20%22%238000ff%22%2C%0A%20%20%22dashArray%22%3A%20null%2C%0A%20%20%22dashOffset%22%3A%20null%2C%0A%20%20%22fill%22%3A%20true%2C%0A%20%20%22fillColor%22%3A%20%22%238000ff%22%2C%0A%20%20%22fillOpacity%22%3A%200.7%2C%0A%20%20%22fillRule%22%3A%20%22evenodd%22%2C%0A%20%20%22lineCap%22%3A%20%22round%22%2C%0A%20%20%22lineJoin%22%3A%20%22round%22%2C%0A%20%20%22opacity%22%3A%201.0%2C%0A%20%20%22radius%22%3A%205%2C%0A%20%20%22stroke%22%3A%20true%2C%0A%20%20%22weight%22%3A%203%0A%7D%0A%20%20%20%20%20%20%20%20%20%20%20%20%20%20%20%20%29.addTo%28map_ed2ab0e34e4644d2b40a800f7470c804%29%3B%0A%20%20%20%20%20%20%20%20%20%20%20%20%0A%20%20%20%20%0A%20%20%20%20%20%20%20%20%20%20%20%20var%20popup_af815d2e8af44dec83b3a0e93ae91b7d%20%3D%20L.popup%28%7BmaxWidth%3A%20%27300%27%7D%29%3B%0A%0A%20%20%20%20%20%20%20%20%20%20%20%20%0A%20%20%20%20%20%20%20%20%20%20%20%20%20%20%20%20var%20html_504f800199674906ace4d19b431719c8%20%3D%20%24%28%27%3Cdiv%20id%3D%22html_504f800199674906ace4d19b431719c8%22%20style%3D%22width%3A%20100.0%25%3B%20height%3A%20100.0%25%3B%22%3E0%20%20%20%20%20%20%20%20%20East%20Toronto%201%20%20%20%20%20%20%20%20%20East%20Toronto%202%20%20%20%20%20%20%20%20%20East%20Toronto%203%20%20%20%20%20%20%20%20%20East%20Toronto%204%20%20%20%20%20%20Central%20Toronto%205%20%20%20%20%20%20Central%20Toronto%206%20%20%20%20%20%20Central%20Toronto%207%20%20%20%20%20%20Central%20Toronto%208%20%20%20%20%20%20Central%20Toronto%209%20%20%20%20%20%20Central%20Toronto%2010%20%20%20%20Downtown%20Toronto%2011%20%20%20%20Downtown%20Toronto%2012%20%20%20%20Downtown%20Toronto%2013%20%20%20%20Downtown%20Toronto%2014%20%20%20%20Downtown%20Toronto%2015%20%20%20%20Downtown%20Toronto%2016%20%20%20%20Downtown%20Toronto%2017%20%20%20%20Downtown%20Toronto%2018%20%20%20%20Downtown%20Toronto%2019%20%20%20%20Downtown%20Toronto%2020%20%20%20%20Downtown%20Toronto%2021%20%20%20%20Downtown%20Toronto%2022%20%20%20%20%20Central%20Toronto%2023%20%20%20%20%20Central%20Toronto%2024%20%20%20%20%20Central%20Toronto%2025%20%20%20%20Downtown%20Toronto%2026%20%20%20%20Downtown%20Toronto%2027%20%20%20%20Downtown%20Toronto%2028%20%20%20%20Downtown%20Toronto%2029%20%20%20%20Downtown%20Toronto%2030%20%20%20%20Downtown%20Toronto%2031%20%20%20%20%20%20%20%20West%20Toronto%2032%20%20%20%20%20%20%20%20West%20Toronto%2033%20%20%20%20%20%20%20%20West%20Toronto%2034%20%20%20%20%20%20%20%20Toronto/York%2035%20%20%20%20%20%20%20%20West%20Toronto%2036%20%20%20%20%20%20%20%20West%20Toronto%2037%20%20%20%20%20%20%20%20West%20Toronto%2038%20%20%20%20Downtown%20Toronto%2039%20%20%20%20%20%20%20%20East%20Toronto%20Name%3A%20Borough%2C%20dtype%3A%20objectCluster1%3C/div%3E%27%29%5B0%5D%3B%0A%20%20%20%20%20%20%20%20%20%20%20%20%20%20%20%20popup_af815d2e8af44dec83b3a0e93ae91b7d.setContent%28html_504f800199674906ace4d19b431719c8%29%3B%0A%20%20%20%20%20%20%20%20%20%20%20%20%0A%0A%20%20%20%20%20%20%20%20%20%20%20%20circle_marker_4491296759294fe49a91ba2fddff1482.bindPopup%28popup_af815d2e8af44dec83b3a0e93ae91b7d%29%3B%0A%0A%20%20%20%20%20%20%20%20%20%20%20%20%0A%20%20%20%20%20%20%20%20%0A%20%20%20%20%0A%20%20%20%20%20%20%20%20%20%20%20%20var%20circle_marker_03c54247f1284d72b3652f25e8597a55%20%3D%20L.circleMarker%28%0A%20%20%20%20%20%20%20%20%20%20%20%20%20%20%20%20%5B43.6408157%2C-79.38175229999999%5D%2C%0A%20%20%20%20%20%20%20%20%20%20%20%20%20%20%20%20%7B%0A%20%20%22bubblingMouseEvents%22%3A%20true%2C%0A%20%20%22color%22%3A%20%22%238000ff%22%2C%0A%20%20%22dashArray%22%3A%20null%2C%0A%20%20%22dashOffset%22%3A%20null%2C%0A%20%20%22fill%22%3A%20true%2C%0A%20%20%22fillColor%22%3A%20%22%238000ff%22%2C%0A%20%20%22fillOpacity%22%3A%200.7%2C%0A%20%20%22fillRule%22%3A%20%22evenodd%22%2C%0A%20%20%22lineCap%22%3A%20%22round%22%2C%0A%20%20%22lineJoin%22%3A%20%22round%22%2C%0A%20%20%22opacity%22%3A%201.0%2C%0A%20%20%22radius%22%3A%205%2C%0A%20%20%22stroke%22%3A%20true%2C%0A%20%20%22weight%22%3A%203%0A%7D%0A%20%20%20%20%20%20%20%20%20%20%20%20%20%20%20%20%29.addTo%28map_ed2ab0e34e4644d2b40a800f7470c804%29%3B%0A%20%20%20%20%20%20%20%20%20%20%20%20%0A%20%20%20%20%0A%20%20%20%20%20%20%20%20%20%20%20%20var%20popup_7e71e5b8d906405295c80bc9d9eff4b1%20%3D%20L.popup%28%7BmaxWidth%3A%20%27300%27%7D%29%3B%0A%0A%20%20%20%20%20%20%20%20%20%20%20%20%0A%20%20%20%20%20%20%20%20%20%20%20%20%20%20%20%20var%20html_693bf98acaa14cb3ba361c447c2db813%20%3D%20%24%28%27%3Cdiv%20id%3D%22html_693bf98acaa14cb3ba361c447c2db813%22%20style%3D%22width%3A%20100.0%25%3B%20height%3A%20100.0%25%3B%22%3E0%20%20%20%20%20%20%20%20%20East%20Toronto%201%20%20%20%20%20%20%20%20%20East%20Toronto%202%20%20%20%20%20%20%20%20%20East%20Toronto%203%20%20%20%20%20%20%20%20%20East%20Toronto%204%20%20%20%20%20%20Central%20Toronto%205%20%20%20%20%20%20Central%20Toronto%206%20%20%20%20%20%20Central%20Toronto%207%20%20%20%20%20%20Central%20Toronto%208%20%20%20%20%20%20Central%20Toronto%209%20%20%20%20%20%20Central%20Toronto%2010%20%20%20%20Downtown%20Toronto%2011%20%20%20%20Downtown%20Toronto%2012%20%20%20%20Downtown%20Toronto%2013%20%20%20%20Downtown%20Toronto%2014%20%20%20%20Downtown%20Toronto%2015%20%20%20%20Downtown%20Toronto%2016%20%20%20%20Downtown%20Toronto%2017%20%20%20%20Downtown%20Toronto%2018%20%20%20%20Downtown%20Toronto%2019%20%20%20%20Downtown%20Toronto%2020%20%20%20%20Downtown%20Toronto%2021%20%20%20%20Downtown%20Toronto%2022%20%20%20%20%20Central%20Toronto%2023%20%20%20%20%20Central%20Toronto%2024%20%20%20%20%20Central%20Toronto%2025%20%20%20%20Downtown%20Toronto%2026%20%20%20%20Downtown%20Toronto%2027%20%20%20%20Downtown%20Toronto%2028%20%20%20%20Downtown%20Toronto%2029%20%20%20%20Downtown%20Toronto%2030%20%20%20%20Downtown%20Toronto%2031%20%20%20%20%20%20%20%20West%20Toronto%2032%20%20%20%20%20%20%20%20West%20Toronto%2033%20%20%20%20%20%20%20%20West%20Toronto%2034%20%20%20%20%20%20%20%20Toronto/York%2035%20%20%20%20%20%20%20%20West%20Toronto%2036%20%20%20%20%20%20%20%20West%20Toronto%2037%20%20%20%20%20%20%20%20West%20Toronto%2038%20%20%20%20Downtown%20Toronto%2039%20%20%20%20%20%20%20%20East%20Toronto%20Name%3A%20Borough%2C%20dtype%3A%20objectCluster1%3C/div%3E%27%29%5B0%5D%3B%0A%20%20%20%20%20%20%20%20%20%20%20%20%20%20%20%20popup_7e71e5b8d906405295c80bc9d9eff4b1.setContent%28html_693bf98acaa14cb3ba361c447c2db813%29%3B%0A%20%20%20%20%20%20%20%20%20%20%20%20%0A%0A%20%20%20%20%20%20%20%20%20%20%20%20circle_marker_03c54247f1284d72b3652f25e8597a55.bindPopup%28popup_7e71e5b8d906405295c80bc9d9eff4b1%29%3B%0A%0A%20%20%20%20%20%20%20%20%20%20%20%20%0A%20%20%20%20%20%20%20%20%0A%20%20%20%20%0A%20%20%20%20%20%20%20%20%20%20%20%20var%20circle_marker_4d3abdf09e8d4294b28e40944d97175e%20%3D%20L.circleMarker%28%0A%20%20%20%20%20%20%20%20%20%20%20%20%20%20%20%20%5B43.6471768%2C-79.38157640000001%5D%2C%0A%20%20%20%20%20%20%20%20%20%20%20%20%20%20%20%20%7B%0A%20%20%22bubblingMouseEvents%22%3A%20true%2C%0A%20%20%22color%22%3A%20%22%238000ff%22%2C%0A%20%20%22dashArray%22%3A%20null%2C%0A%20%20%22dashOffset%22%3A%20null%2C%0A%20%20%22fill%22%3A%20true%2C%0A%20%20%22fillColor%22%3A%20%22%238000ff%22%2C%0A%20%20%22fillOpacity%22%3A%200.7%2C%0A%20%20%22fillRule%22%3A%20%22evenodd%22%2C%0A%20%20%22lineCap%22%3A%20%22round%22%2C%0A%20%20%22lineJoin%22%3A%20%22round%22%2C%0A%20%20%22opacity%22%3A%201.0%2C%0A%20%20%22radius%22%3A%205%2C%0A%20%20%22stroke%22%3A%20true%2C%0A%20%20%22weight%22%3A%203%0A%7D%0A%20%20%20%20%20%20%20%20%20%20%20%20%20%20%20%20%29.addTo%28map_ed2ab0e34e4644d2b40a800f7470c804%29%3B%0A%20%20%20%20%20%20%20%20%20%20%20%20%0A%20%20%20%20%0A%20%20%20%20%20%20%20%20%20%20%20%20var%20popup_a03904de5677418a82da20a41bc1104b%20%3D%20L.popup%28%7BmaxWidth%3A%20%27300%27%7D%29%3B%0A%0A%20%20%20%20%20%20%20%20%20%20%20%20%0A%20%20%20%20%20%20%20%20%20%20%20%20%20%20%20%20var%20html_c396bddd5f564b8e80d34927ad0a3df6%20%3D%20%24%28%27%3Cdiv%20id%3D%22html_c396bddd5f564b8e80d34927ad0a3df6%22%20style%3D%22width%3A%20100.0%25%3B%20height%3A%20100.0%25%3B%22%3E0%20%20%20%20%20%20%20%20%20East%20Toronto%201%20%20%20%20%20%20%20%20%20East%20Toronto%202%20%20%20%20%20%20%20%20%20East%20Toronto%203%20%20%20%20%20%20%20%20%20East%20Toronto%204%20%20%20%20%20%20Central%20Toronto%205%20%20%20%20%20%20Central%20Toronto%206%20%20%20%20%20%20Central%20Toronto%207%20%20%20%20%20%20Central%20Toronto%208%20%20%20%20%20%20Central%20Toronto%209%20%20%20%20%20%20Central%20Toronto%2010%20%20%20%20Downtown%20Toronto%2011%20%20%20%20Downtown%20Toronto%2012%20%20%20%20Downtown%20Toronto%2013%20%20%20%20Downtown%20Toronto%2014%20%20%20%20Downtown%20Toronto%2015%20%20%20%20Downtown%20Toronto%2016%20%20%20%20Downtown%20Toronto%2017%20%20%20%20Downtown%20Toronto%2018%20%20%20%20Downtown%20Toronto%2019%20%20%20%20Downtown%20Toronto%2020%20%20%20%20Downtown%20Toronto%2021%20%20%20%20Downtown%20Toronto%2022%20%20%20%20%20Central%20Toronto%2023%20%20%20%20%20Central%20Toronto%2024%20%20%20%20%20Central%20Toronto%2025%20%20%20%20Downtown%20Toronto%2026%20%20%20%20Downtown%20Toronto%2027%20%20%20%20Downtown%20Toronto%2028%20%20%20%20Downtown%20Toronto%2029%20%20%20%20Downtown%20Toronto%2030%20%20%20%20Downtown%20Toronto%2031%20%20%20%20%20%20%20%20West%20Toronto%2032%20%20%20%20%20%20%20%20West%20Toronto%2033%20%20%20%20%20%20%20%20West%20Toronto%2034%20%20%20%20%20%20%20%20Toronto/York%2035%20%20%20%20%20%20%20%20West%20Toronto%2036%20%20%20%20%20%20%20%20West%20Toronto%2037%20%20%20%20%20%20%20%20West%20Toronto%2038%20%20%20%20Downtown%20Toronto%2039%20%20%20%20%20%20%20%20East%20Toronto%20Name%3A%20Borough%2C%20dtype%3A%20objectCluster1%3C/div%3E%27%29%5B0%5D%3B%0A%20%20%20%20%20%20%20%20%20%20%20%20%20%20%20%20popup_a03904de5677418a82da20a41bc1104b.setContent%28html_c396bddd5f564b8e80d34927ad0a3df6%29%3B%0A%20%20%20%20%20%20%20%20%20%20%20%20%0A%0A%20%20%20%20%20%20%20%20%20%20%20%20circle_marker_4d3abdf09e8d4294b28e40944d97175e.bindPopup%28popup_a03904de5677418a82da20a41bc1104b%29%3B%0A%0A%20%20%20%20%20%20%20%20%20%20%20%20%0A%20%20%20%20%20%20%20%20%0A%20%20%20%20%0A%20%20%20%20%20%20%20%20%20%20%20%20var%20circle_marker_d0c38b0f45ca4bb8aa5911cbd8206518%20%3D%20L.circleMarker%28%0A%20%20%20%20%20%20%20%20%20%20%20%20%20%20%20%20%5B43.6481985%2C-79.37981690000001%5D%2C%0A%20%20%20%20%20%20%20%20%20%20%20%20%20%20%20%20%7B%0A%20%20%22bubblingMouseEvents%22%3A%20true%2C%0A%20%20%22color%22%3A%20%22%238000ff%22%2C%0A%20%20%22dashArray%22%3A%20null%2C%0A%20%20%22dashOffset%22%3A%20null%2C%0A%20%20%22fill%22%3A%20true%2C%0A%20%20%22fillColor%22%3A%20%22%238000ff%22%2C%0A%20%20%22fillOpacity%22%3A%200.7%2C%0A%20%20%22fillRule%22%3A%20%22evenodd%22%2C%0A%20%20%22lineCap%22%3A%20%22round%22%2C%0A%20%20%22lineJoin%22%3A%20%22round%22%2C%0A%20%20%22opacity%22%3A%201.0%2C%0A%20%20%22radius%22%3A%205%2C%0A%20%20%22stroke%22%3A%20true%2C%0A%20%20%22weight%22%3A%203%0A%7D%0A%20%20%20%20%20%20%20%20%20%20%20%20%20%20%20%20%29.addTo%28map_ed2ab0e34e4644d2b40a800f7470c804%29%3B%0A%20%20%20%20%20%20%20%20%20%20%20%20%0A%20%20%20%20%0A%20%20%20%20%20%20%20%20%20%20%20%20var%20popup_d9186ab34445489caf348f6d2ef229d9%20%3D%20L.popup%28%7BmaxWidth%3A%20%27300%27%7D%29%3B%0A%0A%20%20%20%20%20%20%20%20%20%20%20%20%0A%20%20%20%20%20%20%20%20%20%20%20%20%20%20%20%20var%20html_ddc4f318b696440e9367bda78b18bb32%20%3D%20%24%28%27%3Cdiv%20id%3D%22html_ddc4f318b696440e9367bda78b18bb32%22%20style%3D%22width%3A%20100.0%25%3B%20height%3A%20100.0%25%3B%22%3E0%20%20%20%20%20%20%20%20%20East%20Toronto%201%20%20%20%20%20%20%20%20%20East%20Toronto%202%20%20%20%20%20%20%20%20%20East%20Toronto%203%20%20%20%20%20%20%20%20%20East%20Toronto%204%20%20%20%20%20%20Central%20Toronto%205%20%20%20%20%20%20Central%20Toronto%206%20%20%20%20%20%20Central%20Toronto%207%20%20%20%20%20%20Central%20Toronto%208%20%20%20%20%20%20Central%20Toronto%209%20%20%20%20%20%20Central%20Toronto%2010%20%20%20%20Downtown%20Toronto%2011%20%20%20%20Downtown%20Toronto%2012%20%20%20%20Downtown%20Toronto%2013%20%20%20%20Downtown%20Toronto%2014%20%20%20%20Downtown%20Toronto%2015%20%20%20%20Downtown%20Toronto%2016%20%20%20%20Downtown%20Toronto%2017%20%20%20%20Downtown%20Toronto%2018%20%20%20%20Downtown%20Toronto%2019%20%20%20%20Downtown%20Toronto%2020%20%20%20%20Downtown%20Toronto%2021%20%20%20%20Downtown%20Toronto%2022%20%20%20%20%20Central%20Toronto%2023%20%20%20%20%20Central%20Toronto%2024%20%20%20%20%20Central%20Toronto%2025%20%20%20%20Downtown%20Toronto%2026%20%20%20%20Downtown%20Toronto%2027%20%20%20%20Downtown%20Toronto%2028%20%20%20%20Downtown%20Toronto%2029%20%20%20%20Downtown%20Toronto%2030%20%20%20%20Downtown%20Toronto%2031%20%20%20%20%20%20%20%20West%20Toronto%2032%20%20%20%20%20%20%20%20West%20Toronto%2033%20%20%20%20%20%20%20%20West%20Toronto%2034%20%20%20%20%20%20%20%20Toronto/York%2035%20%20%20%20%20%20%20%20West%20Toronto%2036%20%20%20%20%20%20%20%20West%20Toronto%2037%20%20%20%20%20%20%20%20West%20Toronto%2038%20%20%20%20Downtown%20Toronto%2039%20%20%20%20%20%20%20%20East%20Toronto%20Name%3A%20Borough%2C%20dtype%3A%20objectCluster1%3C/div%3E%27%29%5B0%5D%3B%0A%20%20%20%20%20%20%20%20%20%20%20%20%20%20%20%20popup_d9186ab34445489caf348f6d2ef229d9.setContent%28html_ddc4f318b696440e9367bda78b18bb32%29%3B%0A%20%20%20%20%20%20%20%20%20%20%20%20%0A%0A%20%20%20%20%20%20%20%20%20%20%20%20circle_marker_d0c38b0f45ca4bb8aa5911cbd8206518.bindPopup%28popup_d9186ab34445489caf348f6d2ef229d9%29%3B%0A%0A%20%20%20%20%20%20%20%20%20%20%20%20%0A%20%20%20%20%20%20%20%20%0A%20%20%20%20%0A%20%20%20%20%20%20%20%20%20%20%20%20var%20circle_marker_1b5e9872cf5442cc833abcd27d862342%20%3D%20L.circleMarker%28%0A%20%20%20%20%20%20%20%20%20%20%20%20%20%20%20%20%5B43.7116948%2C-79.41693559999999%5D%2C%0A%20%20%20%20%20%20%20%20%20%20%20%20%20%20%20%20%7B%0A%20%20%22bubblingMouseEvents%22%3A%20true%2C%0A%20%20%22color%22%3A%20%22%2300b5eb%22%2C%0A%20%20%22dashArray%22%3A%20null%2C%0A%20%20%22dashOffset%22%3A%20null%2C%0A%20%20%22fill%22%3A%20true%2C%0A%20%20%22fillColor%22%3A%20%22%2300b5eb%22%2C%0A%20%20%22fillOpacity%22%3A%200.7%2C%0A%20%20%22fillRule%22%3A%20%22evenodd%22%2C%0A%20%20%22lineCap%22%3A%20%22round%22%2C%0A%20%20%22lineJoin%22%3A%20%22round%22%2C%0A%20%20%22opacity%22%3A%201.0%2C%0A%20%20%22radius%22%3A%205%2C%0A%20%20%22stroke%22%3A%20true%2C%0A%20%20%22weight%22%3A%203%0A%7D%0A%20%20%20%20%20%20%20%20%20%20%20%20%20%20%20%20%29.addTo%28map_ed2ab0e34e4644d2b40a800f7470c804%29%3B%0A%20%20%20%20%20%20%20%20%20%20%20%20%0A%20%20%20%20%0A%20%20%20%20%20%20%20%20%20%20%20%20var%20popup_20f75e41da8649f88ad34f02aaacd10c%20%3D%20L.popup%28%7BmaxWidth%3A%20%27300%27%7D%29%3B%0A%0A%20%20%20%20%20%20%20%20%20%20%20%20%0A%20%20%20%20%20%20%20%20%20%20%20%20%20%20%20%20var%20html_042f3a084d21405291315a26c1624017%20%3D%20%24%28%27%3Cdiv%20id%3D%22html_042f3a084d21405291315a26c1624017%22%20style%3D%22width%3A%20100.0%25%3B%20height%3A%20100.0%25%3B%22%3E0%20%20%20%20%20%20%20%20%20East%20Toronto%201%20%20%20%20%20%20%20%20%20East%20Toronto%202%20%20%20%20%20%20%20%20%20East%20Toronto%203%20%20%20%20%20%20%20%20%20East%20Toronto%204%20%20%20%20%20%20Central%20Toronto%205%20%20%20%20%20%20Central%20Toronto%206%20%20%20%20%20%20Central%20Toronto%207%20%20%20%20%20%20Central%20Toronto%208%20%20%20%20%20%20Central%20Toronto%209%20%20%20%20%20%20Central%20Toronto%2010%20%20%20%20Downtown%20Toronto%2011%20%20%20%20Downtown%20Toronto%2012%20%20%20%20Downtown%20Toronto%2013%20%20%20%20Downtown%20Toronto%2014%20%20%20%20Downtown%20Toronto%2015%20%20%20%20Downtown%20Toronto%2016%20%20%20%20Downtown%20Toronto%2017%20%20%20%20Downtown%20Toronto%2018%20%20%20%20Downtown%20Toronto%2019%20%20%20%20Downtown%20Toronto%2020%20%20%20%20Downtown%20Toronto%2021%20%20%20%20Downtown%20Toronto%2022%20%20%20%20%20Central%20Toronto%2023%20%20%20%20%20Central%20Toronto%2024%20%20%20%20%20Central%20Toronto%2025%20%20%20%20Downtown%20Toronto%2026%20%20%20%20Downtown%20Toronto%2027%20%20%20%20Downtown%20Toronto%2028%20%20%20%20Downtown%20Toronto%2029%20%20%20%20Downtown%20Toronto%2030%20%20%20%20Downtown%20Toronto%2031%20%20%20%20%20%20%20%20West%20Toronto%2032%20%20%20%20%20%20%20%20West%20Toronto%2033%20%20%20%20%20%20%20%20West%20Toronto%2034%20%20%20%20%20%20%20%20Toronto/York%2035%20%20%20%20%20%20%20%20West%20Toronto%2036%20%20%20%20%20%20%20%20West%20Toronto%2037%20%20%20%20%20%20%20%20West%20Toronto%2038%20%20%20%20Downtown%20Toronto%2039%20%20%20%20%20%20%20%20East%20Toronto%20Name%3A%20Borough%2C%20dtype%3A%20objectCluster2%3C/div%3E%27%29%5B0%5D%3B%0A%20%20%20%20%20%20%20%20%20%20%20%20%20%20%20%20popup_20f75e41da8649f88ad34f02aaacd10c.setContent%28html_042f3a084d21405291315a26c1624017%29%3B%0A%20%20%20%20%20%20%20%20%20%20%20%20%0A%0A%20%20%20%20%20%20%20%20%20%20%20%20circle_marker_1b5e9872cf5442cc833abcd27d862342.bindPopup%28popup_20f75e41da8649f88ad34f02aaacd10c%29%3B%0A%0A%20%20%20%20%20%20%20%20%20%20%20%20%0A%20%20%20%20%20%20%20%20%0A%20%20%20%20%0A%20%20%20%20%20%20%20%20%20%20%20%20var%20circle_marker_e2d2f07439624497ac773bb4f93bcb0f%20%3D%20L.circleMarker%28%0A%20%20%20%20%20%20%20%20%20%20%20%20%20%20%20%20%5B43.6969476%2C-79.41130720000001%5D%2C%0A%20%20%20%20%20%20%20%20%20%20%20%20%20%20%20%20%7B%0A%20%20%22bubblingMouseEvents%22%3A%20true%2C%0A%20%20%22color%22%3A%20%22%2300b5eb%22%2C%0A%20%20%22dashArray%22%3A%20null%2C%0A%20%20%22dashOffset%22%3A%20null%2C%0A%20%20%22fill%22%3A%20true%2C%0A%20%20%22fillColor%22%3A%20%22%2300b5eb%22%2C%0A%20%20%22fillOpacity%22%3A%200.7%2C%0A%20%20%22fillRule%22%3A%20%22evenodd%22%2C%0A%20%20%22lineCap%22%3A%20%22round%22%2C%0A%20%20%22lineJoin%22%3A%20%22round%22%2C%0A%20%20%22opacity%22%3A%201.0%2C%0A%20%20%22radius%22%3A%205%2C%0A%20%20%22stroke%22%3A%20true%2C%0A%20%20%22weight%22%3A%203%0A%7D%0A%20%20%20%20%20%20%20%20%20%20%20%20%20%20%20%20%29.addTo%28map_ed2ab0e34e4644d2b40a800f7470c804%29%3B%0A%20%20%20%20%20%20%20%20%20%20%20%20%0A%20%20%20%20%0A%20%20%20%20%20%20%20%20%20%20%20%20var%20popup_cad370caddc44f6d9f70bdb7a5178960%20%3D%20L.popup%28%7BmaxWidth%3A%20%27300%27%7D%29%3B%0A%0A%20%20%20%20%20%20%20%20%20%20%20%20%0A%20%20%20%20%20%20%20%20%20%20%20%20%20%20%20%20var%20html_65bd20a6491246b78454832756fd539b%20%3D%20%24%28%27%3Cdiv%20id%3D%22html_65bd20a6491246b78454832756fd539b%22%20style%3D%22width%3A%20100.0%25%3B%20height%3A%20100.0%25%3B%22%3E0%20%20%20%20%20%20%20%20%20East%20Toronto%201%20%20%20%20%20%20%20%20%20East%20Toronto%202%20%20%20%20%20%20%20%20%20East%20Toronto%203%20%20%20%20%20%20%20%20%20East%20Toronto%204%20%20%20%20%20%20Central%20Toronto%205%20%20%20%20%20%20Central%20Toronto%206%20%20%20%20%20%20Central%20Toronto%207%20%20%20%20%20%20Central%20Toronto%208%20%20%20%20%20%20Central%20Toronto%209%20%20%20%20%20%20Central%20Toronto%2010%20%20%20%20Downtown%20Toronto%2011%20%20%20%20Downtown%20Toronto%2012%20%20%20%20Downtown%20Toronto%2013%20%20%20%20Downtown%20Toronto%2014%20%20%20%20Downtown%20Toronto%2015%20%20%20%20Downtown%20Toronto%2016%20%20%20%20Downtown%20Toronto%2017%20%20%20%20Downtown%20Toronto%2018%20%20%20%20Downtown%20Toronto%2019%20%20%20%20Downtown%20Toronto%2020%20%20%20%20Downtown%20Toronto%2021%20%20%20%20Downtown%20Toronto%2022%20%20%20%20%20Central%20Toronto%2023%20%20%20%20%20Central%20Toronto%2024%20%20%20%20%20Central%20Toronto%2025%20%20%20%20Downtown%20Toronto%2026%20%20%20%20Downtown%20Toronto%2027%20%20%20%20Downtown%20Toronto%2028%20%20%20%20Downtown%20Toronto%2029%20%20%20%20Downtown%20Toronto%2030%20%20%20%20Downtown%20Toronto%2031%20%20%20%20%20%20%20%20West%20Toronto%2032%20%20%20%20%20%20%20%20West%20Toronto%2033%20%20%20%20%20%20%20%20West%20Toronto%2034%20%20%20%20%20%20%20%20Toronto/York%2035%20%20%20%20%20%20%20%20West%20Toronto%2036%20%20%20%20%20%20%20%20West%20Toronto%2037%20%20%20%20%20%20%20%20West%20Toronto%2038%20%20%20%20Downtown%20Toronto%2039%20%20%20%20%20%20%20%20East%20Toronto%20Name%3A%20Borough%2C%20dtype%3A%20objectCluster2%3C/div%3E%27%29%5B0%5D%3B%0A%20%20%20%20%20%20%20%20%20%20%20%20%20%20%20%20popup_cad370caddc44f6d9f70bdb7a5178960.setContent%28html_65bd20a6491246b78454832756fd539b%29%3B%0A%20%20%20%20%20%20%20%20%20%20%20%20%0A%0A%20%20%20%20%20%20%20%20%20%20%20%20circle_marker_e2d2f07439624497ac773bb4f93bcb0f.bindPopup%28popup_cad370caddc44f6d9f70bdb7a5178960%29%3B%0A%0A%20%20%20%20%20%20%20%20%20%20%20%20%0A%20%20%20%20%20%20%20%20%0A%20%20%20%20%0A%20%20%20%20%20%20%20%20%20%20%20%20var%20circle_marker_c768b9c98e5e44f5bde9b305d005dd7c%20%3D%20L.circleMarker%28%0A%20%20%20%20%20%20%20%20%20%20%20%20%20%20%20%20%5B43.6727097%2C-79.40567840000001%5D%2C%0A%20%20%20%20%20%20%20%20%20%20%20%20%20%20%20%20%7B%0A%20%20%22bubblingMouseEvents%22%3A%20true%2C%0A%20%20%22color%22%3A%20%22%2300b5eb%22%2C%0A%20%20%22dashArray%22%3A%20null%2C%0A%20%20%22dashOffset%22%3A%20null%2C%0A%20%20%22fill%22%3A%20true%2C%0A%20%20%22fillColor%22%3A%20%22%2300b5eb%22%2C%0A%20%20%22fillOpacity%22%3A%200.7%2C%0A%20%20%22fillRule%22%3A%20%22evenodd%22%2C%0A%20%20%22lineCap%22%3A%20%22round%22%2C%0A%20%20%22lineJoin%22%3A%20%22round%22%2C%0A%20%20%22opacity%22%3A%201.0%2C%0A%20%20%22radius%22%3A%205%2C%0A%20%20%22stroke%22%3A%20true%2C%0A%20%20%22weight%22%3A%203%0A%7D%0A%20%20%20%20%20%20%20%20%20%20%20%20%20%20%20%20%29.addTo%28map_ed2ab0e34e4644d2b40a800f7470c804%29%3B%0A%20%20%20%20%20%20%20%20%20%20%20%20%0A%20%20%20%20%0A%20%20%20%20%20%20%20%20%20%20%20%20var%20popup_4cb29d70aceb4d98ad9444b62fadcebb%20%3D%20L.popup%28%7BmaxWidth%3A%20%27300%27%7D%29%3B%0A%0A%20%20%20%20%20%20%20%20%20%20%20%20%0A%20%20%20%20%20%20%20%20%20%20%20%20%20%20%20%20var%20html_1286247deb564d04a89da7b2c8761b02%20%3D%20%24%28%27%3Cdiv%20id%3D%22html_1286247deb564d04a89da7b2c8761b02%22%20style%3D%22width%3A%20100.0%25%3B%20height%3A%20100.0%25%3B%22%3E0%20%20%20%20%20%20%20%20%20East%20Toronto%201%20%20%20%20%20%20%20%20%20East%20Toronto%202%20%20%20%20%20%20%20%20%20East%20Toronto%203%20%20%20%20%20%20%20%20%20East%20Toronto%204%20%20%20%20%20%20Central%20Toronto%205%20%20%20%20%20%20Central%20Toronto%206%20%20%20%20%20%20Central%20Toronto%207%20%20%20%20%20%20Central%20Toronto%208%20%20%20%20%20%20Central%20Toronto%209%20%20%20%20%20%20Central%20Toronto%2010%20%20%20%20Downtown%20Toronto%2011%20%20%20%20Downtown%20Toronto%2012%20%20%20%20Downtown%20Toronto%2013%20%20%20%20Downtown%20Toronto%2014%20%20%20%20Downtown%20Toronto%2015%20%20%20%20Downtown%20Toronto%2016%20%20%20%20Downtown%20Toronto%2017%20%20%20%20Downtown%20Toronto%2018%20%20%20%20Downtown%20Toronto%2019%20%20%20%20Downtown%20Toronto%2020%20%20%20%20Downtown%20Toronto%2021%20%20%20%20Downtown%20Toronto%2022%20%20%20%20%20Central%20Toronto%2023%20%20%20%20%20Central%20Toronto%2024%20%20%20%20%20Central%20Toronto%2025%20%20%20%20Downtown%20Toronto%2026%20%20%20%20Downtown%20Toronto%2027%20%20%20%20Downtown%20Toronto%2028%20%20%20%20Downtown%20Toronto%2029%20%20%20%20Downtown%20Toronto%2030%20%20%20%20Downtown%20Toronto%2031%20%20%20%20%20%20%20%20West%20Toronto%2032%20%20%20%20%20%20%20%20West%20Toronto%2033%20%20%20%20%20%20%20%20West%20Toronto%2034%20%20%20%20%20%20%20%20Toronto/York%2035%20%20%20%20%20%20%20%20West%20Toronto%2036%20%20%20%20%20%20%20%20West%20Toronto%2037%20%20%20%20%20%20%20%20West%20Toronto%2038%20%20%20%20Downtown%20Toronto%2039%20%20%20%20%20%20%20%20East%20Toronto%20Name%3A%20Borough%2C%20dtype%3A%20objectCluster2%3C/div%3E%27%29%5B0%5D%3B%0A%20%20%20%20%20%20%20%20%20%20%20%20%20%20%20%20popup_4cb29d70aceb4d98ad9444b62fadcebb.setContent%28html_1286247deb564d04a89da7b2c8761b02%29%3B%0A%20%20%20%20%20%20%20%20%20%20%20%20%0A%0A%20%20%20%20%20%20%20%20%20%20%20%20circle_marker_c768b9c98e5e44f5bde9b305d005dd7c.bindPopup%28popup_4cb29d70aceb4d98ad9444b62fadcebb%29%3B%0A%0A%20%20%20%20%20%20%20%20%20%20%20%20%0A%20%20%20%20%20%20%20%20%0A%20%20%20%20%0A%20%20%20%20%20%20%20%20%20%20%20%20var%20circle_marker_15b35f0f41ba421e9dbd630389ff4629%20%3D%20L.circleMarker%28%0A%20%20%20%20%20%20%20%20%20%20%20%20%20%20%20%20%5B43.6626956%2C-79.4000493%5D%2C%0A%20%20%20%20%20%20%20%20%20%20%20%20%20%20%20%20%7B%0A%20%20%22bubblingMouseEvents%22%3A%20true%2C%0A%20%20%22color%22%3A%20%22%238000ff%22%2C%0A%20%20%22dashArray%22%3A%20null%2C%0A%20%20%22dashOffset%22%3A%20null%2C%0A%20%20%22fill%22%3A%20true%2C%0A%20%20%22fillColor%22%3A%20%22%238000ff%22%2C%0A%20%20%22fillOpacity%22%3A%200.7%2C%0A%20%20%22fillRule%22%3A%20%22evenodd%22%2C%0A%20%20%22lineCap%22%3A%20%22round%22%2C%0A%20%20%22lineJoin%22%3A%20%22round%22%2C%0A%20%20%22opacity%22%3A%201.0%2C%0A%20%20%22radius%22%3A%205%2C%0A%20%20%22stroke%22%3A%20true%2C%0A%20%20%22weight%22%3A%203%0A%7D%0A%20%20%20%20%20%20%20%20%20%20%20%20%20%20%20%20%29.addTo%28map_ed2ab0e34e4644d2b40a800f7470c804%29%3B%0A%20%20%20%20%20%20%20%20%20%20%20%20%0A%20%20%20%20%0A%20%20%20%20%20%20%20%20%20%20%20%20var%20popup_e35a82920d764604a2fd8e2257231a35%20%3D%20L.popup%28%7BmaxWidth%3A%20%27300%27%7D%29%3B%0A%0A%20%20%20%20%20%20%20%20%20%20%20%20%0A%20%20%20%20%20%20%20%20%20%20%20%20%20%20%20%20var%20html_45394238776547ddbb1537585c0aeb76%20%3D%20%24%28%27%3Cdiv%20id%3D%22html_45394238776547ddbb1537585c0aeb76%22%20style%3D%22width%3A%20100.0%25%3B%20height%3A%20100.0%25%3B%22%3E0%20%20%20%20%20%20%20%20%20East%20Toronto%201%20%20%20%20%20%20%20%20%20East%20Toronto%202%20%20%20%20%20%20%20%20%20East%20Toronto%203%20%20%20%20%20%20%20%20%20East%20Toronto%204%20%20%20%20%20%20Central%20Toronto%205%20%20%20%20%20%20Central%20Toronto%206%20%20%20%20%20%20Central%20Toronto%207%20%20%20%20%20%20Central%20Toronto%208%20%20%20%20%20%20Central%20Toronto%209%20%20%20%20%20%20Central%20Toronto%2010%20%20%20%20Downtown%20Toronto%2011%20%20%20%20Downtown%20Toronto%2012%20%20%20%20Downtown%20Toronto%2013%20%20%20%20Downtown%20Toronto%2014%20%20%20%20Downtown%20Toronto%2015%20%20%20%20Downtown%20Toronto%2016%20%20%20%20Downtown%20Toronto%2017%20%20%20%20Downtown%20Toronto%2018%20%20%20%20Downtown%20Toronto%2019%20%20%20%20Downtown%20Toronto%2020%20%20%20%20Downtown%20Toronto%2021%20%20%20%20Downtown%20Toronto%2022%20%20%20%20%20Central%20Toronto%2023%20%20%20%20%20Central%20Toronto%2024%20%20%20%20%20Central%20Toronto%2025%20%20%20%20Downtown%20Toronto%2026%20%20%20%20Downtown%20Toronto%2027%20%20%20%20Downtown%20Toronto%2028%20%20%20%20Downtown%20Toronto%2029%20%20%20%20Downtown%20Toronto%2030%20%20%20%20Downtown%20Toronto%2031%20%20%20%20%20%20%20%20West%20Toronto%2032%20%20%20%20%20%20%20%20West%20Toronto%2033%20%20%20%20%20%20%20%20West%20Toronto%2034%20%20%20%20%20%20%20%20Toronto/York%2035%20%20%20%20%20%20%20%20West%20Toronto%2036%20%20%20%20%20%20%20%20West%20Toronto%2037%20%20%20%20%20%20%20%20West%20Toronto%2038%20%20%20%20Downtown%20Toronto%2039%20%20%20%20%20%20%20%20East%20Toronto%20Name%3A%20Borough%2C%20dtype%3A%20objectCluster1%3C/div%3E%27%29%5B0%5D%3B%0A%20%20%20%20%20%20%20%20%20%20%20%20%20%20%20%20popup_e35a82920d764604a2fd8e2257231a35.setContent%28html_45394238776547ddbb1537585c0aeb76%29%3B%0A%20%20%20%20%20%20%20%20%20%20%20%20%0A%0A%20%20%20%20%20%20%20%20%20%20%20%20circle_marker_15b35f0f41ba421e9dbd630389ff4629.bindPopup%28popup_e35a82920d764604a2fd8e2257231a35%29%3B%0A%0A%20%20%20%20%20%20%20%20%20%20%20%20%0A%20%20%20%20%20%20%20%20%0A%20%20%20%20%0A%20%20%20%20%20%20%20%20%20%20%20%20var%20circle_marker_2f6afb3a60a24d028c915e38397db0fc%20%3D%20L.circleMarker%28%0A%20%20%20%20%20%20%20%20%20%20%20%20%20%20%20%20%5B43.6532057%2C-79.4000493%5D%2C%0A%20%20%20%20%20%20%20%20%20%20%20%20%20%20%20%20%7B%0A%20%20%22bubblingMouseEvents%22%3A%20true%2C%0A%20%20%22color%22%3A%20%22%238000ff%22%2C%0A%20%20%22dashArray%22%3A%20null%2C%0A%20%20%22dashOffset%22%3A%20null%2C%0A%20%20%22fill%22%3A%20true%2C%0A%20%20%22fillColor%22%3A%20%22%238000ff%22%2C%0A%20%20%22fillOpacity%22%3A%200.7%2C%0A%20%20%22fillRule%22%3A%20%22evenodd%22%2C%0A%20%20%22lineCap%22%3A%20%22round%22%2C%0A%20%20%22lineJoin%22%3A%20%22round%22%2C%0A%20%20%22opacity%22%3A%201.0%2C%0A%20%20%22radius%22%3A%205%2C%0A%20%20%22stroke%22%3A%20true%2C%0A%20%20%22weight%22%3A%203%0A%7D%0A%20%20%20%20%20%20%20%20%20%20%20%20%20%20%20%20%29.addTo%28map_ed2ab0e34e4644d2b40a800f7470c804%29%3B%0A%20%20%20%20%20%20%20%20%20%20%20%20%0A%20%20%20%20%0A%20%20%20%20%20%20%20%20%20%20%20%20var%20popup_489c43d44367472f87167890888501d8%20%3D%20L.popup%28%7BmaxWidth%3A%20%27300%27%7D%29%3B%0A%0A%20%20%20%20%20%20%20%20%20%20%20%20%0A%20%20%20%20%20%20%20%20%20%20%20%20%20%20%20%20var%20html_8cca720ef8db433f87e8d504944ef9b6%20%3D%20%24%28%27%3Cdiv%20id%3D%22html_8cca720ef8db433f87e8d504944ef9b6%22%20style%3D%22width%3A%20100.0%25%3B%20height%3A%20100.0%25%3B%22%3E0%20%20%20%20%20%20%20%20%20East%20Toronto%201%20%20%20%20%20%20%20%20%20East%20Toronto%202%20%20%20%20%20%20%20%20%20East%20Toronto%203%20%20%20%20%20%20%20%20%20East%20Toronto%204%20%20%20%20%20%20Central%20Toronto%205%20%20%20%20%20%20Central%20Toronto%206%20%20%20%20%20%20Central%20Toronto%207%20%20%20%20%20%20Central%20Toronto%208%20%20%20%20%20%20Central%20Toronto%209%20%20%20%20%20%20Central%20Toronto%2010%20%20%20%20Downtown%20Toronto%2011%20%20%20%20Downtown%20Toronto%2012%20%20%20%20Downtown%20Toronto%2013%20%20%20%20Downtown%20Toronto%2014%20%20%20%20Downtown%20Toronto%2015%20%20%20%20Downtown%20Toronto%2016%20%20%20%20Downtown%20Toronto%2017%20%20%20%20Downtown%20Toronto%2018%20%20%20%20Downtown%20Toronto%2019%20%20%20%20Downtown%20Toronto%2020%20%20%20%20Downtown%20Toronto%2021%20%20%20%20Downtown%20Toronto%2022%20%20%20%20%20Central%20Toronto%2023%20%20%20%20%20Central%20Toronto%2024%20%20%20%20%20Central%20Toronto%2025%20%20%20%20Downtown%20Toronto%2026%20%20%20%20Downtown%20Toronto%2027%20%20%20%20Downtown%20Toronto%2028%20%20%20%20Downtown%20Toronto%2029%20%20%20%20Downtown%20Toronto%2030%20%20%20%20Downtown%20Toronto%2031%20%20%20%20%20%20%20%20West%20Toronto%2032%20%20%20%20%20%20%20%20West%20Toronto%2033%20%20%20%20%20%20%20%20West%20Toronto%2034%20%20%20%20%20%20%20%20Toronto/York%2035%20%20%20%20%20%20%20%20West%20Toronto%2036%20%20%20%20%20%20%20%20West%20Toronto%2037%20%20%20%20%20%20%20%20West%20Toronto%2038%20%20%20%20Downtown%20Toronto%2039%20%20%20%20%20%20%20%20East%20Toronto%20Name%3A%20Borough%2C%20dtype%3A%20objectCluster1%3C/div%3E%27%29%5B0%5D%3B%0A%20%20%20%20%20%20%20%20%20%20%20%20%20%20%20%20popup_489c43d44367472f87167890888501d8.setContent%28html_8cca720ef8db433f87e8d504944ef9b6%29%3B%0A%20%20%20%20%20%20%20%20%20%20%20%20%0A%0A%20%20%20%20%20%20%20%20%20%20%20%20circle_marker_2f6afb3a60a24d028c915e38397db0fc.bindPopup%28popup_489c43d44367472f87167890888501d8%29%3B%0A%0A%20%20%20%20%20%20%20%20%20%20%20%20%0A%20%20%20%20%20%20%20%20%0A%20%20%20%20%0A%20%20%20%20%20%20%20%20%20%20%20%20var%20circle_marker_c88486262f934be1936ef73633248aee%20%3D%20L.circleMarker%28%0A%20%20%20%20%20%20%20%20%20%20%20%20%20%20%20%20%5B43.6289467%2C-79.3944199%5D%2C%0A%20%20%20%20%20%20%20%20%20%20%20%20%20%20%20%20%7B%0A%20%20%22bubblingMouseEvents%22%3A%20true%2C%0A%20%20%22color%22%3A%20%22%238000ff%22%2C%0A%20%20%22dashArray%22%3A%20null%2C%0A%20%20%22dashOffset%22%3A%20null%2C%0A%20%20%22fill%22%3A%20true%2C%0A%20%20%22fillColor%22%3A%20%22%238000ff%22%2C%0A%20%20%22fillOpacity%22%3A%200.7%2C%0A%20%20%22fillRule%22%3A%20%22evenodd%22%2C%0A%20%20%22lineCap%22%3A%20%22round%22%2C%0A%20%20%22lineJoin%22%3A%20%22round%22%2C%0A%20%20%22opacity%22%3A%201.0%2C%0A%20%20%22radius%22%3A%205%2C%0A%20%20%22stroke%22%3A%20true%2C%0A%20%20%22weight%22%3A%203%0A%7D%0A%20%20%20%20%20%20%20%20%20%20%20%20%20%20%20%20%29.addTo%28map_ed2ab0e34e4644d2b40a800f7470c804%29%3B%0A%20%20%20%20%20%20%20%20%20%20%20%20%0A%20%20%20%20%0A%20%20%20%20%20%20%20%20%20%20%20%20var%20popup_0bf659ca24a54c4095b8975d8ed5eb12%20%3D%20L.popup%28%7BmaxWidth%3A%20%27300%27%7D%29%3B%0A%0A%20%20%20%20%20%20%20%20%20%20%20%20%0A%20%20%20%20%20%20%20%20%20%20%20%20%20%20%20%20var%20html_a50b62dcc7434de1a1a91d483b8212fc%20%3D%20%24%28%27%3Cdiv%20id%3D%22html_a50b62dcc7434de1a1a91d483b8212fc%22%20style%3D%22width%3A%20100.0%25%3B%20height%3A%20100.0%25%3B%22%3E0%20%20%20%20%20%20%20%20%20East%20Toronto%201%20%20%20%20%20%20%20%20%20East%20Toronto%202%20%20%20%20%20%20%20%20%20East%20Toronto%203%20%20%20%20%20%20%20%20%20East%20Toronto%204%20%20%20%20%20%20Central%20Toronto%205%20%20%20%20%20%20Central%20Toronto%206%20%20%20%20%20%20Central%20Toronto%207%20%20%20%20%20%20Central%20Toronto%208%20%20%20%20%20%20Central%20Toronto%209%20%20%20%20%20%20Central%20Toronto%2010%20%20%20%20Downtown%20Toronto%2011%20%20%20%20Downtown%20Toronto%2012%20%20%20%20Downtown%20Toronto%2013%20%20%20%20Downtown%20Toronto%2014%20%20%20%20Downtown%20Toronto%2015%20%20%20%20Downtown%20Toronto%2016%20%20%20%20Downtown%20Toronto%2017%20%20%20%20Downtown%20Toronto%2018%20%20%20%20Downtown%20Toronto%2019%20%20%20%20Downtown%20Toronto%2020%20%20%20%20Downtown%20Toronto%2021%20%20%20%20Downtown%20Toronto%2022%20%20%20%20%20Central%20Toronto%2023%20%20%20%20%20Central%20Toronto%2024%20%20%20%20%20Central%20Toronto%2025%20%20%20%20Downtown%20Toronto%2026%20%20%20%20Downtown%20Toronto%2027%20%20%20%20Downtown%20Toronto%2028%20%20%20%20Downtown%20Toronto%2029%20%20%20%20Downtown%20Toronto%2030%20%20%20%20Downtown%20Toronto%2031%20%20%20%20%20%20%20%20West%20Toronto%2032%20%20%20%20%20%20%20%20West%20Toronto%2033%20%20%20%20%20%20%20%20West%20Toronto%2034%20%20%20%20%20%20%20%20Toronto/York%2035%20%20%20%20%20%20%20%20West%20Toronto%2036%20%20%20%20%20%20%20%20West%20Toronto%2037%20%20%20%20%20%20%20%20West%20Toronto%2038%20%20%20%20Downtown%20Toronto%2039%20%20%20%20%20%20%20%20East%20Toronto%20Name%3A%20Borough%2C%20dtype%3A%20objectCluster1%3C/div%3E%27%29%5B0%5D%3B%0A%20%20%20%20%20%20%20%20%20%20%20%20%20%20%20%20popup_0bf659ca24a54c4095b8975d8ed5eb12.setContent%28html_a50b62dcc7434de1a1a91d483b8212fc%29%3B%0A%20%20%20%20%20%20%20%20%20%20%20%20%0A%0A%20%20%20%20%20%20%20%20%20%20%20%20circle_marker_c88486262f934be1936ef73633248aee.bindPopup%28popup_0bf659ca24a54c4095b8975d8ed5eb12%29%3B%0A%0A%20%20%20%20%20%20%20%20%20%20%20%20%0A%20%20%20%20%20%20%20%20%0A%20%20%20%20%0A%20%20%20%20%20%20%20%20%20%20%20%20var%20circle_marker_579f1965c61c4c0c9b5b067083125c52%20%3D%20L.circleMarker%28%0A%20%20%20%20%20%20%20%20%20%20%20%20%20%20%20%20%5B43.6464352%2C-79.37484599999999%5D%2C%0A%20%20%20%20%20%20%20%20%20%20%20%20%20%20%20%20%7B%0A%20%20%22bubblingMouseEvents%22%3A%20true%2C%0A%20%20%22color%22%3A%20%22%238000ff%22%2C%0A%20%20%22dashArray%22%3A%20null%2C%0A%20%20%22dashOffset%22%3A%20null%2C%0A%20%20%22fill%22%3A%20true%2C%0A%20%20%22fillColor%22%3A%20%22%238000ff%22%2C%0A%20%20%22fillOpacity%22%3A%200.7%2C%0A%20%20%22fillRule%22%3A%20%22evenodd%22%2C%0A%20%20%22lineCap%22%3A%20%22round%22%2C%0A%20%20%22lineJoin%22%3A%20%22round%22%2C%0A%20%20%22opacity%22%3A%201.0%2C%0A%20%20%22radius%22%3A%205%2C%0A%20%20%22stroke%22%3A%20true%2C%0A%20%20%22weight%22%3A%203%0A%7D%0A%20%20%20%20%20%20%20%20%20%20%20%20%20%20%20%20%29.addTo%28map_ed2ab0e34e4644d2b40a800f7470c804%29%3B%0A%20%20%20%20%20%20%20%20%20%20%20%20%0A%20%20%20%20%0A%20%20%20%20%20%20%20%20%20%20%20%20var%20popup_50701ddd84274d77b59beaa7a9a67408%20%3D%20L.popup%28%7BmaxWidth%3A%20%27300%27%7D%29%3B%0A%0A%20%20%20%20%20%20%20%20%20%20%20%20%0A%20%20%20%20%20%20%20%20%20%20%20%20%20%20%20%20var%20html_6658f9aed3f94522b1ebe1aa9fdec4f7%20%3D%20%24%28%27%3Cdiv%20id%3D%22html_6658f9aed3f94522b1ebe1aa9fdec4f7%22%20style%3D%22width%3A%20100.0%25%3B%20height%3A%20100.0%25%3B%22%3E0%20%20%20%20%20%20%20%20%20East%20Toronto%201%20%20%20%20%20%20%20%20%20East%20Toronto%202%20%20%20%20%20%20%20%20%20East%20Toronto%203%20%20%20%20%20%20%20%20%20East%20Toronto%204%20%20%20%20%20%20Central%20Toronto%205%20%20%20%20%20%20Central%20Toronto%206%20%20%20%20%20%20Central%20Toronto%207%20%20%20%20%20%20Central%20Toronto%208%20%20%20%20%20%20Central%20Toronto%209%20%20%20%20%20%20Central%20Toronto%2010%20%20%20%20Downtown%20Toronto%2011%20%20%20%20Downtown%20Toronto%2012%20%20%20%20Downtown%20Toronto%2013%20%20%20%20Downtown%20Toronto%2014%20%20%20%20Downtown%20Toronto%2015%20%20%20%20Downtown%20Toronto%2016%20%20%20%20Downtown%20Toronto%2017%20%20%20%20Downtown%20Toronto%2018%20%20%20%20Downtown%20Toronto%2019%20%20%20%20Downtown%20Toronto%2020%20%20%20%20Downtown%20Toronto%2021%20%20%20%20Downtown%20Toronto%2022%20%20%20%20%20Central%20Toronto%2023%20%20%20%20%20Central%20Toronto%2024%20%20%20%20%20Central%20Toronto%2025%20%20%20%20Downtown%20Toronto%2026%20%20%20%20Downtown%20Toronto%2027%20%20%20%20Downtown%20Toronto%2028%20%20%20%20Downtown%20Toronto%2029%20%20%20%20Downtown%20Toronto%2030%20%20%20%20Downtown%20Toronto%2031%20%20%20%20%20%20%20%20West%20Toronto%2032%20%20%20%20%20%20%20%20West%20Toronto%2033%20%20%20%20%20%20%20%20West%20Toronto%2034%20%20%20%20%20%20%20%20Toronto/York%2035%20%20%20%20%20%20%20%20West%20Toronto%2036%20%20%20%20%20%20%20%20West%20Toronto%2037%20%20%20%20%20%20%20%20West%20Toronto%2038%20%20%20%20Downtown%20Toronto%2039%20%20%20%20%20%20%20%20East%20Toronto%20Name%3A%20Borough%2C%20dtype%3A%20objectCluster1%3C/div%3E%27%29%5B0%5D%3B%0A%20%20%20%20%20%20%20%20%20%20%20%20%20%20%20%20popup_50701ddd84274d77b59beaa7a9a67408.setContent%28html_6658f9aed3f94522b1ebe1aa9fdec4f7%29%3B%0A%20%20%20%20%20%20%20%20%20%20%20%20%0A%0A%20%20%20%20%20%20%20%20%20%20%20%20circle_marker_579f1965c61c4c0c9b5b067083125c52.bindPopup%28popup_50701ddd84274d77b59beaa7a9a67408%29%3B%0A%0A%20%20%20%20%20%20%20%20%20%20%20%20%0A%20%20%20%20%20%20%20%20%0A%20%20%20%20%0A%20%20%20%20%20%20%20%20%20%20%20%20var%20circle_marker_775fb97a2e324d1faa39a1a48d2870cc%20%3D%20L.circleMarker%28%0A%20%20%20%20%20%20%20%20%20%20%20%20%20%20%20%20%5B43.6484292%2C-79.3822802%5D%2C%0A%20%20%20%20%20%20%20%20%20%20%20%20%20%20%20%20%7B%0A%20%20%22bubblingMouseEvents%22%3A%20true%2C%0A%20%20%22color%22%3A%20%22%238000ff%22%2C%0A%20%20%22dashArray%22%3A%20null%2C%0A%20%20%22dashOffset%22%3A%20null%2C%0A%20%20%22fill%22%3A%20true%2C%0A%20%20%22fillColor%22%3A%20%22%238000ff%22%2C%0A%20%20%22fillOpacity%22%3A%200.7%2C%0A%20%20%22fillRule%22%3A%20%22evenodd%22%2C%0A%20%20%22lineCap%22%3A%20%22round%22%2C%0A%20%20%22lineJoin%22%3A%20%22round%22%2C%0A%20%20%22opacity%22%3A%201.0%2C%0A%20%20%22radius%22%3A%205%2C%0A%20%20%22stroke%22%3A%20true%2C%0A%20%20%22weight%22%3A%203%0A%7D%0A%20%20%20%20%20%20%20%20%20%20%20%20%20%20%20%20%29.addTo%28map_ed2ab0e34e4644d2b40a800f7470c804%29%3B%0A%20%20%20%20%20%20%20%20%20%20%20%20%0A%20%20%20%20%0A%20%20%20%20%20%20%20%20%20%20%20%20var%20popup_6621290d9e2e4649bc08e11fac15ace8%20%3D%20L.popup%28%7BmaxWidth%3A%20%27300%27%7D%29%3B%0A%0A%20%20%20%20%20%20%20%20%20%20%20%20%0A%20%20%20%20%20%20%20%20%20%20%20%20%20%20%20%20var%20html_e7d8f409c7fe49fd81f428eee6c71ce0%20%3D%20%24%28%27%3Cdiv%20id%3D%22html_e7d8f409c7fe49fd81f428eee6c71ce0%22%20style%3D%22width%3A%20100.0%25%3B%20height%3A%20100.0%25%3B%22%3E0%20%20%20%20%20%20%20%20%20East%20Toronto%201%20%20%20%20%20%20%20%20%20East%20Toronto%202%20%20%20%20%20%20%20%20%20East%20Toronto%203%20%20%20%20%20%20%20%20%20East%20Toronto%204%20%20%20%20%20%20Central%20Toronto%205%20%20%20%20%20%20Central%20Toronto%206%20%20%20%20%20%20Central%20Toronto%207%20%20%20%20%20%20Central%20Toronto%208%20%20%20%20%20%20Central%20Toronto%209%20%20%20%20%20%20Central%20Toronto%2010%20%20%20%20Downtown%20Toronto%2011%20%20%20%20Downtown%20Toronto%2012%20%20%20%20Downtown%20Toronto%2013%20%20%20%20Downtown%20Toronto%2014%20%20%20%20Downtown%20Toronto%2015%20%20%20%20Downtown%20Toronto%2016%20%20%20%20Downtown%20Toronto%2017%20%20%20%20Downtown%20Toronto%2018%20%20%20%20Downtown%20Toronto%2019%20%20%20%20Downtown%20Toronto%2020%20%20%20%20Downtown%20Toronto%2021%20%20%20%20Downtown%20Toronto%2022%20%20%20%20%20Central%20Toronto%2023%20%20%20%20%20Central%20Toronto%2024%20%20%20%20%20Central%20Toronto%2025%20%20%20%20Downtown%20Toronto%2026%20%20%20%20Downtown%20Toronto%2027%20%20%20%20Downtown%20Toronto%2028%20%20%20%20Downtown%20Toronto%2029%20%20%20%20Downtown%20Toronto%2030%20%20%20%20Downtown%20Toronto%2031%20%20%20%20%20%20%20%20West%20Toronto%2032%20%20%20%20%20%20%20%20West%20Toronto%2033%20%20%20%20%20%20%20%20West%20Toronto%2034%20%20%20%20%20%20%20%20Toronto/York%2035%20%20%20%20%20%20%20%20West%20Toronto%2036%20%20%20%20%20%20%20%20West%20Toronto%2037%20%20%20%20%20%20%20%20West%20Toronto%2038%20%20%20%20Downtown%20Toronto%2039%20%20%20%20%20%20%20%20East%20Toronto%20Name%3A%20Borough%2C%20dtype%3A%20objectCluster1%3C/div%3E%27%29%5B0%5D%3B%0A%20%20%20%20%20%20%20%20%20%20%20%20%20%20%20%20popup_6621290d9e2e4649bc08e11fac15ace8.setContent%28html_e7d8f409c7fe49fd81f428eee6c71ce0%29%3B%0A%20%20%20%20%20%20%20%20%20%20%20%20%0A%0A%20%20%20%20%20%20%20%20%20%20%20%20circle_marker_775fb97a2e324d1faa39a1a48d2870cc.bindPopup%28popup_6621290d9e2e4649bc08e11fac15ace8%29%3B%0A%0A%20%20%20%20%20%20%20%20%20%20%20%20%0A%20%20%20%20%20%20%20%20%0A%20%20%20%20%0A%20%20%20%20%20%20%20%20%20%20%20%20var%20circle_marker_3c2d8f288b8b4340b452bd6fbc8d49ea%20%3D%20L.circleMarker%28%0A%20%20%20%20%20%20%20%20%20%20%20%20%20%20%20%20%5B43.669542%2C-79.4225637%5D%2C%0A%20%20%20%20%20%20%20%20%20%20%20%20%20%20%20%20%7B%0A%20%20%22bubblingMouseEvents%22%3A%20true%2C%0A%20%20%22color%22%3A%20%22%238000ff%22%2C%0A%20%20%22dashArray%22%3A%20null%2C%0A%20%20%22dashOffset%22%3A%20null%2C%0A%20%20%22fill%22%3A%20true%2C%0A%20%20%22fillColor%22%3A%20%22%238000ff%22%2C%0A%20%20%22fillOpacity%22%3A%200.7%2C%0A%20%20%22fillRule%22%3A%20%22evenodd%22%2C%0A%20%20%22lineCap%22%3A%20%22round%22%2C%0A%20%20%22lineJoin%22%3A%20%22round%22%2C%0A%20%20%22opacity%22%3A%201.0%2C%0A%20%20%22radius%22%3A%205%2C%0A%20%20%22stroke%22%3A%20true%2C%0A%20%20%22weight%22%3A%203%0A%7D%0A%20%20%20%20%20%20%20%20%20%20%20%20%20%20%20%20%29.addTo%28map_ed2ab0e34e4644d2b40a800f7470c804%29%3B%0A%20%20%20%20%20%20%20%20%20%20%20%20%0A%20%20%20%20%0A%20%20%20%20%20%20%20%20%20%20%20%20var%20popup_452f8c5b6c144502a943381a6fea9e23%20%3D%20L.popup%28%7BmaxWidth%3A%20%27300%27%7D%29%3B%0A%0A%20%20%20%20%20%20%20%20%20%20%20%20%0A%20%20%20%20%20%20%20%20%20%20%20%20%20%20%20%20var%20html_0e0bcc63ff334786933d3264e5330821%20%3D%20%24%28%27%3Cdiv%20id%3D%22html_0e0bcc63ff334786933d3264e5330821%22%20style%3D%22width%3A%20100.0%25%3B%20height%3A%20100.0%25%3B%22%3E0%20%20%20%20%20%20%20%20%20East%20Toronto%201%20%20%20%20%20%20%20%20%20East%20Toronto%202%20%20%20%20%20%20%20%20%20East%20Toronto%203%20%20%20%20%20%20%20%20%20East%20Toronto%204%20%20%20%20%20%20Central%20Toronto%205%20%20%20%20%20%20Central%20Toronto%206%20%20%20%20%20%20Central%20Toronto%207%20%20%20%20%20%20Central%20Toronto%208%20%20%20%20%20%20Central%20Toronto%209%20%20%20%20%20%20Central%20Toronto%2010%20%20%20%20Downtown%20Toronto%2011%20%20%20%20Downtown%20Toronto%2012%20%20%20%20Downtown%20Toronto%2013%20%20%20%20Downtown%20Toronto%2014%20%20%20%20Downtown%20Toronto%2015%20%20%20%20Downtown%20Toronto%2016%20%20%20%20Downtown%20Toronto%2017%20%20%20%20Downtown%20Toronto%2018%20%20%20%20Downtown%20Toronto%2019%20%20%20%20Downtown%20Toronto%2020%20%20%20%20Downtown%20Toronto%2021%20%20%20%20Downtown%20Toronto%2022%20%20%20%20%20Central%20Toronto%2023%20%20%20%20%20Central%20Toronto%2024%20%20%20%20%20Central%20Toronto%2025%20%20%20%20Downtown%20Toronto%2026%20%20%20%20Downtown%20Toronto%2027%20%20%20%20Downtown%20Toronto%2028%20%20%20%20Downtown%20Toronto%2029%20%20%20%20Downtown%20Toronto%2030%20%20%20%20Downtown%20Toronto%2031%20%20%20%20%20%20%20%20West%20Toronto%2032%20%20%20%20%20%20%20%20West%20Toronto%2033%20%20%20%20%20%20%20%20West%20Toronto%2034%20%20%20%20%20%20%20%20Toronto/York%2035%20%20%20%20%20%20%20%20West%20Toronto%2036%20%20%20%20%20%20%20%20West%20Toronto%2037%20%20%20%20%20%20%20%20West%20Toronto%2038%20%20%20%20Downtown%20Toronto%2039%20%20%20%20%20%20%20%20East%20Toronto%20Name%3A%20Borough%2C%20dtype%3A%20objectCluster1%3C/div%3E%27%29%5B0%5D%3B%0A%20%20%20%20%20%20%20%20%20%20%20%20%20%20%20%20popup_452f8c5b6c144502a943381a6fea9e23.setContent%28html_0e0bcc63ff334786933d3264e5330821%29%3B%0A%20%20%20%20%20%20%20%20%20%20%20%20%0A%0A%20%20%20%20%20%20%20%20%20%20%20%20circle_marker_3c2d8f288b8b4340b452bd6fbc8d49ea.bindPopup%28popup_452f8c5b6c144502a943381a6fea9e23%29%3B%0A%0A%20%20%20%20%20%20%20%20%20%20%20%20%0A%20%20%20%20%20%20%20%20%0A%20%20%20%20%0A%20%20%20%20%20%20%20%20%20%20%20%20var%20circle_marker_616392c9ae024df2abc1ea71135c58d0%20%3D%20L.circleMarker%28%0A%20%20%20%20%20%20%20%20%20%20%20%20%20%20%20%20%5B43.66900510000001%2C-79.4422593%5D%2C%0A%20%20%20%20%20%20%20%20%20%20%20%20%20%20%20%20%7B%0A%20%20%22bubblingMouseEvents%22%3A%20true%2C%0A%20%20%22color%22%3A%20%22%2380ffb4%22%2C%0A%20%20%22dashArray%22%3A%20null%2C%0A%20%20%22dashOffset%22%3A%20null%2C%0A%20%20%22fill%22%3A%20true%2C%0A%20%20%22fillColor%22%3A%20%22%2380ffb4%22%2C%0A%20%20%22fillOpacity%22%3A%200.7%2C%0A%20%20%22fillRule%22%3A%20%22evenodd%22%2C%0A%20%20%22lineCap%22%3A%20%22round%22%2C%0A%20%20%22lineJoin%22%3A%20%22round%22%2C%0A%20%20%22opacity%22%3A%201.0%2C%0A%20%20%22radius%22%3A%205%2C%0A%20%20%22stroke%22%3A%20true%2C%0A%20%20%22weight%22%3A%203%0A%7D%0A%20%20%20%20%20%20%20%20%20%20%20%20%20%20%20%20%29.addTo%28map_ed2ab0e34e4644d2b40a800f7470c804%29%3B%0A%20%20%20%20%20%20%20%20%20%20%20%20%0A%20%20%20%20%0A%20%20%20%20%20%20%20%20%20%20%20%20var%20popup_fd5a4677c9134d8f9389d224131cd4a6%20%3D%20L.popup%28%7BmaxWidth%3A%20%27300%27%7D%29%3B%0A%0A%20%20%20%20%20%20%20%20%20%20%20%20%0A%20%20%20%20%20%20%20%20%20%20%20%20%20%20%20%20var%20html_fa4ec655b70140e39da59aa0382974ac%20%3D%20%24%28%27%3Cdiv%20id%3D%22html_fa4ec655b70140e39da59aa0382974ac%22%20style%3D%22width%3A%20100.0%25%3B%20height%3A%20100.0%25%3B%22%3E0%20%20%20%20%20%20%20%20%20East%20Toronto%201%20%20%20%20%20%20%20%20%20East%20Toronto%202%20%20%20%20%20%20%20%20%20East%20Toronto%203%20%20%20%20%20%20%20%20%20East%20Toronto%204%20%20%20%20%20%20Central%20Toronto%205%20%20%20%20%20%20Central%20Toronto%206%20%20%20%20%20%20Central%20Toronto%207%20%20%20%20%20%20Central%20Toronto%208%20%20%20%20%20%20Central%20Toronto%209%20%20%20%20%20%20Central%20Toronto%2010%20%20%20%20Downtown%20Toronto%2011%20%20%20%20Downtown%20Toronto%2012%20%20%20%20Downtown%20Toronto%2013%20%20%20%20Downtown%20Toronto%2014%20%20%20%20Downtown%20Toronto%2015%20%20%20%20Downtown%20Toronto%2016%20%20%20%20Downtown%20Toronto%2017%20%20%20%20Downtown%20Toronto%2018%20%20%20%20Downtown%20Toronto%2019%20%20%20%20Downtown%20Toronto%2020%20%20%20%20Downtown%20Toronto%2021%20%20%20%20Downtown%20Toronto%2022%20%20%20%20%20Central%20Toronto%2023%20%20%20%20%20Central%20Toronto%2024%20%20%20%20%20Central%20Toronto%2025%20%20%20%20Downtown%20Toronto%2026%20%20%20%20Downtown%20Toronto%2027%20%20%20%20Downtown%20Toronto%2028%20%20%20%20Downtown%20Toronto%2029%20%20%20%20Downtown%20Toronto%2030%20%20%20%20Downtown%20Toronto%2031%20%20%20%20%20%20%20%20West%20Toronto%2032%20%20%20%20%20%20%20%20West%20Toronto%2033%20%20%20%20%20%20%20%20West%20Toronto%2034%20%20%20%20%20%20%20%20Toronto/York%2035%20%20%20%20%20%20%20%20West%20Toronto%2036%20%20%20%20%20%20%20%20West%20Toronto%2037%20%20%20%20%20%20%20%20West%20Toronto%2038%20%20%20%20Downtown%20Toronto%2039%20%20%20%20%20%20%20%20East%20Toronto%20Name%3A%20Borough%2C%20dtype%3A%20objectCluster3%3C/div%3E%27%29%5B0%5D%3B%0A%20%20%20%20%20%20%20%20%20%20%20%20%20%20%20%20popup_fd5a4677c9134d8f9389d224131cd4a6.setContent%28html_fa4ec655b70140e39da59aa0382974ac%29%3B%0A%20%20%20%20%20%20%20%20%20%20%20%20%0A%0A%20%20%20%20%20%20%20%20%20%20%20%20circle_marker_616392c9ae024df2abc1ea71135c58d0.bindPopup%28popup_fd5a4677c9134d8f9389d224131cd4a6%29%3B%0A%0A%20%20%20%20%20%20%20%20%20%20%20%20%0A%20%20%20%20%20%20%20%20%0A%20%20%20%20%0A%20%20%20%20%20%20%20%20%20%20%20%20var%20circle_marker_27387d2c4f2c48aab33cd1ff3fc1b980%20%3D%20L.circleMarker%28%0A%20%20%20%20%20%20%20%20%20%20%20%20%20%20%20%20%5B43.647926700000006%2C-79.4197497%5D%2C%0A%20%20%20%20%20%20%20%20%20%20%20%20%20%20%20%20%7B%0A%20%20%22bubblingMouseEvents%22%3A%20true%2C%0A%20%20%22color%22%3A%20%22%2380ffb4%22%2C%0A%20%20%22dashArray%22%3A%20null%2C%0A%20%20%22dashOffset%22%3A%20null%2C%0A%20%20%22fill%22%3A%20true%2C%0A%20%20%22fillColor%22%3A%20%22%2380ffb4%22%2C%0A%20%20%22fillOpacity%22%3A%200.7%2C%0A%20%20%22fillRule%22%3A%20%22evenodd%22%2C%0A%20%20%22lineCap%22%3A%20%22round%22%2C%0A%20%20%22lineJoin%22%3A%20%22round%22%2C%0A%20%20%22opacity%22%3A%201.0%2C%0A%20%20%22radius%22%3A%205%2C%0A%20%20%22stroke%22%3A%20true%2C%0A%20%20%22weight%22%3A%203%0A%7D%0A%20%20%20%20%20%20%20%20%20%20%20%20%20%20%20%20%29.addTo%28map_ed2ab0e34e4644d2b40a800f7470c804%29%3B%0A%20%20%20%20%20%20%20%20%20%20%20%20%0A%20%20%20%20%0A%20%20%20%20%20%20%20%20%20%20%20%20var%20popup_66face6784df48019a6d8efdb618fdfe%20%3D%20L.popup%28%7BmaxWidth%3A%20%27300%27%7D%29%3B%0A%0A%20%20%20%20%20%20%20%20%20%20%20%20%0A%20%20%20%20%20%20%20%20%20%20%20%20%20%20%20%20var%20html_30267fba9dcf4b2e98a2cd62ac3a9164%20%3D%20%24%28%27%3Cdiv%20id%3D%22html_30267fba9dcf4b2e98a2cd62ac3a9164%22%20style%3D%22width%3A%20100.0%25%3B%20height%3A%20100.0%25%3B%22%3E0%20%20%20%20%20%20%20%20%20East%20Toronto%201%20%20%20%20%20%20%20%20%20East%20Toronto%202%20%20%20%20%20%20%20%20%20East%20Toronto%203%20%20%20%20%20%20%20%20%20East%20Toronto%204%20%20%20%20%20%20Central%20Toronto%205%20%20%20%20%20%20Central%20Toronto%206%20%20%20%20%20%20Central%20Toronto%207%20%20%20%20%20%20Central%20Toronto%208%20%20%20%20%20%20Central%20Toronto%209%20%20%20%20%20%20Central%20Toronto%2010%20%20%20%20Downtown%20Toronto%2011%20%20%20%20Downtown%20Toronto%2012%20%20%20%20Downtown%20Toronto%2013%20%20%20%20Downtown%20Toronto%2014%20%20%20%20Downtown%20Toronto%2015%20%20%20%20Downtown%20Toronto%2016%20%20%20%20Downtown%20Toronto%2017%20%20%20%20Downtown%20Toronto%2018%20%20%20%20Downtown%20Toronto%2019%20%20%20%20Downtown%20Toronto%2020%20%20%20%20Downtown%20Toronto%2021%20%20%20%20Downtown%20Toronto%2022%20%20%20%20%20Central%20Toronto%2023%20%20%20%20%20Central%20Toronto%2024%20%20%20%20%20Central%20Toronto%2025%20%20%20%20Downtown%20Toronto%2026%20%20%20%20Downtown%20Toronto%2027%20%20%20%20Downtown%20Toronto%2028%20%20%20%20Downtown%20Toronto%2029%20%20%20%20Downtown%20Toronto%2030%20%20%20%20Downtown%20Toronto%2031%20%20%20%20%20%20%20%20West%20Toronto%2032%20%20%20%20%20%20%20%20West%20Toronto%2033%20%20%20%20%20%20%20%20West%20Toronto%2034%20%20%20%20%20%20%20%20Toronto/York%2035%20%20%20%20%20%20%20%20West%20Toronto%2036%20%20%20%20%20%20%20%20West%20Toronto%2037%20%20%20%20%20%20%20%20West%20Toronto%2038%20%20%20%20Downtown%20Toronto%2039%20%20%20%20%20%20%20%20East%20Toronto%20Name%3A%20Borough%2C%20dtype%3A%20objectCluster3%3C/div%3E%27%29%5B0%5D%3B%0A%20%20%20%20%20%20%20%20%20%20%20%20%20%20%20%20popup_66face6784df48019a6d8efdb618fdfe.setContent%28html_30267fba9dcf4b2e98a2cd62ac3a9164%29%3B%0A%20%20%20%20%20%20%20%20%20%20%20%20%0A%0A%20%20%20%20%20%20%20%20%20%20%20%20circle_marker_27387d2c4f2c48aab33cd1ff3fc1b980.bindPopup%28popup_66face6784df48019a6d8efdb618fdfe%29%3B%0A%0A%20%20%20%20%20%20%20%20%20%20%20%20%0A%20%20%20%20%20%20%20%20%0A%20%20%20%20%0A%20%20%20%20%20%20%20%20%20%20%20%20var%20circle_marker_619d6f6b598e47e4837e3c9d490172a9%20%3D%20L.circleMarker%28%0A%20%20%20%20%20%20%20%20%20%20%20%20%20%20%20%20%5B43.6368472%2C-79.42819140000002%5D%2C%0A%20%20%20%20%20%20%20%20%20%20%20%20%20%20%20%20%7B%0A%20%20%22bubblingMouseEvents%22%3A%20true%2C%0A%20%20%22color%22%3A%20%22%2380ffb4%22%2C%0A%20%20%22dashArray%22%3A%20null%2C%0A%20%20%22dashOffset%22%3A%20null%2C%0A%20%20%22fill%22%3A%20true%2C%0A%20%20%22fillColor%22%3A%20%22%2380ffb4%22%2C%0A%20%20%22fillOpacity%22%3A%200.7%2C%0A%20%20%22fillRule%22%3A%20%22evenodd%22%2C%0A%20%20%22lineCap%22%3A%20%22round%22%2C%0A%20%20%22lineJoin%22%3A%20%22round%22%2C%0A%20%20%22opacity%22%3A%201.0%2C%0A%20%20%22radius%22%3A%205%2C%0A%20%20%22stroke%22%3A%20true%2C%0A%20%20%22weight%22%3A%203%0A%7D%0A%20%20%20%20%20%20%20%20%20%20%20%20%20%20%20%20%29.addTo%28map_ed2ab0e34e4644d2b40a800f7470c804%29%3B%0A%20%20%20%20%20%20%20%20%20%20%20%20%0A%20%20%20%20%0A%20%20%20%20%20%20%20%20%20%20%20%20var%20popup_9d8515103b48447ab10d33d433ee0ab2%20%3D%20L.popup%28%7BmaxWidth%3A%20%27300%27%7D%29%3B%0A%0A%20%20%20%20%20%20%20%20%20%20%20%20%0A%20%20%20%20%20%20%20%20%20%20%20%20%20%20%20%20var%20html_460f16058ab743cb8bd4e5e53ea84e74%20%3D%20%24%28%27%3Cdiv%20id%3D%22html_460f16058ab743cb8bd4e5e53ea84e74%22%20style%3D%22width%3A%20100.0%25%3B%20height%3A%20100.0%25%3B%22%3E0%20%20%20%20%20%20%20%20%20East%20Toronto%201%20%20%20%20%20%20%20%20%20East%20Toronto%202%20%20%20%20%20%20%20%20%20East%20Toronto%203%20%20%20%20%20%20%20%20%20East%20Toronto%204%20%20%20%20%20%20Central%20Toronto%205%20%20%20%20%20%20Central%20Toronto%206%20%20%20%20%20%20Central%20Toronto%207%20%20%20%20%20%20Central%20Toronto%208%20%20%20%20%20%20Central%20Toronto%209%20%20%20%20%20%20Central%20Toronto%2010%20%20%20%20Downtown%20Toronto%2011%20%20%20%20Downtown%20Toronto%2012%20%20%20%20Downtown%20Toronto%2013%20%20%20%20Downtown%20Toronto%2014%20%20%20%20Downtown%20Toronto%2015%20%20%20%20Downtown%20Toronto%2016%20%20%20%20Downtown%20Toronto%2017%20%20%20%20Downtown%20Toronto%2018%20%20%20%20Downtown%20Toronto%2019%20%20%20%20Downtown%20Toronto%2020%20%20%20%20Downtown%20Toronto%2021%20%20%20%20Downtown%20Toronto%2022%20%20%20%20%20Central%20Toronto%2023%20%20%20%20%20Central%20Toronto%2024%20%20%20%20%20Central%20Toronto%2025%20%20%20%20Downtown%20Toronto%2026%20%20%20%20Downtown%20Toronto%2027%20%20%20%20Downtown%20Toronto%2028%20%20%20%20Downtown%20Toronto%2029%20%20%20%20Downtown%20Toronto%2030%20%20%20%20Downtown%20Toronto%2031%20%20%20%20%20%20%20%20West%20Toronto%2032%20%20%20%20%20%20%20%20West%20Toronto%2033%20%20%20%20%20%20%20%20West%20Toronto%2034%20%20%20%20%20%20%20%20Toronto/York%2035%20%20%20%20%20%20%20%20West%20Toronto%2036%20%20%20%20%20%20%20%20West%20Toronto%2037%20%20%20%20%20%20%20%20West%20Toronto%2038%20%20%20%20Downtown%20Toronto%2039%20%20%20%20%20%20%20%20East%20Toronto%20Name%3A%20Borough%2C%20dtype%3A%20objectCluster3%3C/div%3E%27%29%5B0%5D%3B%0A%20%20%20%20%20%20%20%20%20%20%20%20%20%20%20%20popup_9d8515103b48447ab10d33d433ee0ab2.setContent%28html_460f16058ab743cb8bd4e5e53ea84e74%29%3B%0A%20%20%20%20%20%20%20%20%20%20%20%20%0A%0A%20%20%20%20%20%20%20%20%20%20%20%20circle_marker_619d6f6b598e47e4837e3c9d490172a9.bindPopup%28popup_9d8515103b48447ab10d33d433ee0ab2%29%3B%0A%0A%20%20%20%20%20%20%20%20%20%20%20%20%0A%20%20%20%20%20%20%20%20%0A%20%20%20%20%0A%20%20%20%20%20%20%20%20%20%20%20%20var%20circle_marker_f6e7c32e00e7417c9b631eb0a91c9395%20%3D%20L.circleMarker%28%0A%20%20%20%20%20%20%20%20%20%20%20%20%20%20%20%20%5B43.67318529999999%2C-79.48726190000001%5D%2C%0A%20%20%20%20%20%20%20%20%20%20%20%20%20%20%20%20%7B%0A%20%20%22bubblingMouseEvents%22%3A%20true%2C%0A%20%20%22color%22%3A%20%22%23ff0000%22%2C%0A%20%20%22dashArray%22%3A%20null%2C%0A%20%20%22dashOffset%22%3A%20null%2C%0A%20%20%22fill%22%3A%20true%2C%0A%20%20%22fillColor%22%3A%20%22%23ff0000%22%2C%0A%20%20%22fillOpacity%22%3A%200.7%2C%0A%20%20%22fillRule%22%3A%20%22evenodd%22%2C%0A%20%20%22lineCap%22%3A%20%22round%22%2C%0A%20%20%22lineJoin%22%3A%20%22round%22%2C%0A%20%20%22opacity%22%3A%201.0%2C%0A%20%20%22radius%22%3A%205%2C%0A%20%20%22stroke%22%3A%20true%2C%0A%20%20%22weight%22%3A%203%0A%7D%0A%20%20%20%20%20%20%20%20%20%20%20%20%20%20%20%20%29.addTo%28map_ed2ab0e34e4644d2b40a800f7470c804%29%3B%0A%20%20%20%20%20%20%20%20%20%20%20%20%0A%20%20%20%20%0A%20%20%20%20%20%20%20%20%20%20%20%20var%20popup_bfd64e2d209848dd8628880a9fd10849%20%3D%20L.popup%28%7BmaxWidth%3A%20%27300%27%7D%29%3B%0A%0A%20%20%20%20%20%20%20%20%20%20%20%20%0A%20%20%20%20%20%20%20%20%20%20%20%20%20%20%20%20var%20html_759089ea58f74dedb6fd547c8538887d%20%3D%20%24%28%27%3Cdiv%20id%3D%22html_759089ea58f74dedb6fd547c8538887d%22%20style%3D%22width%3A%20100.0%25%3B%20height%3A%20100.0%25%3B%22%3E0%20%20%20%20%20%20%20%20%20East%20Toronto%201%20%20%20%20%20%20%20%20%20East%20Toronto%202%20%20%20%20%20%20%20%20%20East%20Toronto%203%20%20%20%20%20%20%20%20%20East%20Toronto%204%20%20%20%20%20%20Central%20Toronto%205%20%20%20%20%20%20Central%20Toronto%206%20%20%20%20%20%20Central%20Toronto%207%20%20%20%20%20%20Central%20Toronto%208%20%20%20%20%20%20Central%20Toronto%209%20%20%20%20%20%20Central%20Toronto%2010%20%20%20%20Downtown%20Toronto%2011%20%20%20%20Downtown%20Toronto%2012%20%20%20%20Downtown%20Toronto%2013%20%20%20%20Downtown%20Toronto%2014%20%20%20%20Downtown%20Toronto%2015%20%20%20%20Downtown%20Toronto%2016%20%20%20%20Downtown%20Toronto%2017%20%20%20%20Downtown%20Toronto%2018%20%20%20%20Downtown%20Toronto%2019%20%20%20%20Downtown%20Toronto%2020%20%20%20%20Downtown%20Toronto%2021%20%20%20%20Downtown%20Toronto%2022%20%20%20%20%20Central%20Toronto%2023%20%20%20%20%20Central%20Toronto%2024%20%20%20%20%20Central%20Toronto%2025%20%20%20%20Downtown%20Toronto%2026%20%20%20%20Downtown%20Toronto%2027%20%20%20%20Downtown%20Toronto%2028%20%20%20%20Downtown%20Toronto%2029%20%20%20%20Downtown%20Toronto%2030%20%20%20%20Downtown%20Toronto%2031%20%20%20%20%20%20%20%20West%20Toronto%2032%20%20%20%20%20%20%20%20West%20Toronto%2033%20%20%20%20%20%20%20%20West%20Toronto%2034%20%20%20%20%20%20%20%20Toronto/York%2035%20%20%20%20%20%20%20%20West%20Toronto%2036%20%20%20%20%20%20%20%20West%20Toronto%2037%20%20%20%20%20%20%20%20West%20Toronto%2038%20%20%20%20Downtown%20Toronto%2039%20%20%20%20%20%20%20%20East%20Toronto%20Name%3A%20Borough%2C%20dtype%3A%20objectCluster5%3C/div%3E%27%29%5B0%5D%3B%0A%20%20%20%20%20%20%20%20%20%20%20%20%20%20%20%20popup_bfd64e2d209848dd8628880a9fd10849.setContent%28html_759089ea58f74dedb6fd547c8538887d%29%3B%0A%20%20%20%20%20%20%20%20%20%20%20%20%0A%0A%20%20%20%20%20%20%20%20%20%20%20%20circle_marker_f6e7c32e00e7417c9b631eb0a91c9395.bindPopup%28popup_bfd64e2d209848dd8628880a9fd10849%29%3B%0A%0A%20%20%20%20%20%20%20%20%20%20%20%20%0A%20%20%20%20%20%20%20%20%0A%20%20%20%20%0A%20%20%20%20%20%20%20%20%20%20%20%20var%20circle_marker_2690b1370fdf4b939cec8dbe89ac5ec0%20%3D%20L.circleMarker%28%0A%20%20%20%20%20%20%20%20%20%20%20%20%20%20%20%20%5B43.6616083%2C-79.46476329999999%5D%2C%0A%20%20%20%20%20%20%20%20%20%20%20%20%20%20%20%20%7B%0A%20%20%22bubblingMouseEvents%22%3A%20true%2C%0A%20%20%22color%22%3A%20%22%2380ffb4%22%2C%0A%20%20%22dashArray%22%3A%20null%2C%0A%20%20%22dashOffset%22%3A%20null%2C%0A%20%20%22fill%22%3A%20true%2C%0A%20%20%22fillColor%22%3A%20%22%2380ffb4%22%2C%0A%20%20%22fillOpacity%22%3A%200.7%2C%0A%20%20%22fillRule%22%3A%20%22evenodd%22%2C%0A%20%20%22lineCap%22%3A%20%22round%22%2C%0A%20%20%22lineJoin%22%3A%20%22round%22%2C%0A%20%20%22opacity%22%3A%201.0%2C%0A%20%20%22radius%22%3A%205%2C%0A%20%20%22stroke%22%3A%20true%2C%0A%20%20%22weight%22%3A%203%0A%7D%0A%20%20%20%20%20%20%20%20%20%20%20%20%20%20%20%20%29.addTo%28map_ed2ab0e34e4644d2b40a800f7470c804%29%3B%0A%20%20%20%20%20%20%20%20%20%20%20%20%0A%20%20%20%20%0A%20%20%20%20%20%20%20%20%20%20%20%20var%20popup_4e028781fead495bb8c366c0a7c556e4%20%3D%20L.popup%28%7BmaxWidth%3A%20%27300%27%7D%29%3B%0A%0A%20%20%20%20%20%20%20%20%20%20%20%20%0A%20%20%20%20%20%20%20%20%20%20%20%20%20%20%20%20var%20html_0ead382fcb3c4ba89bbbad37fc801a78%20%3D%20%24%28%27%3Cdiv%20id%3D%22html_0ead382fcb3c4ba89bbbad37fc801a78%22%20style%3D%22width%3A%20100.0%25%3B%20height%3A%20100.0%25%3B%22%3E0%20%20%20%20%20%20%20%20%20East%20Toronto%201%20%20%20%20%20%20%20%20%20East%20Toronto%202%20%20%20%20%20%20%20%20%20East%20Toronto%203%20%20%20%20%20%20%20%20%20East%20Toronto%204%20%20%20%20%20%20Central%20Toronto%205%20%20%20%20%20%20Central%20Toronto%206%20%20%20%20%20%20Central%20Toronto%207%20%20%20%20%20%20Central%20Toronto%208%20%20%20%20%20%20Central%20Toronto%209%20%20%20%20%20%20Central%20Toronto%2010%20%20%20%20Downtown%20Toronto%2011%20%20%20%20Downtown%20Toronto%2012%20%20%20%20Downtown%20Toronto%2013%20%20%20%20Downtown%20Toronto%2014%20%20%20%20Downtown%20Toronto%2015%20%20%20%20Downtown%20Toronto%2016%20%20%20%20Downtown%20Toronto%2017%20%20%20%20Downtown%20Toronto%2018%20%20%20%20Downtown%20Toronto%2019%20%20%20%20Downtown%20Toronto%2020%20%20%20%20Downtown%20Toronto%2021%20%20%20%20Downtown%20Toronto%2022%20%20%20%20%20Central%20Toronto%2023%20%20%20%20%20Central%20Toronto%2024%20%20%20%20%20Central%20Toronto%2025%20%20%20%20Downtown%20Toronto%2026%20%20%20%20Downtown%20Toronto%2027%20%20%20%20Downtown%20Toronto%2028%20%20%20%20Downtown%20Toronto%2029%20%20%20%20Downtown%20Toronto%2030%20%20%20%20Downtown%20Toronto%2031%20%20%20%20%20%20%20%20West%20Toronto%2032%20%20%20%20%20%20%20%20West%20Toronto%2033%20%20%20%20%20%20%20%20West%20Toronto%2034%20%20%20%20%20%20%20%20Toronto/York%2035%20%20%20%20%20%20%20%20West%20Toronto%2036%20%20%20%20%20%20%20%20West%20Toronto%2037%20%20%20%20%20%20%20%20West%20Toronto%2038%20%20%20%20Downtown%20Toronto%2039%20%20%20%20%20%20%20%20East%20Toronto%20Name%3A%20Borough%2C%20dtype%3A%20objectCluster3%3C/div%3E%27%29%5B0%5D%3B%0A%20%20%20%20%20%20%20%20%20%20%20%20%20%20%20%20popup_4e028781fead495bb8c366c0a7c556e4.setContent%28html_0ead382fcb3c4ba89bbbad37fc801a78%29%3B%0A%20%20%20%20%20%20%20%20%20%20%20%20%0A%0A%20%20%20%20%20%20%20%20%20%20%20%20circle_marker_2690b1370fdf4b939cec8dbe89ac5ec0.bindPopup%28popup_4e028781fead495bb8c366c0a7c556e4%29%3B%0A%0A%20%20%20%20%20%20%20%20%20%20%20%20%0A%20%20%20%20%20%20%20%20%0A%20%20%20%20%0A%20%20%20%20%20%20%20%20%20%20%20%20var%20circle_marker_55afc494e58e43cd945e9506771b6923%20%3D%20L.circleMarker%28%0A%20%20%20%20%20%20%20%20%20%20%20%20%20%20%20%20%5B43.6489597%2C-79.456325%5D%2C%0A%20%20%20%20%20%20%20%20%20%20%20%20%20%20%20%20%7B%0A%20%20%22bubblingMouseEvents%22%3A%20true%2C%0A%20%20%22color%22%3A%20%22%2380ffb4%22%2C%0A%20%20%22dashArray%22%3A%20null%2C%0A%20%20%22dashOffset%22%3A%20null%2C%0A%20%20%22fill%22%3A%20true%2C%0A%20%20%22fillColor%22%3A%20%22%2380ffb4%22%2C%0A%20%20%22fillOpacity%22%3A%200.7%2C%0A%20%20%22fillRule%22%3A%20%22evenodd%22%2C%0A%20%20%22lineCap%22%3A%20%22round%22%2C%0A%20%20%22lineJoin%22%3A%20%22round%22%2C%0A%20%20%22opacity%22%3A%201.0%2C%0A%20%20%22radius%22%3A%205%2C%0A%20%20%22stroke%22%3A%20true%2C%0A%20%20%22weight%22%3A%203%0A%7D%0A%20%20%20%20%20%20%20%20%20%20%20%20%20%20%20%20%29.addTo%28map_ed2ab0e34e4644d2b40a800f7470c804%29%3B%0A%20%20%20%20%20%20%20%20%20%20%20%20%0A%20%20%20%20%0A%20%20%20%20%20%20%20%20%20%20%20%20var%20popup_b1b4e23bf7ff40a080972330df533ccb%20%3D%20L.popup%28%7BmaxWidth%3A%20%27300%27%7D%29%3B%0A%0A%20%20%20%20%20%20%20%20%20%20%20%20%0A%20%20%20%20%20%20%20%20%20%20%20%20%20%20%20%20var%20html_fc7783ef39fe473b9804660e1261f441%20%3D%20%24%28%27%3Cdiv%20id%3D%22html_fc7783ef39fe473b9804660e1261f441%22%20style%3D%22width%3A%20100.0%25%3B%20height%3A%20100.0%25%3B%22%3E0%20%20%20%20%20%20%20%20%20East%20Toronto%201%20%20%20%20%20%20%20%20%20East%20Toronto%202%20%20%20%20%20%20%20%20%20East%20Toronto%203%20%20%20%20%20%20%20%20%20East%20Toronto%204%20%20%20%20%20%20Central%20Toronto%205%20%20%20%20%20%20Central%20Toronto%206%20%20%20%20%20%20Central%20Toronto%207%20%20%20%20%20%20Central%20Toronto%208%20%20%20%20%20%20Central%20Toronto%209%20%20%20%20%20%20Central%20Toronto%2010%20%20%20%20Downtown%20Toronto%2011%20%20%20%20Downtown%20Toronto%2012%20%20%20%20Downtown%20Toronto%2013%20%20%20%20Downtown%20Toronto%2014%20%20%20%20Downtown%20Toronto%2015%20%20%20%20Downtown%20Toronto%2016%20%20%20%20Downtown%20Toronto%2017%20%20%20%20Downtown%20Toronto%2018%20%20%20%20Downtown%20Toronto%2019%20%20%20%20Downtown%20Toronto%2020%20%20%20%20Downtown%20Toronto%2021%20%20%20%20Downtown%20Toronto%2022%20%20%20%20%20Central%20Toronto%2023%20%20%20%20%20Central%20Toronto%2024%20%20%20%20%20Central%20Toronto%2025%20%20%20%20Downtown%20Toronto%2026%20%20%20%20Downtown%20Toronto%2027%20%20%20%20Downtown%20Toronto%2028%20%20%20%20Downtown%20Toronto%2029%20%20%20%20Downtown%20Toronto%2030%20%20%20%20Downtown%20Toronto%2031%20%20%20%20%20%20%20%20West%20Toronto%2032%20%20%20%20%20%20%20%20West%20Toronto%2033%20%20%20%20%20%20%20%20West%20Toronto%2034%20%20%20%20%20%20%20%20Toronto/York%2035%20%20%20%20%20%20%20%20West%20Toronto%2036%20%20%20%20%20%20%20%20West%20Toronto%2037%20%20%20%20%20%20%20%20West%20Toronto%2038%20%20%20%20Downtown%20Toronto%2039%20%20%20%20%20%20%20%20East%20Toronto%20Name%3A%20Borough%2C%20dtype%3A%20objectCluster3%3C/div%3E%27%29%5B0%5D%3B%0A%20%20%20%20%20%20%20%20%20%20%20%20%20%20%20%20popup_b1b4e23bf7ff40a080972330df533ccb.setContent%28html_fc7783ef39fe473b9804660e1261f441%29%3B%0A%20%20%20%20%20%20%20%20%20%20%20%20%0A%0A%20%20%20%20%20%20%20%20%20%20%20%20circle_marker_55afc494e58e43cd945e9506771b6923.bindPopup%28popup_b1b4e23bf7ff40a080972330df533ccb%29%3B%0A%0A%20%20%20%20%20%20%20%20%20%20%20%20%0A%20%20%20%20%20%20%20%20%0A%20%20%20%20%0A%20%20%20%20%20%20%20%20%20%20%20%20var%20circle_marker_81ed25d64352415cabf3f8fdd5096a55%20%3D%20L.circleMarker%28%0A%20%20%20%20%20%20%20%20%20%20%20%20%20%20%20%20%5B43.6515706%2C-79.4844499%5D%2C%0A%20%20%20%20%20%20%20%20%20%20%20%20%20%20%20%20%7B%0A%20%20%22bubblingMouseEvents%22%3A%20true%2C%0A%20%20%22color%22%3A%20%22%2380ffb4%22%2C%0A%20%20%22dashArray%22%3A%20null%2C%0A%20%20%22dashOffset%22%3A%20null%2C%0A%20%20%22fill%22%3A%20true%2C%0A%20%20%22fillColor%22%3A%20%22%2380ffb4%22%2C%0A%20%20%22fillOpacity%22%3A%200.7%2C%0A%20%20%22fillRule%22%3A%20%22evenodd%22%2C%0A%20%20%22lineCap%22%3A%20%22round%22%2C%0A%20%20%22lineJoin%22%3A%20%22round%22%2C%0A%20%20%22opacity%22%3A%201.0%2C%0A%20%20%22radius%22%3A%205%2C%0A%20%20%22stroke%22%3A%20true%2C%0A%20%20%22weight%22%3A%203%0A%7D%0A%20%20%20%20%20%20%20%20%20%20%20%20%20%20%20%20%29.addTo%28map_ed2ab0e34e4644d2b40a800f7470c804%29%3B%0A%20%20%20%20%20%20%20%20%20%20%20%20%0A%20%20%20%20%0A%20%20%20%20%20%20%20%20%20%20%20%20var%20popup_e41953849c274a369a4cbe96515e3f34%20%3D%20L.popup%28%7BmaxWidth%3A%20%27300%27%7D%29%3B%0A%0A%20%20%20%20%20%20%20%20%20%20%20%20%0A%20%20%20%20%20%20%20%20%20%20%20%20%20%20%20%20var%20html_401b9376948b49049a56e843ae5f4ebf%20%3D%20%24%28%27%3Cdiv%20id%3D%22html_401b9376948b49049a56e843ae5f4ebf%22%20style%3D%22width%3A%20100.0%25%3B%20height%3A%20100.0%25%3B%22%3E0%20%20%20%20%20%20%20%20%20East%20Toronto%201%20%20%20%20%20%20%20%20%20East%20Toronto%202%20%20%20%20%20%20%20%20%20East%20Toronto%203%20%20%20%20%20%20%20%20%20East%20Toronto%204%20%20%20%20%20%20Central%20Toronto%205%20%20%20%20%20%20Central%20Toronto%206%20%20%20%20%20%20Central%20Toronto%207%20%20%20%20%20%20Central%20Toronto%208%20%20%20%20%20%20Central%20Toronto%209%20%20%20%20%20%20Central%20Toronto%2010%20%20%20%20Downtown%20Toronto%2011%20%20%20%20Downtown%20Toronto%2012%20%20%20%20Downtown%20Toronto%2013%20%20%20%20Downtown%20Toronto%2014%20%20%20%20Downtown%20Toronto%2015%20%20%20%20Downtown%20Toronto%2016%20%20%20%20Downtown%20Toronto%2017%20%20%20%20Downtown%20Toronto%2018%20%20%20%20Downtown%20Toronto%2019%20%20%20%20Downtown%20Toronto%2020%20%20%20%20Downtown%20Toronto%2021%20%20%20%20Downtown%20Toronto%2022%20%20%20%20%20Central%20Toronto%2023%20%20%20%20%20Central%20Toronto%2024%20%20%20%20%20Central%20Toronto%2025%20%20%20%20Downtown%20Toronto%2026%20%20%20%20Downtown%20Toronto%2027%20%20%20%20Downtown%20Toronto%2028%20%20%20%20Downtown%20Toronto%2029%20%20%20%20Downtown%20Toronto%2030%20%20%20%20Downtown%20Toronto%2031%20%20%20%20%20%20%20%20West%20Toronto%2032%20%20%20%20%20%20%20%20West%20Toronto%2033%20%20%20%20%20%20%20%20West%20Toronto%2034%20%20%20%20%20%20%20%20Toronto/York%2035%20%20%20%20%20%20%20%20West%20Toronto%2036%20%20%20%20%20%20%20%20West%20Toronto%2037%20%20%20%20%20%20%20%20West%20Toronto%2038%20%20%20%20Downtown%20Toronto%2039%20%20%20%20%20%20%20%20East%20Toronto%20Name%3A%20Borough%2C%20dtype%3A%20objectCluster3%3C/div%3E%27%29%5B0%5D%3B%0A%20%20%20%20%20%20%20%20%20%20%20%20%20%20%20%20popup_e41953849c274a369a4cbe96515e3f34.setContent%28html_401b9376948b49049a56e843ae5f4ebf%29%3B%0A%20%20%20%20%20%20%20%20%20%20%20%20%0A%0A%20%20%20%20%20%20%20%20%20%20%20%20circle_marker_81ed25d64352415cabf3f8fdd5096a55.bindPopup%28popup_e41953849c274a369a4cbe96515e3f34%29%3B%0A%0A%20%20%20%20%20%20%20%20%20%20%20%20%0A%20%20%20%20%20%20%20%20%0A%20%20%20%20%0A%20%20%20%20%20%20%20%20%20%20%20%20var%20circle_marker_8ac5816f3ee6447ebcd3ad6c3505c3f0%20%3D%20L.circleMarker%28%0A%20%20%20%20%20%20%20%20%20%20%20%20%20%20%20%20%5B43.6623015%2C-79.3894938%5D%2C%0A%20%20%20%20%20%20%20%20%20%20%20%20%20%20%20%20%7B%0A%20%20%22bubblingMouseEvents%22%3A%20true%2C%0A%20%20%22color%22%3A%20%22%238000ff%22%2C%0A%20%20%22dashArray%22%3A%20null%2C%0A%20%20%22dashOffset%22%3A%20null%2C%0A%20%20%22fill%22%3A%20true%2C%0A%20%20%22fillColor%22%3A%20%22%238000ff%22%2C%0A%20%20%22fillOpacity%22%3A%200.7%2C%0A%20%20%22fillRule%22%3A%20%22evenodd%22%2C%0A%20%20%22lineCap%22%3A%20%22round%22%2C%0A%20%20%22lineJoin%22%3A%20%22round%22%2C%0A%20%20%22opacity%22%3A%201.0%2C%0A%20%20%22radius%22%3A%205%2C%0A%20%20%22stroke%22%3A%20true%2C%0A%20%20%22weight%22%3A%203%0A%7D%0A%20%20%20%20%20%20%20%20%20%20%20%20%20%20%20%20%29.addTo%28map_ed2ab0e34e4644d2b40a800f7470c804%29%3B%0A%20%20%20%20%20%20%20%20%20%20%20%20%0A%20%20%20%20%0A%20%20%20%20%20%20%20%20%20%20%20%20var%20popup_2809f11fe5f74ad0a5abd4e19666d58d%20%3D%20L.popup%28%7BmaxWidth%3A%20%27300%27%7D%29%3B%0A%0A%20%20%20%20%20%20%20%20%20%20%20%20%0A%20%20%20%20%20%20%20%20%20%20%20%20%20%20%20%20var%20html_07501d70db2b4dda9445d523afc4eb57%20%3D%20%24%28%27%3Cdiv%20id%3D%22html_07501d70db2b4dda9445d523afc4eb57%22%20style%3D%22width%3A%20100.0%25%3B%20height%3A%20100.0%25%3B%22%3E0%20%20%20%20%20%20%20%20%20East%20Toronto%201%20%20%20%20%20%20%20%20%20East%20Toronto%202%20%20%20%20%20%20%20%20%20East%20Toronto%203%20%20%20%20%20%20%20%20%20East%20Toronto%204%20%20%20%20%20%20Central%20Toronto%205%20%20%20%20%20%20Central%20Toronto%206%20%20%20%20%20%20Central%20Toronto%207%20%20%20%20%20%20Central%20Toronto%208%20%20%20%20%20%20Central%20Toronto%209%20%20%20%20%20%20Central%20Toronto%2010%20%20%20%20Downtown%20Toronto%2011%20%20%20%20Downtown%20Toronto%2012%20%20%20%20Downtown%20Toronto%2013%20%20%20%20Downtown%20Toronto%2014%20%20%20%20Downtown%20Toronto%2015%20%20%20%20Downtown%20Toronto%2016%20%20%20%20Downtown%20Toronto%2017%20%20%20%20Downtown%20Toronto%2018%20%20%20%20Downtown%20Toronto%2019%20%20%20%20Downtown%20Toronto%2020%20%20%20%20Downtown%20Toronto%2021%20%20%20%20Downtown%20Toronto%2022%20%20%20%20%20Central%20Toronto%2023%20%20%20%20%20Central%20Toronto%2024%20%20%20%20%20Central%20Toronto%2025%20%20%20%20Downtown%20Toronto%2026%20%20%20%20Downtown%20Toronto%2027%20%20%20%20Downtown%20Toronto%2028%20%20%20%20Downtown%20Toronto%2029%20%20%20%20Downtown%20Toronto%2030%20%20%20%20Downtown%20Toronto%2031%20%20%20%20%20%20%20%20West%20Toronto%2032%20%20%20%20%20%20%20%20West%20Toronto%2033%20%20%20%20%20%20%20%20West%20Toronto%2034%20%20%20%20%20%20%20%20Toronto/York%2035%20%20%20%20%20%20%20%20West%20Toronto%2036%20%20%20%20%20%20%20%20West%20Toronto%2037%20%20%20%20%20%20%20%20West%20Toronto%2038%20%20%20%20Downtown%20Toronto%2039%20%20%20%20%20%20%20%20East%20Toronto%20Name%3A%20Borough%2C%20dtype%3A%20objectCluster1%3C/div%3E%27%29%5B0%5D%3B%0A%20%20%20%20%20%20%20%20%20%20%20%20%20%20%20%20popup_2809f11fe5f74ad0a5abd4e19666d58d.setContent%28html_07501d70db2b4dda9445d523afc4eb57%29%3B%0A%20%20%20%20%20%20%20%20%20%20%20%20%0A%0A%20%20%20%20%20%20%20%20%20%20%20%20circle_marker_8ac5816f3ee6447ebcd3ad6c3505c3f0.bindPopup%28popup_2809f11fe5f74ad0a5abd4e19666d58d%29%3B%0A%0A%20%20%20%20%20%20%20%20%20%20%20%20%0A%20%20%20%20%20%20%20%20%0A%20%20%20%20%0A%20%20%20%20%20%20%20%20%20%20%20%20var%20circle_marker_df3ef23e00c34bb5b0b0a8d25d421600%20%3D%20L.circleMarker%28%0A%20%20%20%20%20%20%20%20%20%20%20%20%20%20%20%20%5B43.6627439%2C-79.321558%5D%2C%0A%20%20%20%20%20%20%20%20%20%20%20%20%20%20%20%20%7B%0A%20%20%22bubblingMouseEvents%22%3A%20true%2C%0A%20%20%22color%22%3A%20%22%23ffb360%22%2C%0A%20%20%22dashArray%22%3A%20null%2C%0A%20%20%22dashOffset%22%3A%20null%2C%0A%20%20%22fill%22%3A%20true%2C%0A%20%20%22fillColor%22%3A%20%22%23ffb360%22%2C%0A%20%20%22fillOpacity%22%3A%200.7%2C%0A%20%20%22fillRule%22%3A%20%22evenodd%22%2C%0A%20%20%22lineCap%22%3A%20%22round%22%2C%0A%20%20%22lineJoin%22%3A%20%22round%22%2C%0A%20%20%22opacity%22%3A%201.0%2C%0A%20%20%22radius%22%3A%205%2C%0A%20%20%22stroke%22%3A%20true%2C%0A%20%20%22weight%22%3A%203%0A%7D%0A%20%20%20%20%20%20%20%20%20%20%20%20%20%20%20%20%29.addTo%28map_ed2ab0e34e4644d2b40a800f7470c804%29%3B%0A%20%20%20%20%20%20%20%20%20%20%20%20%0A%20%20%20%20%0A%20%20%20%20%20%20%20%20%20%20%20%20var%20popup_1d6697c881d04979a52baf70abd3a099%20%3D%20L.popup%28%7BmaxWidth%3A%20%27300%27%7D%29%3B%0A%0A%20%20%20%20%20%20%20%20%20%20%20%20%0A%20%20%20%20%20%20%20%20%20%20%20%20%20%20%20%20var%20html_efd204baaf5f43d59aa07648b4b552bc%20%3D%20%24%28%27%3Cdiv%20id%3D%22html_efd204baaf5f43d59aa07648b4b552bc%22%20style%3D%22width%3A%20100.0%25%3B%20height%3A%20100.0%25%3B%22%3E0%20%20%20%20%20%20%20%20%20East%20Toronto%201%20%20%20%20%20%20%20%20%20East%20Toronto%202%20%20%20%20%20%20%20%20%20East%20Toronto%203%20%20%20%20%20%20%20%20%20East%20Toronto%204%20%20%20%20%20%20Central%20Toronto%205%20%20%20%20%20%20Central%20Toronto%206%20%20%20%20%20%20Central%20Toronto%207%20%20%20%20%20%20Central%20Toronto%208%20%20%20%20%20%20Central%20Toronto%209%20%20%20%20%20%20Central%20Toronto%2010%20%20%20%20Downtown%20Toronto%2011%20%20%20%20Downtown%20Toronto%2012%20%20%20%20Downtown%20Toronto%2013%20%20%20%20Downtown%20Toronto%2014%20%20%20%20Downtown%20Toronto%2015%20%20%20%20Downtown%20Toronto%2016%20%20%20%20Downtown%20Toronto%2017%20%20%20%20Downtown%20Toronto%2018%20%20%20%20Downtown%20Toronto%2019%20%20%20%20Downtown%20Toronto%2020%20%20%20%20Downtown%20Toronto%2021%20%20%20%20Downtown%20Toronto%2022%20%20%20%20%20Central%20Toronto%2023%20%20%20%20%20Central%20Toronto%2024%20%20%20%20%20Central%20Toronto%2025%20%20%20%20Downtown%20Toronto%2026%20%20%20%20Downtown%20Toronto%2027%20%20%20%20Downtown%20Toronto%2028%20%20%20%20Downtown%20Toronto%2029%20%20%20%20Downtown%20Toronto%2030%20%20%20%20Downtown%20Toronto%2031%20%20%20%20%20%20%20%20West%20Toronto%2032%20%20%20%20%20%20%20%20West%20Toronto%2033%20%20%20%20%20%20%20%20West%20Toronto%2034%20%20%20%20%20%20%20%20Toronto/York%2035%20%20%20%20%20%20%20%20West%20Toronto%2036%20%20%20%20%20%20%20%20West%20Toronto%2037%20%20%20%20%20%20%20%20West%20Toronto%2038%20%20%20%20Downtown%20Toronto%2039%20%20%20%20%20%20%20%20East%20Toronto%20Name%3A%20Borough%2C%20dtype%3A%20objectCluster4%3C/div%3E%27%29%5B0%5D%3B%0A%20%20%20%20%20%20%20%20%20%20%20%20%20%20%20%20popup_1d6697c881d04979a52baf70abd3a099.setContent%28html_efd204baaf5f43d59aa07648b4b552bc%29%3B%0A%20%20%20%20%20%20%20%20%20%20%20%20%0A%0A%20%20%20%20%20%20%20%20%20%20%20%20circle_marker_df3ef23e00c34bb5b0b0a8d25d421600.bindPopup%28popup_1d6697c881d04979a52baf70abd3a099%29%3B%0A%0A%20%20%20%20%20%20%20%20%20%20%20%20%0A%20%20%20%20%20%20%20%20%0A%3C/script%3E onload=\"this.contentDocument.open();this.contentDocument.write(    decodeURIComponent(this.getAttribute('data-html')));this.contentDocument.close();\" allowfullscreen webkitallowfullscreen mozallowfullscreen></iframe></div></div>"
      ],
      "text/plain": [
       "<folium.folium.Map at 0x7f564f4d1eb8>"
      ]
     },
     "execution_count": 183,
     "metadata": {},
     "output_type": "execute_result"
    }
   ],
   "source": [
    "# Set cluster as Label number\n",
    "kclusters = len(toronto.Label.unique())\n",
    "\n",
    "#Create map using coordinates\n",
    "toronto_map = folium.Map(location=[latitude, longitude], zoom_start=11)\n",
    "\n",
    "#Set color for clusters(boroughs)\n",
    "x = np.arange(kclusters)\n",
    "ys = [i + x +(i*x)**2 for i in range(kclusters)]\n",
    "colors_array = cm.rainbow(np.linspace(0, 1, len(ys)))\n",
    "rainbow = [colors.rgb2hex(i) for i in colors_array]\n",
    "\n",
    "# Add markers to map\n",
    "markers_colors = []\n",
    "for lat, lon, cluster in zip(toronto['Latitude'], toronto['Longitude'], toronto['Label']):\n",
    "    label = folium.Popup(str(toronto['Borough'])+ 'Cluster' + str(cluster), parse_html=True)\n",
    "    folium.CircleMarker(\n",
    "        [lat, lon],\n",
    "        radius=5,\n",
    "        popup=label,\n",
    "        color=rainbow[cluster-1],\n",
    "        fill=True,\n",
    "        fill_color=rainbow[cluster-1],\n",
    "        fill_opacity=0.7,\n",
    "        parse_html=False).add_to(toronto_map)  \n",
    "\n",
    "#Display map with 5 clustering\n",
    "toronto_map"
   ]
  },
  {
   "cell_type": "code",
   "execution_count": null,
   "metadata": {},
   "outputs": [],
   "source": []
  }
 ],
 "metadata": {
  "kernelspec": {
   "display_name": "Python",
   "language": "python",
   "name": "conda-env-python-py"
  },
  "language_info": {
   "codemirror_mode": {
    "name": "ipython",
    "version": 3
   },
   "file_extension": ".py",
   "mimetype": "text/x-python",
   "name": "python",
   "nbconvert_exporter": "python",
   "pygments_lexer": "ipython3",
   "version": "3.6.12"
  }
 },
 "nbformat": 4,
 "nbformat_minor": 4
}
